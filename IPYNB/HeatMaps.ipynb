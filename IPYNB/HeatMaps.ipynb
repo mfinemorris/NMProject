{
 "metadata": {
  "name": "",
  "signature": "sha256:2c819b3489a41ff909fd41e3eab9b0a518b9da089f6811d8936eb54062f13c45"
 },
 "nbformat": 3,
 "nbformat_minor": 0,
 "worksheets": [
  {
   "cells": [
    {
     "cell_type": "heading",
     "level": 1,
     "metadata": {},
     "source": [
      "Heat Maps"
     ]
    },
    {
     "cell_type": "markdown",
     "metadata": {},
     "source": [
      "Make heatmaps of different timeseries statistics (Burst Duration, Interburst Interval, etc) using functions from NMAPlots. "
     ]
    },
    {
     "cell_type": "code",
     "collapsed": false,
     "input": [
      "import matplotlib.pyplot as plt\n",
      "import numpy as np\n",
      "import pandas as pd\n",
      "#import copy\n",
      "import os, sys, re\n",
      "import NMUtility, NMAPlots\n",
      "#from NMAPlots import heatmap_from_array, heatmap_from_dataframe, show_values"
     ],
     "language": "python",
     "metadata": {
      "run_control": {
       "read_only": false
      }
     },
     "outputs": [],
     "prompt_number": 1
    },
    {
     "cell_type": "heading",
     "level": 1,
     "metadata": {},
     "source": [
      "PREPROCESS DATA"
     ]
    },
    {
     "cell_type": "heading",
     "level": 2,
     "metadata": {},
     "source": [
      "LOAD DATA"
     ]
    },
    {
     "cell_type": "code",
     "collapsed": false,
     "input": [
      "directory = '/Users/morganfine-morris/Documents/Repos/NMProject/Paper/Data and Analysis/short TB Yan/BASS Output'#'/volumes/NO NAME/Analysis'\n",
      "files = [x for x in os.listdir(directory) if 'csv' in x]\n",
      "os.path.isdir(directory)"
     ],
     "language": "python",
     "metadata": {
      "run_control": {
       "read_only": false
      }
     },
     "outputs": [
      {
       "metadata": {},
       "output_type": "pyout",
       "prompt_number": 2,
       "text": [
        "True"
       ]
      }
     ],
     "prompt_number": 2
    },
    {
     "cell_type": "code",
     "collapsed": false,
     "input": [
      "burst_res = [i for i in files if 'Bursts_Results_Summary' in i]\n",
      "csv_t,csv_y = burst_res\n",
      "print burst_res\n",
      "\n",
      "fullpath_y = os.path.join(directory, csv_y)\n",
      "fullpath_t = os.path.join(directory, csv_t)\n",
      "print fullpath_y, '\\n',fullpath_t\n",
      "\n",
      "table_y = pd.DataFrame.from_csv(fullpath_y)\n",
      "table_t= pd.DataFrame.from_csv(fullpath_t)\n",
      "paramsets = set(table_y.index+table_t.index)\n",
      "\n",
      "#extract mean values\n",
      "all_measures_y = NMUtility.select_by_stat_type(table_y, stat_type='mean').fillna(0)\n",
      "all_measures_t = NMUtility.select_by_stat_type(table_t, stat_type='mean').fillna(0)\n",
      "choices = all_measures_y.keys().values\n",
      "all_measures_y"
     ],
     "language": "python",
     "metadata": {
      "run_control": {
       "read_only": false
      }
     },
     "outputs": [
      {
       "output_type": "stream",
       "stream": "stdout",
       "text": [
        "['TB_all_gnap_eL.csv_Bursts_Results_Summary.csv', 'Yan_all_gnap_eL.csv_Bursts_Results_Summary.csv']\n",
        "/Users/morganfine-morris/Documents/Repos/NMProject/Paper/Data and Analysis/short TB Yan/BASS Output/Yan_all_gnap_eL.csv_Bursts_Results_Summary.csv \n",
        "/Users/morganfine-morris/Documents/Repos/NMProject/Paper/Data and Analysis/short TB Yan/BASS Output/TB_all_gnap_eL.csv_Bursts_Results_Summary.csv\n"
       ]
      },
      {
       "html": [
        "<div style=\"max-height:1000px;max-width:1500px;overflow:auto;\">\n",
        "<table border=\"1\" class=\"dataframe\">\n",
        "  <thead>\n",
        "    <tr style=\"text-align: right;\">\n",
        "      <th></th>\n",
        "      <th>Burst Duration</th>\n",
        "      <th>Interburst Interval</th>\n",
        "      <th>Total Cycle Time</th>\n",
        "      <th>Peaks per Burst</th>\n",
        "      <th>Intraburst Frequency</th>\n",
        "    </tr>\n",
        "  </thead>\n",
        "  <tbody>\n",
        "    <tr>\n",
        "      <th>eL=-55.0 gnaps=1.8</th>\n",
        "      <td> 1.011908</td>\n",
        "      <td> 2.715760</td>\n",
        "      <td> 3.727709</td>\n",
        "      <td> 38.123457</td>\n",
        "      <td> 37.743394</td>\n",
        "    </tr>\n",
        "    <tr>\n",
        "      <th>eL=-55.0 gnaps=2.4</th>\n",
        "      <td> 1.848286</td>\n",
        "      <td> 1.876744</td>\n",
        "      <td> 3.725047</td>\n",
        "      <td> 49.308642</td>\n",
        "      <td> 26.715041</td>\n",
        "    </tr>\n",
        "    <tr>\n",
        "      <th>eL=-55.0 gnaps=3.0</th>\n",
        "      <td> 2.332272</td>\n",
        "      <td> 1.387140</td>\n",
        "      <td> 3.719365</td>\n",
        "      <td> 60.419753</td>\n",
        "      <td> 26.012415</td>\n",
        "    </tr>\n",
        "    <tr>\n",
        "      <th>eL=-55.0 gnaps=3.6</th>\n",
        "      <td> 2.669849</td>\n",
        "      <td> 1.045905</td>\n",
        "      <td> 3.715721</td>\n",
        "      <td> 71.407407</td>\n",
        "      <td> 26.900815</td>\n",
        "    </tr>\n",
        "    <tr>\n",
        "      <th>eL=-55.0 gnaps=4.2</th>\n",
        "      <td> 2.887633</td>\n",
        "      <td> 0.825758</td>\n",
        "      <td> 3.713210</td>\n",
        "      <td> 81.271605</td>\n",
        "      <td> 28.351038</td>\n",
        "    </tr>\n",
        "    <tr>\n",
        "      <th>eL=-60.0 gnaps=1.8</th>\n",
        "      <td> 0.387687</td>\n",
        "      <td> 3.340912</td>\n",
        "      <td> 3.728595</td>\n",
        "      <td> 28.901235</td>\n",
        "      <td> 74.538920</td>\n",
        "    </tr>\n",
        "    <tr>\n",
        "      <th>eL=-60.0 gnaps=2.4</th>\n",
        "      <td> 0.645440</td>\n",
        "      <td> 3.080207</td>\n",
        "      <td> 3.725610</td>\n",
        "      <td> 37.950617</td>\n",
        "      <td> 58.907200</td>\n",
        "    </tr>\n",
        "    <tr>\n",
        "      <th>eL=-60.0 gnaps=3.0</th>\n",
        "      <td> 1.268767</td>\n",
        "      <td> 2.450862</td>\n",
        "      <td> 3.719524</td>\n",
        "      <td> 46.987654</td>\n",
        "      <td> 37.262101</td>\n",
        "    </tr>\n",
        "    <tr>\n",
        "      <th>eL=-60.0 gnaps=3.6</th>\n",
        "      <td> 1.776314</td>\n",
        "      <td> 1.943853</td>\n",
        "      <td> 3.719870</td>\n",
        "      <td> 53.851852</td>\n",
        "      <td> 30.442716</td>\n",
        "    </tr>\n",
        "    <tr>\n",
        "      <th>eL=-60.0 gnaps=4.2</th>\n",
        "      <td> 2.088798</td>\n",
        "      <td> 1.632268</td>\n",
        "      <td> 3.720954</td>\n",
        "      <td> 60.234568</td>\n",
        "      <td> 28.908446</td>\n",
        "    </tr>\n",
        "    <tr>\n",
        "      <th>eL=-65.0 gnaps=1.8</th>\n",
        "      <td> 0.344249</td>\n",
        "      <td> 3.384449</td>\n",
        "      <td> 3.728684</td>\n",
        "      <td> 25.765432</td>\n",
        "      <td> 74.720563</td>\n",
        "    </tr>\n",
        "    <tr>\n",
        "      <th>eL=-65.0 gnaps=2.4</th>\n",
        "      <td> 0.396545</td>\n",
        "      <td> 3.332157</td>\n",
        "      <td> 3.728680</td>\n",
        "      <td> 33.790123</td>\n",
        "      <td> 85.145140</td>\n",
        "    </tr>\n",
        "    <tr>\n",
        "      <th>eL=-65.0 gnaps=3.0</th>\n",
        "      <td> 0.454562</td>\n",
        "      <td> 3.273519</td>\n",
        "      <td> 3.728059</td>\n",
        "      <td> 41.802469</td>\n",
        "      <td> 91.917711</td>\n",
        "    </tr>\n",
        "    <tr>\n",
        "      <th>eL=-65.0 gnaps=3.6</th>\n",
        "      <td> 0.662073</td>\n",
        "      <td> 3.063681</td>\n",
        "      <td> 3.725459</td>\n",
        "      <td> 55.123457</td>\n",
        "      <td> 83.343316</td>\n",
        "    </tr>\n",
        "    <tr>\n",
        "      <th>eL=-65.0 gnaps=4.2</th>\n",
        "      <td> 0.966225</td>\n",
        "      <td> 2.755195</td>\n",
        "      <td> 3.721315</td>\n",
        "      <td> 67.790123</td>\n",
        "      <td> 70.299196</td>\n",
        "    </tr>\n",
        "  </tbody>\n",
        "</table>\n",
        "</div>"
       ],
       "metadata": {},
       "output_type": "pyout",
       "prompt_number": 65,
       "text": [
        "                    Burst Duration  Interburst Interval  Total Cycle Time  \\\n",
        "eL=-55.0 gnaps=1.8        1.011908             2.715760          3.727709   \n",
        "eL=-55.0 gnaps=2.4        1.848286             1.876744          3.725047   \n",
        "eL=-55.0 gnaps=3.0        2.332272             1.387140          3.719365   \n",
        "eL=-55.0 gnaps=3.6        2.669849             1.045905          3.715721   \n",
        "eL=-55.0 gnaps=4.2        2.887633             0.825758          3.713210   \n",
        "eL=-60.0 gnaps=1.8        0.387687             3.340912          3.728595   \n",
        "eL=-60.0 gnaps=2.4        0.645440             3.080207          3.725610   \n",
        "eL=-60.0 gnaps=3.0        1.268767             2.450862          3.719524   \n",
        "eL=-60.0 gnaps=3.6        1.776314             1.943853          3.719870   \n",
        "eL=-60.0 gnaps=4.2        2.088798             1.632268          3.720954   \n",
        "eL=-65.0 gnaps=1.8        0.344249             3.384449          3.728684   \n",
        "eL=-65.0 gnaps=2.4        0.396545             3.332157          3.728680   \n",
        "eL=-65.0 gnaps=3.0        0.454562             3.273519          3.728059   \n",
        "eL=-65.0 gnaps=3.6        0.662073             3.063681          3.725459   \n",
        "eL=-65.0 gnaps=4.2        0.966225             2.755195          3.721315   \n",
        "\n",
        "                    Peaks per Burst  Intraburst Frequency  \n",
        "eL=-55.0 gnaps=1.8        38.123457             37.743394  \n",
        "eL=-55.0 gnaps=2.4        49.308642             26.715041  \n",
        "eL=-55.0 gnaps=3.0        60.419753             26.012415  \n",
        "eL=-55.0 gnaps=3.6        71.407407             26.900815  \n",
        "eL=-55.0 gnaps=4.2        81.271605             28.351038  \n",
        "eL=-60.0 gnaps=1.8        28.901235             74.538920  \n",
        "eL=-60.0 gnaps=2.4        37.950617             58.907200  \n",
        "eL=-60.0 gnaps=3.0        46.987654             37.262101  \n",
        "eL=-60.0 gnaps=3.6        53.851852             30.442716  \n",
        "eL=-60.0 gnaps=4.2        60.234568             28.908446  \n",
        "eL=-65.0 gnaps=1.8        25.765432             74.720563  \n",
        "eL=-65.0 gnaps=2.4        33.790123             85.145140  \n",
        "eL=-65.0 gnaps=3.0        41.802469             91.917711  \n",
        "eL=-65.0 gnaps=3.6        55.123457             83.343316  \n",
        "eL=-65.0 gnaps=4.2        67.790123             70.299196  "
       ]
      }
     ],
     "prompt_number": 65
    },
    {
     "cell_type": "code",
     "collapsed": false,
     "input": [
      "peak_res = [i for i in files if 'Peaks_Results_Summary' in i]\n",
      "csv_t,csv_y = peak_res\n",
      "print peak_res,'\\n'\n",
      "\n",
      "# extract data from files and get paramsets\n",
      "fullpath_y = os.path.join(directory, csv_y)\n",
      "fullpath_t = os.path.join(directory, csv_t)\n",
      "print fullpath_y, '\\n',fullpath_t\n",
      "\n",
      "table_y = pd.DataFrame.from_csv(fullpath_y)\n",
      "table_t= pd.DataFrame.from_csv(fullpath_t)\n",
      "paramsets = set(table_y.index+table_t.index)\n",
      "\n",
      "#extract mean values\n",
      "all_measures_y = NMUtility.select_by_stat_type(table_y, remove_cols=[], stat_type='mean').fillna(0)\n",
      "all_measures_t = NMUtility.select_by_stat_type(table_t, remove_cols=[], stat_type='mean').fillna(0)\n",
      "choices = all_measures_y.keys().values\n",
      "all_measures_y"
     ],
     "language": "python",
     "metadata": {
      "run_control": {
       "read_only": false
      }
     },
     "outputs": [
      {
       "output_type": "stream",
       "stream": "stdout",
       "text": [
        "['TB_all_gnap_eL.csv_Peaks_Results_Summary.csv', 'Yan_all_gnap_eL.csv_Peaks_Results_Summary.csv'] \n",
        "\n",
        "/Users/morganfine-morris/Documents/Repos/NMProject/Paper/Data and Analysis/short TB Yan/BASS Output/Yan_all_gnap_eL.csv_Peaks_Results_Summary.csv \n",
        "/Users/morganfine-morris/Documents/Repos/NMProject/Paper/Data and Analysis/short TB Yan/BASS Output/TB_all_gnap_eL.csv_Peaks_Results_Summary.csv\n"
       ]
      },
      {
       "html": [
        "<div style=\"max-height:1000px;max-width:1500px;overflow:auto;\">\n",
        "<table border=\"1\" class=\"dataframe\">\n",
        "  <thead>\n",
        "    <tr style=\"text-align: right;\">\n",
        "      <th></th>\n",
        "      <th>Peaks Amplitude</th>\n",
        "      <th>Intervals</th>\n",
        "    </tr>\n",
        "  </thead>\n",
        "  <tbody>\n",
        "    <tr>\n",
        "      <th>eL=-50.0 gnaps=1.8</th>\n",
        "      <td> 5.301573</td>\n",
        "      <td> 0.036091</td>\n",
        "    </tr>\n",
        "    <tr>\n",
        "      <th>eL=-50.0 gnaps=2.4</th>\n",
        "      <td> 5.324350</td>\n",
        "      <td> 0.030820</td>\n",
        "    </tr>\n",
        "    <tr>\n",
        "      <th>eL=-50.0 gnaps=3.0</th>\n",
        "      <td> 5.341519</td>\n",
        "      <td> 0.027515</td>\n",
        "    </tr>\n",
        "    <tr>\n",
        "      <th>eL=-50.0 gnaps=3.6</th>\n",
        "      <td> 5.353933</td>\n",
        "      <td> 0.025197</td>\n",
        "    </tr>\n",
        "    <tr>\n",
        "      <th>eL=-50.0 gnaps=4.2</th>\n",
        "      <td> 5.363130</td>\n",
        "      <td> 0.023456</td>\n",
        "    </tr>\n",
        "    <tr>\n",
        "      <th>eL=-55.0 gnaps=1.8</th>\n",
        "      <td> 5.292781</td>\n",
        "      <td> 0.096929</td>\n",
        "    </tr>\n",
        "    <tr>\n",
        "      <th>eL=-55.0 gnaps=2.4</th>\n",
        "      <td> 5.333102</td>\n",
        "      <td> 0.075093</td>\n",
        "    </tr>\n",
        "    <tr>\n",
        "      <th>eL=-55.0 gnaps=3.0</th>\n",
        "      <td> 5.361544</td>\n",
        "      <td> 0.061288</td>\n",
        "    </tr>\n",
        "    <tr>\n",
        "      <th>eL=-55.0 gnaps=3.6</th>\n",
        "      <td> 5.381046</td>\n",
        "      <td> 0.051863</td>\n",
        "    </tr>\n",
        "    <tr>\n",
        "      <th>eL=-55.0 gnaps=4.2</th>\n",
        "      <td> 5.395216</td>\n",
        "      <td> 0.045572</td>\n",
        "    </tr>\n",
        "    <tr>\n",
        "      <th>eL=-60.0 gnaps=1.8</th>\n",
        "      <td> 5.309102</td>\n",
        "      <td> 0.127637</td>\n",
        "    </tr>\n",
        "    <tr>\n",
        "      <th>eL=-60.0 gnaps=2.4</th>\n",
        "      <td> 5.358385</td>\n",
        "      <td> 0.097199</td>\n",
        "    </tr>\n",
        "    <tr>\n",
        "      <th>eL=-60.0 gnaps=3.0</th>\n",
        "      <td> 5.436130</td>\n",
        "      <td> 0.078537</td>\n",
        "    </tr>\n",
        "    <tr>\n",
        "      <th>eL=-60.0 gnaps=3.6</th>\n",
        "      <td> 5.463040</td>\n",
        "      <td> 0.068651</td>\n",
        "    </tr>\n",
        "    <tr>\n",
        "      <th>eL=-60.0 gnaps=4.2</th>\n",
        "      <td> 5.487705</td>\n",
        "      <td> 0.061453</td>\n",
        "    </tr>\n",
        "    <tr>\n",
        "      <th>eL=-65.0 gnaps=1.8</th>\n",
        "      <td> 5.353384</td>\n",
        "      <td> 0.143162</td>\n",
        "    </tr>\n",
        "    <tr>\n",
        "      <th>eL=-65.0 gnaps=2.4</th>\n",
        "      <td> 4.924860</td>\n",
        "      <td> 0.109170</td>\n",
        "    </tr>\n",
        "    <tr>\n",
        "      <th>eL=-65.0 gnaps=3.0</th>\n",
        "      <td> 4.695717</td>\n",
        "      <td> 0.088241</td>\n",
        "    </tr>\n",
        "    <tr>\n",
        "      <th>eL=-65.0 gnaps=3.6</th>\n",
        "      <td> 5.129265</td>\n",
        "      <td> 0.066917</td>\n",
        "    </tr>\n",
        "    <tr>\n",
        "      <th>eL=-65.0 gnaps=4.2</th>\n",
        "      <td> 5.460252</td>\n",
        "      <td> 0.054404</td>\n",
        "    </tr>\n",
        "  </tbody>\n",
        "</table>\n",
        "</div>"
       ],
       "metadata": {},
       "output_type": "pyout",
       "prompt_number": 67,
       "text": [
        "                    Peaks Amplitude  Intervals\n",
        "eL=-50.0 gnaps=1.8         5.301573   0.036091\n",
        "eL=-50.0 gnaps=2.4         5.324350   0.030820\n",
        "eL=-50.0 gnaps=3.0         5.341519   0.027515\n",
        "eL=-50.0 gnaps=3.6         5.353933   0.025197\n",
        "eL=-50.0 gnaps=4.2         5.363130   0.023456\n",
        "eL=-55.0 gnaps=1.8         5.292781   0.096929\n",
        "eL=-55.0 gnaps=2.4         5.333102   0.075093\n",
        "eL=-55.0 gnaps=3.0         5.361544   0.061288\n",
        "eL=-55.0 gnaps=3.6         5.381046   0.051863\n",
        "eL=-55.0 gnaps=4.2         5.395216   0.045572\n",
        "eL=-60.0 gnaps=1.8         5.309102   0.127637\n",
        "eL=-60.0 gnaps=2.4         5.358385   0.097199\n",
        "eL=-60.0 gnaps=3.0         5.436130   0.078537\n",
        "eL=-60.0 gnaps=3.6         5.463040   0.068651\n",
        "eL=-60.0 gnaps=4.2         5.487705   0.061453\n",
        "eL=-65.0 gnaps=1.8         5.353384   0.143162\n",
        "eL=-65.0 gnaps=2.4         4.924860   0.109170\n",
        "eL=-65.0 gnaps=3.0         4.695717   0.088241\n",
        "eL=-65.0 gnaps=3.6         5.129265   0.066917\n",
        "eL=-65.0 gnaps=4.2         5.460252   0.054404"
       ]
      }
     ],
     "prompt_number": 67
    },
    {
     "cell_type": "heading",
     "level": 2,
     "metadata": {},
     "source": [
      "REINDEX DATA (OPTIONAL)"
     ]
    },
    {
     "cell_type": "code",
     "collapsed": false,
     "input": [
      "#optional\n",
      "#if necessary, this is where you can adjust the row keys\n",
      "def re_index(key): \n",
      "    r = re.compile(\"([a-zA-Z]+)([\\-][\\d+.\\d+]+|[\\d+.\\d+]+)\")\n",
      "\n",
      "    p1KEY, p2KEY = [i.replace(\"=\",\"\") for i in key.split(\" \")]\n",
      "\n",
      "    #name1, p1_val = r.match(p1KEY).groups()\n",
      "    #name2, p2_val = r.match(p2KEY).groups()\n",
      "    #return p1_val+name1+\" \"+p2_val+name2\n",
      "    return p1KEY+\" \"+p2KEY\n",
      "try:\n",
      "    all_measures_y.rename(re_index,inplace=True)\n",
      "except:\n",
      "    print \"Could not reindex table\"\n",
      "try:\n",
      "    all_measures_t.rename(re_index,inplace=True)\n",
      "except:\n",
      "    print \"Could not reindex table\"\n",
      "all_measures_t"
     ],
     "language": "python",
     "metadata": {
      "run_control": {
       "read_only": false
      }
     },
     "outputs": [
      {
       "html": [
        "<div style=\"max-height:1000px;max-width:1500px;overflow:auto;\">\n",
        "<table border=\"1\" class=\"dataframe\">\n",
        "  <thead>\n",
        "    <tr style=\"text-align: right;\">\n",
        "      <th></th>\n",
        "      <th>Peaks Amplitude</th>\n",
        "      <th>Intervals</th>\n",
        "    </tr>\n",
        "  </thead>\n",
        "  <tbody>\n",
        "    <tr>\n",
        "      <th>eL-50.0 gnaps1.8</th>\n",
        "      <td> 5.343908</td>\n",
        "      <td> 0.056455</td>\n",
        "    </tr>\n",
        "    <tr>\n",
        "      <th>eL-50.0 gnaps2.4</th>\n",
        "      <td> 5.369024</td>\n",
        "      <td> 0.044810</td>\n",
        "    </tr>\n",
        "    <tr>\n",
        "      <th>eL-50.0 gnaps3.0</th>\n",
        "      <td> 5.386907</td>\n",
        "      <td> 0.037646</td>\n",
        "    </tr>\n",
        "    <tr>\n",
        "      <th>eL-50.0 gnaps3.6</th>\n",
        "      <td> 5.402220</td>\n",
        "      <td> 0.032944</td>\n",
        "    </tr>\n",
        "    <tr>\n",
        "      <th>eL-50.0 gnaps4.2</th>\n",
        "      <td> 5.414091</td>\n",
        "      <td> 0.029695</td>\n",
        "    </tr>\n",
        "    <tr>\n",
        "      <th>eL-55.0 gnaps1.8</th>\n",
        "      <td> 5.355536</td>\n",
        "      <td> 0.108557</td>\n",
        "    </tr>\n",
        "    <tr>\n",
        "      <th>eL-55.0 gnaps2.4</th>\n",
        "      <td> 5.400456</td>\n",
        "      <td> 0.085667</td>\n",
        "    </tr>\n",
        "    <tr>\n",
        "      <th>eL-55.0 gnaps3.0</th>\n",
        "      <td> 5.434182</td>\n",
        "      <td> 0.070079</td>\n",
        "    </tr>\n",
        "    <tr>\n",
        "      <th>eL-55.0 gnaps3.6</th>\n",
        "      <td> 5.458374</td>\n",
        "      <td> 0.060168</td>\n",
        "    </tr>\n",
        "    <tr>\n",
        "      <th>eL-55.0 gnaps4.2</th>\n",
        "      <td> 5.473983</td>\n",
        "      <td> 0.052513</td>\n",
        "    </tr>\n",
        "    <tr>\n",
        "      <th>eL-60.0 gnaps1.8</th>\n",
        "      <td> 5.333117</td>\n",
        "      <td> 0.127972</td>\n",
        "    </tr>\n",
        "    <tr>\n",
        "      <th>eL-60.0 gnaps2.4</th>\n",
        "      <td> 5.260751</td>\n",
        "      <td> 0.100131</td>\n",
        "    </tr>\n",
        "    <tr>\n",
        "      <th>eL-60.0 gnaps3.0</th>\n",
        "      <td> 5.514887</td>\n",
        "      <td> 0.074056</td>\n",
        "    </tr>\n",
        "    <tr>\n",
        "      <th>eL-60.0 gnaps3.6</th>\n",
        "      <td> 5.584085</td>\n",
        "      <td> 0.063788</td>\n",
        "    </tr>\n",
        "    <tr>\n",
        "      <th>eL-60.0 gnaps4.2</th>\n",
        "      <td> 5.504330</td>\n",
        "      <td> 0.057838</td>\n",
        "    </tr>\n",
        "    <tr>\n",
        "      <th>eL-65.0 gnaps1.8</th>\n",
        "      <td> 5.415233</td>\n",
        "      <td> 0.149159</td>\n",
        "    </tr>\n",
        "    <tr>\n",
        "      <th>eL-65.0 gnaps2.4</th>\n",
        "      <td> 4.800319</td>\n",
        "      <td> 0.109323</td>\n",
        "    </tr>\n",
        "    <tr>\n",
        "      <th>eL-65.0 gnaps3.0</th>\n",
        "      <td> 4.125774</td>\n",
        "      <td> 0.088353</td>\n",
        "    </tr>\n",
        "    <tr>\n",
        "      <th>eL-65.0 gnaps3.6</th>\n",
        "      <td> 3.648401</td>\n",
        "      <td> 0.073446</td>\n",
        "    </tr>\n",
        "    <tr>\n",
        "      <th>eL-65.0 gnaps4.2</th>\n",
        "      <td> 3.869968</td>\n",
        "      <td> 0.058868</td>\n",
        "    </tr>\n",
        "  </tbody>\n",
        "</table>\n",
        "</div>"
       ],
       "metadata": {},
       "output_type": "pyout",
       "prompt_number": 54,
       "text": [
        "                  Peaks Amplitude  Intervals\n",
        "eL-50.0 gnaps1.8         5.343908   0.056455\n",
        "eL-50.0 gnaps2.4         5.369024   0.044810\n",
        "eL-50.0 gnaps3.0         5.386907   0.037646\n",
        "eL-50.0 gnaps3.6         5.402220   0.032944\n",
        "eL-50.0 gnaps4.2         5.414091   0.029695\n",
        "eL-55.0 gnaps1.8         5.355536   0.108557\n",
        "eL-55.0 gnaps2.4         5.400456   0.085667\n",
        "eL-55.0 gnaps3.0         5.434182   0.070079\n",
        "eL-55.0 gnaps3.6         5.458374   0.060168\n",
        "eL-55.0 gnaps4.2         5.473983   0.052513\n",
        "eL-60.0 gnaps1.8         5.333117   0.127972\n",
        "eL-60.0 gnaps2.4         5.260751   0.100131\n",
        "eL-60.0 gnaps3.0         5.514887   0.074056\n",
        "eL-60.0 gnaps3.6         5.584085   0.063788\n",
        "eL-60.0 gnaps4.2         5.504330   0.057838\n",
        "eL-65.0 gnaps1.8         5.415233   0.149159\n",
        "eL-65.0 gnaps2.4         4.800319   0.109323\n",
        "eL-65.0 gnaps3.0         4.125774   0.088353\n",
        "eL-65.0 gnaps3.6         3.648401   0.073446\n",
        "eL-65.0 gnaps4.2         3.869968   0.058868"
       ]
      }
     ],
     "prompt_number": 54
    },
    {
     "cell_type": "heading",
     "level": 2,
     "metadata": {},
     "source": [
      "REGROUP (OPTIONAL)"
     ]
    },
    {
     "cell_type": "code",
     "collapsed": false,
     "input": [
      "#regoup\n",
      "def regroup(col1, col2, col_labels=['yan','tb'],fill_val=0):\n",
      "    single_measure = pd.concat([col1,col2],axis=1,keys=col_labels).fillna(fill_val)\n",
      "    return single_measure\n",
      "\n",
      "def regroup_all(all_measures1,all_measures2):\n",
      "    #### regroup by measure. Not using because I can't figure out how to scale the colorbar for two heat maps\n",
      "    # group so that measures are each in own data frame with the the model names as the columns \n",
      "    group_by_meas = {}\n",
      "    for k in all_measures1:\n",
      "        y,t = all_measures1[k],all_measures2[k]\n",
      "        single_measure = pd.concat([y,t],axis=1,keys=['yan','tb']).fillna(0)\n",
      "        group_by_meas[k] = single_measure\n",
      "    return group_by_meas\n",
      "\n",
      "group_by_meas = regroup_all(all_measures_y,all_measures_t)\n",
      "choices = group_by_meas.keys()"
     ],
     "language": "python",
     "metadata": {
      "run_control": {
       "read_only": false
      }
     },
     "outputs": [],
     "prompt_number": 55
    },
    {
     "cell_type": "heading",
     "level": 2,
     "metadata": {},
     "source": [
      "CHOOSE A MEASUREMENT"
     ]
    },
    {
     "cell_type": "code",
     "collapsed": false,
     "input": [
      "print \"Possible choices:\"\n",
      "list(enumerate(choices))"
     ],
     "language": "python",
     "metadata": {
      "run_control": {
       "read_only": false
      }
     },
     "outputs": [
      {
       "output_type": "stream",
       "stream": "stdout",
       "text": [
        "Possible choices:\n"
       ]
      },
      {
       "metadata": {},
       "output_type": "pyout",
       "prompt_number": 56,
       "text": [
        "[(0, 'Peaks Amplitude'), (1, 'Intervals')]"
       ]
      }
     ],
     "prompt_number": 56
    },
    {
     "cell_type": "code",
     "collapsed": false,
     "input": [
      "key = choices[1]\n",
      "key"
     ],
     "language": "python",
     "metadata": {
      "run_control": {
       "read_only": false
      }
     },
     "outputs": [
      {
       "metadata": {},
       "output_type": "pyout",
       "prompt_number": 61,
       "text": [
        "'Intervals'"
       ]
      }
     ],
     "prompt_number": 61
    },
    {
     "cell_type": "heading",
     "level": 2,
     "metadata": {},
     "source": [
      "MAKE FRAMES"
     ]
    },
    {
     "cell_type": "code",
     "collapsed": false,
     "input": [
      "# make frames\n",
      "frame_y = NMUtility.make_frame(all_measures_y[key]).fillna(0)\n",
      "frame_t = NMUtility.make_frame(all_measures_t[key]).fillna(0)\n",
      "print frame_y\n",
      "print frame_t"
     ],
     "language": "python",
     "metadata": {
      "run_control": {
       "read_only": false
      }
     },
     "outputs": [
      {
       "output_type": "stream",
       "stream": "stdout",
       "text": [
        "          -65       -60       -55       -50\n",
        "1.8  0.143162  0.127637  0.096929  0.036091\n",
        "2.4  0.109170  0.097199  0.075093  0.030820\n",
        "3.0  0.088241  0.078537  0.061288  0.027515\n",
        "3.6  0.066917  0.068651  0.051863  0.025197\n",
        "4.2  0.054404  0.061453  0.045572  0.023456\n",
        "          -65       -60       -55       -50\n",
        "1.8  0.149159  0.127972  0.108557  0.056455\n",
        "2.4  0.109323  0.100131  0.085667  0.044810\n",
        "3.0  0.088353  0.074056  0.070079  0.037646\n",
        "3.6  0.073446  0.063788  0.060168  0.032944\n",
        "4.2  0.058868  0.057838  0.052513  0.029695\n"
       ]
      }
     ],
     "prompt_number": 62
    },
    {
     "cell_type": "heading",
     "level": 4,
     "metadata": {},
     "source": [
      "ADD ZEROED COLS (OPTIONAL)"
     ]
    },
    {
     "cell_type": "code",
     "collapsed": false,
     "input": [
      "def add_zeroed_cols(frame, col_keys = [-50.0]):\n",
      "    for col in col_keys:\n",
      "        zd = np.zeros((len(frame.index),1))\n",
      "        try:\n",
      "            if frame.get(col):\n",
      "                pass\n",
      "            frame[col] = zd\n",
      "        except ValueError:\n",
      "            print col, \"already exists\"\n",
      "            continue\n",
      "        except Exception as e:\n",
      "            print \"Could not add zero column\", col, \"because\", e\n",
      "            continue\n",
      "    return frame\n",
      "frame_y = add_zeroed_cols(frame_y,col_keys=[-50.0])\n",
      "frame_y"
     ],
     "language": "python",
     "metadata": {},
     "outputs": [
      {
       "output_type": "stream",
       "stream": "stdout",
       "text": [
        "-50.0 already exists\n"
       ]
      },
      {
       "html": [
        "<div style=\"max-height:1000px;max-width:1500px;overflow:auto;\">\n",
        "<table border=\"1\" class=\"dataframe\">\n",
        "  <thead>\n",
        "    <tr style=\"text-align: right;\">\n",
        "      <th></th>\n",
        "      <th>-65.0</th>\n",
        "      <th>-60.0</th>\n",
        "      <th>-55.0</th>\n",
        "      <th>-50.0</th>\n",
        "    </tr>\n",
        "  </thead>\n",
        "  <tbody>\n",
        "    <tr>\n",
        "      <th>1.8</th>\n",
        "      <td> 25.765432</td>\n",
        "      <td> 28.901235</td>\n",
        "      <td> 38.123457</td>\n",
        "      <td> 0</td>\n",
        "    </tr>\n",
        "    <tr>\n",
        "      <th>2.4</th>\n",
        "      <td> 33.790123</td>\n",
        "      <td> 37.950617</td>\n",
        "      <td> 49.308642</td>\n",
        "      <td> 0</td>\n",
        "    </tr>\n",
        "    <tr>\n",
        "      <th>3.0</th>\n",
        "      <td> 41.802469</td>\n",
        "      <td> 46.987654</td>\n",
        "      <td> 60.419753</td>\n",
        "      <td> 0</td>\n",
        "    </tr>\n",
        "    <tr>\n",
        "      <th>3.6</th>\n",
        "      <td> 55.123457</td>\n",
        "      <td> 53.851852</td>\n",
        "      <td> 71.407407</td>\n",
        "      <td> 0</td>\n",
        "    </tr>\n",
        "    <tr>\n",
        "      <th>4.2</th>\n",
        "      <td> 67.790123</td>\n",
        "      <td> 60.234568</td>\n",
        "      <td> 81.271605</td>\n",
        "      <td> 0</td>\n",
        "    </tr>\n",
        "  </tbody>\n",
        "</table>\n",
        "</div>"
       ],
       "metadata": {},
       "output_type": "pyout",
       "prompt_number": 37,
       "text": [
        "           -65        -60        -55  -50\n",
        "1.8  25.765432  28.901235  38.123457    0\n",
        "2.4  33.790123  37.950617  49.308642    0\n",
        "3.0  41.802469  46.987654  60.419753    0\n",
        "3.6  55.123457  53.851852  71.407407    0\n",
        "4.2  67.790123  60.234568  81.271605    0"
       ]
      }
     ],
     "prompt_number": 37
    },
    {
     "cell_type": "heading",
     "level": 3,
     "metadata": {},
     "source": [
      "MAKE COMBINED FRAME"
     ]
    },
    {
     "cell_type": "code",
     "collapsed": false,
     "input": [
      "#change dataframe cols suffix: http://stackoverflow.com/questions/21588811/pandas-join-dataframe-force-suffix\n",
      "fy = NMUtility.make_frame(group_by_meas[key].yan).fillna(0)\n",
      "fy.columns = [str(i)+\"(y)\"for i in fy.columns]\n",
      "\n",
      "ft = NMUtility.make_frame(group_by_meas[key].tb).fillna(0)\n",
      "ft.columns = [str(i)+\"(t)\"for i in ft.columns]\n",
      "\n",
      "fcombined = pd.concat([fy,ft],axis=1)\n",
      "fcombined"
     ],
     "language": "python",
     "metadata": {},
     "outputs": [
      {
       "html": [
        "<div style=\"max-height:1000px;max-width:1500px;overflow:auto;\">\n",
        "<table border=\"1\" class=\"dataframe\">\n",
        "  <thead>\n",
        "    <tr style=\"text-align: right;\">\n",
        "      <th></th>\n",
        "      <th>-65.0(y)</th>\n",
        "      <th>-60.0(y)</th>\n",
        "      <th>-55.0(y)</th>\n",
        "      <th>-50.0(y)</th>\n",
        "      <th>-65.0(t)</th>\n",
        "      <th>-60.0(t)</th>\n",
        "      <th>-55.0(t)</th>\n",
        "      <th>-50.0(t)</th>\n",
        "    </tr>\n",
        "  </thead>\n",
        "  <tbody>\n",
        "    <tr>\n",
        "      <th>1.8</th>\n",
        "      <td> 0.143162</td>\n",
        "      <td> 0.127637</td>\n",
        "      <td> 0.096929</td>\n",
        "      <td> 0.036091</td>\n",
        "      <td> 0.149159</td>\n",
        "      <td> 0.127972</td>\n",
        "      <td> 0.108557</td>\n",
        "      <td> 0.056455</td>\n",
        "    </tr>\n",
        "    <tr>\n",
        "      <th>2.4</th>\n",
        "      <td> 0.109170</td>\n",
        "      <td> 0.097199</td>\n",
        "      <td> 0.075093</td>\n",
        "      <td> 0.030820</td>\n",
        "      <td> 0.109323</td>\n",
        "      <td> 0.100131</td>\n",
        "      <td> 0.085667</td>\n",
        "      <td> 0.044810</td>\n",
        "    </tr>\n",
        "    <tr>\n",
        "      <th>3.0</th>\n",
        "      <td> 0.088241</td>\n",
        "      <td> 0.078537</td>\n",
        "      <td> 0.061288</td>\n",
        "      <td> 0.027515</td>\n",
        "      <td> 0.088353</td>\n",
        "      <td> 0.074056</td>\n",
        "      <td> 0.070079</td>\n",
        "      <td> 0.037646</td>\n",
        "    </tr>\n",
        "    <tr>\n",
        "      <th>3.6</th>\n",
        "      <td> 0.066917</td>\n",
        "      <td> 0.068651</td>\n",
        "      <td> 0.051863</td>\n",
        "      <td> 0.025197</td>\n",
        "      <td> 0.073446</td>\n",
        "      <td> 0.063788</td>\n",
        "      <td> 0.060168</td>\n",
        "      <td> 0.032944</td>\n",
        "    </tr>\n",
        "    <tr>\n",
        "      <th>4.2</th>\n",
        "      <td> 0.054404</td>\n",
        "      <td> 0.061453</td>\n",
        "      <td> 0.045572</td>\n",
        "      <td> 0.023456</td>\n",
        "      <td> 0.058868</td>\n",
        "      <td> 0.057838</td>\n",
        "      <td> 0.052513</td>\n",
        "      <td> 0.029695</td>\n",
        "    </tr>\n",
        "  </tbody>\n",
        "</table>\n",
        "</div>"
       ],
       "metadata": {},
       "output_type": "pyout",
       "prompt_number": 63,
       "text": [
        "     -65.0(y)  -60.0(y)  -55.0(y)  -50.0(y)  -65.0(t)  -60.0(t)  -55.0(t)  \\\n",
        "1.8  0.143162  0.127637  0.096929  0.036091  0.149159  0.127972  0.108557   \n",
        "2.4  0.109170  0.097199  0.075093  0.030820  0.109323  0.100131  0.085667   \n",
        "3.0  0.088241  0.078537  0.061288  0.027515  0.088353  0.074056  0.070079   \n",
        "3.6  0.066917  0.068651  0.051863  0.025197  0.073446  0.063788  0.060168   \n",
        "4.2  0.054404  0.061453  0.045572  0.023456  0.058868  0.057838  0.052513   \n",
        "\n",
        "     -50.0(t)  \n",
        "1.8  0.056455  \n",
        "2.4  0.044810  \n",
        "3.0  0.037646  \n",
        "3.6  0.032944  \n",
        "4.2  0.029695  "
       ]
      }
     ],
     "prompt_number": 63
    },
    {
     "cell_type": "heading",
     "level": 1,
     "metadata": {},
     "source": [
      "PLOT HEATMAP FOR BOTH MODELS"
     ]
    },
    {
     "cell_type": "markdown",
     "metadata": {},
     "source": [
      "Make heatmaps of one data measure for both models so that the color axis is consistent for both. "
     ]
    },
    {
     "cell_type": "code",
     "collapsed": false,
     "input": [
      "#plot for both \n",
      "combined_max=fcombined.max().max()\n",
      "print combined_max\n",
      "\n",
      "print 'make heat plot of:'\n",
      "print fcombined\n",
      "\n",
      "ax1, cbar = NMAPlots.heatmap_from_dataframe(fcombined,vmin_vmax=(0,round(combined_max,2)))\n",
      "plt.title(key)\n",
      "plt.tight_layout()\n",
      "heatmappath = os.path.join(directory,'plots','heatmap {}.png'.format(key))\n",
      "print heatmappath\n",
      "plt.savefig(heatmappath)\n",
      "plt.show()"
     ],
     "language": "python",
     "metadata": {
      "run_control": {
       "read_only": false
      }
     },
     "outputs": [
      {
       "output_type": "stream",
       "stream": "stdout",
       "text": [
        "0.149158791209\n",
        "make heat plot of:\n",
        "     -65.0(y)  -60.0(y)  -55.0(y)  -50.0(y)  -65.0(t)  -60.0(t)  -55.0(t)  \\\n",
        "1.8  0.143162  0.127637  0.096929  0.036091  0.149159  0.127972  0.108557   \n",
        "2.4  0.109170  0.097199  0.075093  0.030820  0.109323  0.100131  0.085667   \n",
        "3.0  0.088241  0.078537  0.061288  0.027515  0.088353  0.074056  0.070079   \n",
        "3.6  0.066917  0.068651  0.051863  0.025197  0.073446  0.063788  0.060168   \n",
        "4.2  0.054404  0.061453  0.045572  0.023456  0.058868  0.057838  0.052513   \n",
        "\n",
        "     -50.0(t)  \n",
        "1.8  0.056455  \n",
        "2.4  0.044810  \n",
        "3.0  0.037646  \n",
        "3.6  0.032944  \n",
        "4.2  0.029695  \n",
        "/Users/morganfine-morris/Documents/Repos/NMProject/Paper/Data and Analysis/short TB Yan/BASS Output/plots/heatmap Intervals.png"
       ]
      },
      {
       "output_type": "stream",
       "stream": "stdout",
       "text": [
        "\n"
       ]
      }
     ],
     "prompt_number": 64
    },
    {
     "cell_type": "code",
     "collapsed": false,
     "input": [],
     "language": "python",
     "metadata": {},
     "outputs": []
    },
    {
     "cell_type": "heading",
     "level": 1,
     "metadata": {},
     "source": [
      "STOP!!!!"
     ]
    },
    {
     "cell_type": "code",
     "collapsed": false,
     "input": [
      "#load model comparison file and extract the comprison column. replace NaN with False\n",
      "model_Comp = pd.DataFrame.from_csv('model_comparison_{}.csv'.format(key))\n",
      "booleans = model_Comp['TB vs Yan p_lessthan_alpha']\n",
      "stat_sig_frame = make_frame(booleans).fillna('')\n",
      "stat_sig_frame\n",
      "\n",
      "#replace True with '*' and False with 'ns'\n",
      "starred_frame = stat_sig_frame.replace(to_replace=[False, True], value=['ns','*'])\n",
      "starred_frame\n",
      "#print booleans, type(booleans)\n",
      "\n",
      "converted=booleans.apply(convert_booleans).sort_index()\n",
      "converted#.sort()\n",
      "#reload(NMAPlots)\n",
      "def annotate_w_stat_sig(pc, fmt=\"%.2f %.2s\", data=np.array(starred_frame), **kw):\n",
      "    from itertools import izip\n",
      "    pc.update_scalarmappable()\n",
      "    ax = pc.get_axes()\n",
      "    print list(pc.get_array())\n",
      "    print list(data.flat)\n",
      "    for p, color, value, sig in izip(pc.get_paths(), pc.get_facecolors(),pc.get_array(),data.flat):\n",
      "        x, y = p.vertices[:-2, :].mean(0)\n",
      "        if np.all(color[:3] > 0.5):\n",
      "            color = (0.0, 0.0, 0.0)\n",
      "        else:\n",
      "            color = (1.0, 1.0, 1.0)\n",
      "        ax.text(x, y, fmt % (value, sig), ha=\"center\", va=\"center\", color=color, **kw)\n",
      "\n",
      "\n",
      "frame = frame_y_2\n",
      "#make heat map plot\n",
      "heat_plot = NMAPlots.heatmap_from_dataframe(frame)#annotate_function=annotate_w_stat_sig)#data, eL_labels, gnap_labels, key)\n",
      "plt.show() "
     ],
     "language": "python",
     "metadata": {},
     "outputs": []
    },
    {
     "cell_type": "code",
     "collapsed": false,
     "input": [
      "#this doesn't quite work\n",
      "fig = plt.figure()\n",
      "ax1 = fig.add_subplot(121)\n",
      "ax2 = fig.add_subplot(122)\n",
      "\n",
      "ax_y, cbar_y = NMAPlots.heatmap_from_dataframe(fy,ax1,vmin_vmax=(0,3.5))\n",
      "ax_t, cbar_t = NMAPlots.heatmap_from_dataframe(ft,ax2, vmin_vmax=(0,3.5))#,colors=plt.cm.Reds)\n",
      "cbar_t.remove()\n",
      "plt.show()"
     ],
     "language": "python",
     "metadata": {
      "run_control": {
       "read_only": false
      }
     },
     "outputs": [],
     "prompt_number": 56
    },
    {
     "cell_type": "code",
     "collapsed": false,
     "input": [
      "fig = plt.figure()\n",
      "print fig\n",
      "ax1 = fig.add_subplot(211)\n",
      "ax2 = fig.add_subplot(212)\n",
      "ax_y, cbar_y = NMAPlots.heatmap_from_dataframe(fy,ax1,vmin_vmax=(0,3.5))\n",
      "ax_t, cbar_t = NMAPlots.heatmap_from_dataframe(ft,ax2, vmin_vmax=(0,3.5))#,colors=plt.cm.Reds)\n",
      "cbar_y.remove()\n",
      "plt.show()"
     ],
     "language": "python",
     "metadata": {
      "run_control": {
       "read_only": false
      }
     },
     "outputs": [
      {
       "output_type": "stream",
       "stream": "stdout",
       "text": [
        "Figure(640x480)\n"
       ]
      }
     ],
     "prompt_number": 58
    },
    {
     "cell_type": "code",
     "collapsed": false,
     "input": [
      "def frange(start,stop,step):\n",
      "    floats = []\n",
      "    while start<stop:\n",
      "        start += step\n",
      "        print start\n",
      "        floats.append(round(start))\n",
      "    return np.around(floats)\n",
      "start = 0.\n",
      "stop = 4.\n",
      "numsteps = 10.\n",
      "step = (stop-start)/numsteps\n",
      "frange(start,stop,step)\n",
      "plt.color"
     ],
     "language": "python",
     "metadata": {
      "run_control": {
       "read_only": false
      }
     },
     "outputs": [
      {
       "output_type": "stream",
       "stream": "stdout",
       "text": [
        "0.4\n",
        "0.8\n",
        "1.2\n",
        "1.6\n",
        "2.0\n",
        "2.4\n",
        "2.8\n",
        "3.2\n",
        "3.6\n",
        "4.0\n",
        "4.4\n"
       ]
      },
      {
       "metadata": {},
       "output_type": "pyout",
       "prompt_number": 39,
       "text": [
        "array([ 0.,  1.,  1.,  2.,  2.,  2.,  3.,  3.,  4.,  4.,  4.])"
       ]
      }
     ],
     "prompt_number": 39
    },
    {
     "cell_type": "code",
     "collapsed": false,
     "input": [
      "n=10103\n",
      "print n\n",
      "print n%10\n",
      "print n/(n%10)\n",
      "log = np.log10(n%10)\n",
      "print np.log10(n)\n",
      "print log\n",
      "10**log"
     ],
     "language": "python",
     "metadata": {
      "run_control": {
       "read_only": false
      }
     },
     "outputs": [
      {
       "output_type": "stream",
       "stream": "stdout",
       "text": [
        "10103\n",
        "3\n",
        "3367\n",
        "4.00445035299\n",
        "0.47712125472\n"
       ]
      },
      {
       "metadata": {},
       "output_type": "pyout",
       "prompt_number": 67,
       "text": [
        "3.0"
       ]
      }
     ],
     "prompt_number": 67
    },
    {
     "cell_type": "code",
     "collapsed": false,
     "input": [
      "\n",
      "def frange(start, stop, nsteps):\n",
      "    #calc step size\n",
      "    diff=stop-start\n",
      "    power = np.floor(np.log10(diff))\n",
      "    print power\n",
      "    if power == 0:\n",
      "        multi = 10**(power+2)\n",
      "        modifiedmax = np.ceil(stop*multi)\n",
      "        modifiedmin = np.floor(start*multi)\n",
      "        step = round((modifiedmax-modifiedmin)/(nsteps*10**power+1))\n",
      "    else:\n",
      "        multi = 10**(power+1)\n",
      "        modifiedmax = np.ceil(stop*multi)\n",
      "        modifiedmin = np.floor(start*multi)\n",
      "        step = round((modifiedmax-modifiedmin)/(nsteps*10**power))\n",
      "        \n",
      "    print modifiedmax, modifiedmin\n",
      "    sa = np.array(range(int(modifiedmin),int(modifiedmax),int(step)))\n",
      "    return np.array(sa)/multi\n",
      "\n",
      "\n",
      "\n",
      "\n",
      "mn=1\n",
      "mx=5\n",
      "nsteps = 10\n",
      "frange(mn,mx,nsteps)\n",
      "#plt.plot(range(len(temp)), temp)\n",
      "#plt.show()"
     ],
     "language": "python",
     "metadata": {
      "run_control": {
       "read_only": false
      }
     },
     "outputs": [
      {
       "output_type": "stream",
       "stream": "stdout",
       "text": [
        "0.0\n",
        "500.0 100.0\n"
       ]
      },
      {
       "metadata": {},
       "output_type": "pyout",
       "prompt_number": 125,
       "text": [
        "array([ 1.  ,  1.36,  1.72,  2.08,  2.44,  2.8 ,  3.16,  3.52,  3.88,\n",
        "        4.24,  4.6 ,  4.96])"
       ]
      }
     ],
     "prompt_number": 125
    },
    {
     "cell_type": "markdown",
     "metadata": {},
     "source": [
      "http://stackoverflow.com/questions/6309472/matplotlib-can-i-create-axessubplot-objects-then-add-them-to-a-figure-instance#comment18919455_6309636\n",
      "\n",
      "http://stackoverflow.com/questions/16748577/matplotlib-combine-different-figures-and-put-them-in-a-single-subplot-sharing-a"
     ]
    },
    {
     "cell_type": "code",
     "collapsed": false,
     "input": [
      "x  = [ 1, 2, 3, 5, 10, 100, 1000 ]\n",
      "y1 = [ 1, 0.822, 0.763, 0.715, 0.680, 0.648, 0.645 ]\n",
      "y2 = [ 1, 0.859, 0.812, 0.774, 0.746, 0.721, 0.718 ]\n",
      "\n",
      "import matplotlib.pyplot as plt\n",
      "from matplotlib.transforms import BlendedGenericTransform\n",
      "# mode 01 from one case\n",
      "fig1 = plt.figure()\n",
      "ax1 = fig1.add_subplot(111)\n",
      "line1, = ax1.plot( x, y1, label='mode 01' )\n",
      "# mode 01 from other case\n",
      "fig2 = plt.figure()\n",
      "ax2 = fig2.add_subplot(111)\n",
      "line2, = ax2.plot( x, y2, label='mode 01' )\n",
      "\n",
      "# Create new figure and two subplots, sharing both axes\n",
      "fig3, (ax3, ax4) = plt.subplots(1,2,sharey=True, sharex=True,figsize=(10,5))\n",
      "\n",
      "# Plot data from fig1 and fig2\n",
      "line3, = ax3.plot(line1.get_data()[0], line1.get_data()[1])\n",
      "line4, = ax4.plot(line2.get_data()[0], line2.get_data()[1])\n",
      "# If possible (easy access to plotting data) use\n",
      "# ax3.plot(x, y1)\n",
      "# ax4.lpot(x, y2)\n",
      "\n",
      "ax3.set_ylabel('y-axis')\n",
      "ax3.grid(True)\n",
      "ax4.grid(True)\n",
      "\n",
      "# Add legend\n",
      "fig3.legend((line3, line4),\n",
      "            ('label 3', 'label 4'),\n",
      "            loc = 'upper center',\n",
      "            bbox_to_anchor = [0.5, -0.05],\n",
      "            bbox_transform = BlendedGenericTransform(fig3.transFigure, ax3.transAxes))\n",
      "# Make space for the legend beneath the subplots\n",
      "plt.subplots_adjust(bottom = 0.2)\n",
      "# Show only fig3"
     ],
     "language": "python",
     "metadata": {
      "run_control": {
       "read_only": false
      }
     },
     "outputs": []
    },
    {
     "cell_type": "heading",
     "level": 1,
     "metadata": {},
     "source": [
      "--ANNOTATE HEATMAP WITH STAT SIG--"
     ]
    },
    {
     "cell_type": "code",
     "collapsed": false,
     "input": [
      "#load model comparison file and extract the comprison column. replace NaN with False\n",
      "model_Comp = pd.DataFrame.from_csv('model_comparison_{}.csv'.format(key))\n",
      "booleans = model_Comp['TB vs Yan p_lessthan_alpha']\n",
      "stat_sig_frame = make_frame(booleans).fillna('')\n",
      "stat_sig_frame\n",
      "\n",
      "#replace True with '*' and False with 'ns'\n",
      "starred_frame = stat_sig_frame.replace(to_replace=[False, True], value=['ns','*'])\n",
      "starred_frame\n",
      "#print booleans, type(booleans)\n",
      "\n",
      "converted=booleans.apply(convert_booleans).sort_index()\n",
      "converted#.sort()\n",
      "#reload(NMAPlots)\n",
      "def annotate_w_stat_sig(pc, fmt=\"%.2f %.2s\", data=np.array(starred_frame), **kw):\n",
      "    from itertools import izip\n",
      "    pc.update_scalarmappable()\n",
      "    ax = pc.get_axes()\n",
      "    print list(pc.get_array())\n",
      "    print list(data.flat)\n",
      "    for p, color, value, sig in izip(pc.get_paths(), pc.get_facecolors(),pc.get_array(),data.flat):\n",
      "        x, y = p.vertices[:-2, :].mean(0)\n",
      "        if np.all(color[:3] > 0.5):\n",
      "            color = (0.0, 0.0, 0.0)\n",
      "        else:\n",
      "            color = (1.0, 1.0, 1.0)\n",
      "        ax.text(x, y, fmt % (value, sig), ha=\"center\", va=\"center\", color=color, **kw)\n",
      "\n",
      "\n",
      "frame = frame_y_2\n",
      "#make heat map plot\n",
      "heat_plot = NMAPlots.heatmap_from_dataframe(frame)#annotate_function=annotate_w_stat_sig)#data, eL_labels, gnap_labels, key)\n",
      "plt.show()   "
     ],
     "language": "python",
     "metadata": {
      "run_control": {
       "read_only": false
      }
     },
     "outputs": [
      {
       "output_type": "stream",
       "stream": "stdout",
       "text": [
        "[ 0.3442495   0.38768655  1.01190775  0.          0.39654458  0.64543972\n",
        "  1.8482858   0.          0.45456188  1.26876709  2.33227238  0.\n",
        "  0.66207306  1.77631417  2.66984903  0.          0.96622502  2.08879823\n",
        "  2.88763306  0.        ]\n"
       ]
      }
     ],
     "prompt_number": 117
    },
    {
     "cell_type": "code",
     "collapsed": false,
     "input": [
      "sf= np.array(starred_frame)\n",
      "y2 = np.array(frame_y_2)\n",
      "for i,ii in zip(sf,y2):\n",
      "    print i, ii"
     ],
     "language": "python",
     "metadata": {
      "run_control": {
       "read_only": false
      }
     },
     "outputs": [
      {
       "output_type": "stream",
       "stream": "stdout",
       "text": [
        "['ns' 'ns' '*' '*'] [ 0.3442495   0.38768655  1.01190775  0.        ]\n",
        "['ns' '*' '*' '*'] [ 0.39654458  0.64543972  1.8482858   0.        ]\n",
        "['ns' '*' '*' 'ns'] [ 0.45456188  1.26876709  2.33227238  0.        ]\n",
        "['*' '*' '*' 'ns'] [ 0.66207306  1.77631417  2.66984903  0.        ]\n",
        "['*' '*' '*' 'ns'] [ 0.96622502  2.08879823  2.88763306  0.        ]\n"
       ]
      }
     ],
     "prompt_number": 77
    },
    {
     "cell_type": "code",
     "collapsed": false,
     "input": [
      "print a2.reshape((5,4))\n",
      "print a1.reshape((5,4))"
     ],
     "language": "python",
     "metadata": {
      "run_control": {
       "read_only": false
      }
     },
     "outputs": [
      {
       "output_type": "stream",
       "stream": "stdout",
       "text": [
        "[['ns' 'ns' '*' '*']\n",
        " ['ns' '*' '*' '*']\n",
        " ['ns' '*' '*' 'ns']\n",
        " ['*' '*' '*' 'ns']\n",
        " ['*' '*' '*' 'ns']]\n",
        "[[ 0.3442495   0.38768655  1.01190775  0.        ]\n",
        " [ 0.39654458  0.64543972  1.8482858   0.        ]\n",
        " [ 0.45456188  1.26876709  2.33227238  0.        ]\n",
        " [ 0.66207306  1.77631417  2.66984903  0.        ]\n",
        " [ 0.96622502  2.08879823  2.88763306  0.        ]]\n"
       ]
      }
     ],
     "prompt_number": 73
    },
    {
     "cell_type": "code",
     "collapsed": false,
     "input": [
      "a1 = np.array([0.34424949999999482, 0.38768654938271402, 1.0119077506172844, 0.0, 0.39654457777777136, 0.64543972098765356, 1.8482858012345664, 0.0, 0.45456188024690741, 1.2687670876543222, 2.3322723827160523, 0.0, 0.66207306172839997, 1.7763141716049398, 2.6698490345678998, 0.0, 0.96622501851851961, 2.0887982283950595, 2.8876330629629625, 0.0])\n",
      "a2 = np.array(['ns', 'ns', '*', '*', 'ns', '*', '*', '*', 'ns', '*', '*', 'ns', '*', '*', '*', 'ns', '*', '*', '*', 'ns'])"
     ],
     "language": "python",
     "metadata": {
      "run_control": {
       "read_only": false
      }
     },
     "outputs": [],
     "prompt_number": 72
    },
    {
     "cell_type": "code",
     "collapsed": false,
     "input": [],
     "language": "python",
     "metadata": {
      "run_control": {
       "read_only": false
      }
     },
     "outputs": []
    }
   ],
   "metadata": {}
  }
 ]
}