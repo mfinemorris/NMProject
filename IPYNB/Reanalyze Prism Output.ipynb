{
 "cells": [
  {
   "cell_type": "code",
   "execution_count": 113,
   "metadata": {
    "collapsed": false,
    "run_control": {
     "read_only": true
    }
   },
   "outputs": [
    {
     "name": "stdout",
     "output_type": "stream",
     "text": [
      "['2way ANOVA of Interburst Interval.csv', '2way ANOVA of Intraburst Freq.csv', '2way ANOVA of Peaks Amplitude.csv', '2way ANOVA of Peaks Interval.csv', '2way ANOVA of Peaks per Burst.csv', '2way ANOVA of Total Cycle Time.csv']\n"
     ]
    }
   ],
   "source": [
    "from scipy import stats\n",
    "import numpy as np\n",
    "from scipy.stats import t\n",
    "import matplotlib.pyplot as plt\n",
    "import os\n",
    "from os import path\n",
    "import pandas as pd\n",
    "import NMUtility\n",
    "\n",
    "####################### start function defns ###########################\n",
    "def get_table(path):\n",
    "    table = pd.read_table(path,sep=\",\",skiprows=25, header=None,names=[0,1,2,3,4])\n",
    "    table = table.drop([1,3,4], axis=1)\n",
    "    return table\n",
    "\n",
    "def collect_t_vals(table, num_models=2):\n",
    "    #collect every item containing 'vs'\n",
    "    compare_string = ''\n",
    "    s = []\n",
    "    t_on = 0\n",
    "    d = {}\n",
    "    for k,row in table.iterrows():\n",
    "        col0 = row.iloc[0]\n",
    "        col1 = row.iloc[1]\n",
    "        \n",
    "        try:\n",
    "            if 'vs' in col0:\n",
    "                compare_string = col0.replace(\"=\",\"\").strip()\n",
    "                d[compare_string] = []\n",
    "                s.append(compare_string)\n",
    "                #print compare_string\n",
    "        except Exception as e:\n",
    "            pass\n",
    "\n",
    "        #if col 1 of either of the two previous rows was 't', collect the value in col 1\n",
    "        if t_on > num_models:\n",
    "            t_on = 0\n",
    "        elif t_on <= num_models and t_on > 0:\n",
    "            d[compare_string].append(float(col1))\n",
    "            t_on += 1\n",
    "\n",
    "        if col1 == 't':\n",
    "            # turn on flag to get the next two rows\n",
    "            t_on += 1\n",
    "\n",
    "    return s, d\n",
    "\n",
    "def get_table_2(path):\n",
    "    table = pd.read_table(path,sep=\",\",skiprows=25, header=None,names=[0,1,2,3,4])\n",
    "    table = table.drop([1,3,4], axis=1)\n",
    "    return table\n",
    "\n",
    "def collect_t_vals_2(table, num_models):\n",
    "    t_on = 0\n",
    "    d={}\n",
    "    for k, row in table.iterrows():\n",
    "        if t_on > 0:\n",
    "            key = str(row.iloc[0]).replace(\"=\",\"\").strip()\n",
    "            d[key] =  float(row.iloc[1:].values[0])\n",
    "        if row.iloc[1] == 't':\n",
    "            # turn on flag to get the next two rows\n",
    "            t_on += 1\n",
    "    return d\n",
    "\n",
    "def calc_real_ps(t_vals, df, mode=2):\n",
    "    '''\n",
    "    t_vals can be a number or an array-like. Equivalent to Open Offices TDIST function.\n",
    "    #http://stackoverflow.com/questions/23879049/finding-two-tailed-p-value-from-t-distribution-\n",
    "    and-degrees-of-freedom-in-python\n",
    "    #http://stackoverflow.com/questions/17559897/python-p-value-from-t-statistic\n",
    "    '''\n",
    "    return mode*t.sf(t_vals, df)\n",
    "\n",
    "\n",
    "def real_ps_1(measure_type):\n",
    "    path = os.path.join(prism_out_dir, \"2way ANOVA of {}.csv\".format(measure_type))\n",
    "    table = get_table(path)\n",
    "    \n",
    "    s,d = collect_t_vals(table)\n",
    "    df = len(d)-1\n",
    "    data = [d[i] for i in s]\n",
    "    t_vals = pd.DataFrame(data, index=s, columns=['TB','Yan'])\n",
    "    real_p_by_model = {}\n",
    "    for k,v in t_vals.iteritems():\n",
    "        x = v.values\n",
    "        real_p_by_model[k+\" p\"] = calc_real_ps(x,df,2)\n",
    "        #print k, real_p_by_model[k]\n",
    "    return pd.concat([t_vals,pd.DataFrame(real_p_by_model, t_vals.index)], axis=1)\n",
    "    return t_vals, real_p_by_model\n",
    "\n",
    "def real_ps_2(measure_type):\n",
    "    '''\n",
    "    extract data from prism results output that compares models to each other\n",
    "    '''\n",
    "    #process file specified by path and create table\n",
    "    path = os.path.join(prism_out_dir, \"2way ANOVA of {} inv.csv\".format(measure_type))\n",
    "    table = get_table_2(path)\n",
    "    \n",
    "    header = table.iloc[0][0]\n",
    "    t_values_dict = collect_t_vals_2(table,2)\n",
    "    df = len(t_values_dict)-1\n",
    "    t_values_series = pd.Series(t_values_dict.values(), t_values_dict.keys(), name=header)\n",
    "    real_p = calc_real_ps(t_values_series.values,df,2)\n",
    "    \n",
    "    keys=[header+' t',header+' p']\n",
    "    return pd.concat([t_values_series, pd.Series(real_p, t_values_series.index)], keys=keys,axis=1)\n",
    "\n",
    "\n",
    "def convert_booleans(x):\n",
    "    '''\n",
    "    replace True with '*' and False with 'ns'\n",
    "    '''\n",
    "    \n",
    "    x_arr = np.array(x)\n",
    "    new_arr = []\n",
    "    for n,i in enumerate(x):\n",
    "        if i:\n",
    "            new_arr.append('*')\n",
    "        else:\n",
    "            new_arr.append('ns')\n",
    "    return new_arr\n",
    "\n",
    "def compare_p_against_newalpha(frames, convert_bools_list=[]):\n",
    "    '''\n",
    "    This really needs to get broken up into smaller functions, probably\n",
    "    convert_bools_list is a two item list. The first element will be used to replace True in the new column,\n",
    "    the second will be used to replace False.\n",
    "    '''\n",
    "    \n",
    "    #get the new alpha value\n",
    "    num_comparisons = sum([len(frame) for frame in frames])\n",
    "    new_alpha = 0.05/num_comparisons\n",
    "    \n",
    "    #compare each real p value to the new alpha\n",
    "    #make a new column for the results of the comparison\n",
    "    #append it to the dataframe\n",
    "    compared_frames = []\n",
    "    for frame in frames:\n",
    "        \n",
    "        #get the column names for the real p values\n",
    "        #use boolean logic to get the new columns (by comparing them to the new_alpha)\n",
    "        p_cols = [col_names for col_names in frame if ' p' in col_names]    \n",
    "        p_lessthan_alpha = frame.loc[:,p_cols]<new_alpha\n",
    "\n",
    "        #convert True and False according to scheme specified by convert_bools_list\n",
    "        if convert_bools_list:\n",
    "            p_lessthan_alpha.replace(to_replace=[True,False], value=convert_bools_list,inplace=True)\n",
    "            \n",
    "        # reset column names for new columns\n",
    "        #replaced 'p_lessthan_alpha' with 'sig'\n",
    "        new_col_names = [col.replace('p',\"sig\") for col in p_cols]\n",
    "        try:\n",
    "            #if there are multiple new columns (p_lessthan_alpha is a DataFrame)\n",
    "            p_lessthan_alpha.columns = new_col_names#[i+\" p_lessthan_alpha\" for i in new_cols]\n",
    "        except:\n",
    "            #if there was only one new column (p_lessthan_alpha is a Series)\n",
    "            p_lessthan_alpha.name = new_col_names#\"p_lessthan_alpha\"#.format(new_alpha)\n",
    "        \n",
    "        # concat new column(s) to old dataframe\n",
    "        fully_analyzed = pd.concat([frame, p_lessthan_alpha],axis=1)\n",
    "        compared_frames.append(fully_analyzed)\n",
    "    return compared_frames\n",
    "\n",
    "\n",
    "### make statistical significance frames\n",
    "\n",
    "####################### end function defns ###########################\n",
    "\n",
    "prism_out_dir = \"/Users/morganfine-morris/Documents/Repos/NMProject/Paper/Data and Analysis/short TB Yan/Prism Output\"\n",
    "files = [i for i in os.listdir(prism_out_dir) if i.endswith('.csv') and not ('inv' in i) and not ('t_vals' in i)][1:]\n",
    "print files\n",
    "output_path = \"/Users/morganfine-morris/Documents/Repos/NMProject/Paper/Data and Analysis/\""
   ]
  },
  {
   "cell_type": "markdown",
   "metadata": {},
   "source": [
    "## For all files, save out t values"
   ]
  },
  {
   "cell_type": "code",
   "execution_count": 87,
   "metadata": {
    "collapsed": true,
    "run_control": {
     "read_only": false
    }
   },
   "outputs": [
    {
     "name": "stdout",
     "output_type": "stream",
     "text": [
      "/Users/morganfine-morris/Documents/Repos/NMProject/Paper/Data and Analysis/short TB Yan/Prism Output/t_vals from 2way ANOVA of Interburst Interval.csv\n",
      "/Users/morganfine-morris/Documents/Repos/NMProject/Paper/Data and Analysis/short TB Yan/Prism Output/t_vals from 2way ANOVA of Intraburst Freq.csv\n",
      "/Users/morganfine-morris/Documents/Repos/NMProject/Paper/Data and Analysis/short TB Yan/Prism Output/t_vals from 2way ANOVA of Peaks Amplitude.csv\n",
      "/Users/morganfine-morris/Documents/Repos/NMProject/Paper/Data and Analysis/short TB Yan/Prism Output/t_vals from 2way ANOVA of Peaks Interval.csv\n",
      "/Users/morganfine-morris/Documents/Repos/NMProject/Paper/Data and Analysis/short TB Yan/Prism Output/t_vals from 2way ANOVA of Peaks per Burst.csv\n",
      "/Users/morganfine-morris/Documents/Repos/NMProject/Paper/Data and Analysis/short TB Yan/Prism Output/t_vals from 2way ANOVA of Total Cycle Time.csv\n"
     ]
    }
   ],
   "source": [
    "def save_t_vals_to_csv(prism_out_dir, filename):\n",
    "    path = os.path.join(prism_out_dir, filename)\n",
    "    table = get_table(path)\n",
    "    key_list, t_vals_dict = collect_t_vals(table) #key_list is to retain original order\n",
    "    data = [t_vals_dict[key_str] for key_str in key_list]\n",
    "    t_vals = pd.DataFrame(data, index=key_list, columns=['TB: t','Yan: t'])\n",
    "    \n",
    "    #save t-vals\n",
    "    t_val_file = os.path.join(prism_out_dir, \"t_vals from \"+filename)\n",
    "    t_vals.to_csv(t_val_file)\n",
    "    return t_val_file\n",
    "    \n",
    "for i in files:\n",
    "    print save_t_vals_to_csv(prism_out_dir, i)\n",
    "    pass"
   ]
  },
  {
   "cell_type": "markdown",
   "metadata": {},
   "source": [
    "## For one Measure"
   ]
  },
  {
   "cell_type": "code",
   "execution_count": 204,
   "metadata": {
    "collapsed": false,
    "run_control": {
     "read_only": false
    }
   },
   "outputs": [
    {
     "name": "stdout",
     "output_type": "stream",
     "text": [
      "Index([u'TB', u'Yan', u'TB p', u'Yan p', u'TB sig', u'Yan sig'], dtype='object')\n",
      "Index([u'TB', u'Yan', u'TB p', u'Yan p', u'TB sig', u'Yan sig'], dtype='object')\n",
      "Index([u'TB', u'Yan', u'TB p', u'Yan p', u'TB sig', u'Yan sig'], dtype='object')\n",
      "Index([u'TB', u'Yan', u'TB p', u'Yan p', u'TB sig', u'Yan sig'], dtype='object')\n",
      "Index([u'TB', u'Yan', u'TB p', u'Yan p', u'TB sig', u'Yan sig'], dtype='object')\n",
      "Index([u'TB', u'Yan', u'TB p', u'Yan p', u'TB sig', u'Yan sig'], dtype='object')\n",
      "Index([u'TB', u'Yan', u'TB p', u'Yan p', u'TB sig', u'Yan sig'], dtype='object')\n"
     ]
    }
   ],
   "source": [
    "measures = ['Burst Duration',\n",
    "'Interburst Interval',\n",
    "'Intraburst Freq',\n",
    "'Peaks Amplitude',\n",
    "'Peaks Interval',\n",
    "'Peaks per Burst',\n",
    "'Total Cycle Time']\n",
    "measure_type = measures[-2]\n",
    "#print \"Measurement Type: \",measure_type\n",
    "\n",
    "for measure_type in measures:\n",
    "    df_param = real_ps_1(measure_type)\n",
    "    df_model = real_ps_2(measure_type)\n",
    "    #compared_dfs = compare_p_against_newalpha([df,df_2],['*','ns'])#this will replace True with * and False with ns\n",
    "    compared_dfs = compare_p_against_newalpha([df_param,df_model])#this will give pure true-false\n",
    "    df_param = compared_dfs[0]\n",
    "    df_model = compared_dfs[1] \n",
    "    print df_param.columns\n",
    "    df_model.to_csv(path.join(prism_out_dir,'model_comparison_{}.csv').format(measure_type))\n",
    "    df_param.to_csv(path.join(prism_out_dir,'param_comparison_{}.csv').format(measure_type))"
   ]
  },
  {
   "cell_type": "code",
   "execution_count": 12,
   "metadata": {
    "collapsed": true
   },
   "outputs": [],
   "source": [
    "#df1[df1['Yan p_lessthan_alpha']==False].index.values\n",
    "#df1[df1['TB p_lessthan_alpha']==False].index.values"
   ]
  },
  {
   "cell_type": "code",
   "execution_count": 196,
   "metadata": {
    "collapsed": false,
    "run_control": {
     "read_only": false
    }
   },
   "outputs": [],
   "source": [
    "df2.to_csv(path.join(prism_out_dir,'model_comparison_{}.csv').format(measure_type))\n",
    "df1.to_csv(path.join(prism_out_dir,'param_comparison_{}.csv').format(measure_type))"
   ]
  },
  {
   "cell_type": "code",
   "execution_count": 194,
   "metadata": {
    "collapsed": false
   },
   "outputs": [
    {
     "data": {
      "text/plain": [
       "'/Users/morganfine-morris/Documents/Repos/NMProject/IPYNB'"
      ]
     },
     "execution_count": 194,
     "metadata": {},
     "output_type": "execute_result"
    }
   ],
   "source": [
    "os.getcwd()"
   ]
  },
  {
   "cell_type": "markdown",
   "metadata": {},
   "source": [
    "## Make param comparison table"
   ]
  },
  {
   "cell_type": "code",
   "execution_count": 27,
   "metadata": {
    "collapsed": false
   },
   "outputs": [],
   "source": [
    "def make_param_compare_table_multiind(measurement, split_on=' vs '):\n",
    "    '''\n",
    "    measurement is a series with data of just one measurement type (burst duration) for a single model\n",
    "    Its rows should be in format:\n",
    "    <param_1_val><param_1_name> <param_2_val><param_2_name>\n",
    "    or \n",
    "    <param_1_name><param_1_val> <param_2_name><param_2_val>\n",
    "    '''\n",
    "    \n",
    "    import re\n",
    "    r1 = re.compile(\"([\\-][\\d+.\\d+]+|[\\d+.\\d+]+)([a-zA-Z]+)\")\n",
    "    r2 = re.compile(\"([a-zA-Z]+)([\\-][\\d+.\\d+]+|[\\d+.\\d+]+)\")\n",
    "    \n",
    "    temp ={}\n",
    "    for k,v in measurement.iteritems():\n",
    "        #v is row value, k is row label\n",
    "        \n",
    "        p1KEY, p2KEY =  k.split(split_on)\n",
    "        e1 = p1KEY[2:5]\n",
    "        e2 = p2KEY[2:5]\n",
    "        g1 = p1KEY[13:]\n",
    "        g2 = p2KEY[13:]\n",
    "        #print e1, e2\n",
    "        #print g1, g2\n",
    "        #print\n",
    "#        if not v:\n",
    "        '''\n",
    "        if (p1KEY[2:5] == p2KEY[2:5]):\n",
    "            print p1KEY[2:5],\") \", p1KEY[13:], 'vs', p2KEY[13:]\n",
    "        elif (p1KEY[13:] == p2KEY[13:]):\n",
    "            print p1KEY[13:],\") \", p1KEY[2:5] ,\"vs\", p2KEY[2:5]\n",
    "        else:\n",
    "            print p1KEY, ' vs ', p2KEY\n",
    "            \n",
    "            #print p1KEY, ' vs ', p2KEY\n",
    "        '''\n",
    "make_param_compare_table_multiind(df1['TB p_lessthan_alpha'])\n"
   ]
  },
  {
   "cell_type": "code",
   "execution_count": 30,
   "metadata": {
    "collapsed": false,
    "run_control": {
     "read_only": false
    },
    "scrolled": false
   },
   "outputs": [
    {
     "name": "stdout",
     "output_type": "stream",
     "text": [
      "Peaks per Burst\n",
      "TB:\n",
      "\n",
      "Yan:\n",
      ",eL-50.0 gnaps1.8,eL-50.0 gnaps2.4,eL-55.0 gnaps1.8,eL-55.0 gnaps2.4,eL-55.0 gnaps3.0,eL-55.0 gnaps3.6,eL-55.0 gnaps4.2,eL-60.0 gnaps1.8,eL-60.0 gnaps2.4,eL-60.0 gnaps3.0,eL-60.0 gnaps3.6,eL-60.0 gnaps4.2,eL-65.0 gnaps1.8,eL-65.0 gnaps2.4,eL-65.0 gnaps3.0,eL-65.0 gnaps3.6,eL-65.0 gnaps4.2\n",
      "eL-50.0 gnaps1.8, ,ns,*,*,*,*,*,*,*,*,*,*,*,*,*,*,*\n",
      "eL-50.0 gnaps2.4,*, ,*,*,*,*,*,*,*,*,*,*,*,*,*,*,*\n",
      "eL-55.0 gnaps1.8,*,*, ,*,*,*,*,*,ns,*,*,*,*,*,*,*,*\n",
      "eL-55.0 gnaps2.4,*,*,*, ,*,*,*,*,*,ns,*,*,*,*,*,*,*\n",
      "eL-55.0 gnaps3.0,*,*,*,*, ,*,*,*,*,*,*,ns,*,*,*,*,*\n",
      "eL-55.0 gnaps3.6,*,*,*,*,*, ,*,*,*,*,*,*,*,*,*,*,*\n",
      "eL-55.0 gnaps4.2,*,*,*,*,*,*, ,*,*,*,*,*,*,*,*,*,*\n",
      "eL-60.0 gnaps1.8,*,*,*,*,*,*,*, ,*,*,*,*,*,*,*,*,*\n",
      "eL-60.0 gnaps2.4,*,*,*,*,*,*,*,*, ,*,*,*,*,*,*,*,*\n",
      "eL-60.0 gnaps3.0,*,*,*,*,*,*,*,*,*, ,*,*,*,*,*,*,*\n",
      "eL-60.0 gnaps3.6,*,*,*,*,*,*,*,*,*,*, ,*,*,*,*,ns,*\n",
      "eL-60.0 gnaps4.2,*,*,ns,*,*,*,*,*,*,*,*, ,*,*,*,*,*\n",
      "eL-65.0 gnaps1.8,*,*,*,*,*,*,*,*,*,*,*,*, ,*,*,*,*\n",
      "eL-65.0 gnaps2.4,*,*,ns,*,*,*,*,*,*,*,*,ns,*, ,*,*,*\n",
      "eL-65.0 gnaps3.0,*,*,*,ns,*,*,*,*,*,*,*,*,*,*, ,*,*\n",
      "eL-65.0 gnaps3.6,*,*,*,*,ns,*,*,*,*,ns,*,*,*,*,*, ,*\n",
      "eL-65.0 gnaps4.2,*,*,*,*,*,ns,*,*,*,*,*,*,*,*,*,*, \n",
      "\n"
     ]
    }
   ],
   "source": [
    "def make_param_compare_table(measurement, split_on=' vs '):\n",
    "    '''\n",
    "    measurement is a series with data of just one measurement type (burst duration) for a single model\n",
    "    Its rows should be in format:\n",
    "    <param_1_val><param_1_name> <param_2_val><param_2_name>\n",
    "    or \n",
    "    <param_1_name><param_1_val> <param_2_name><param_2_val>\n",
    "    '''\n",
    "    \n",
    "    import re\n",
    "    r1 = re.compile(\"([\\-][\\d+.\\d+]+|[\\d+.\\d+]+)([a-zA-Z]+)\")\n",
    "    r2 = re.compile(\"([a-zA-Z]+)([\\-][\\d+.\\d+]+|[\\d+.\\d+]+)\")\n",
    "    \n",
    "    temp ={}\n",
    "    for k,v in measurement.iteritems():\n",
    "        #v is row value, k is row label\n",
    "        \n",
    "        p1KEY, p2KEY =  k.split(split_on)\n",
    "        e1 = p1KEY[2:5]\n",
    "        e2 = p2KEY[2:5]\n",
    "        g1 = p1KEY[13:]\n",
    "        g2 = p2KEY[13:]\n",
    "        #p1KEY = e1+\" \"+g1\n",
    "        #p2KEY = e2+\" \"+g2\n",
    "\n",
    "        \"\"\"\n",
    "        if not v:\n",
    "            if (p1KEY[2:5] == p2KEY[2:5]):\n",
    "                print p1KEY[2:5],\") \", p1KEY[13:], 'vs', p2KEY[13:]\n",
    "            elif (p1KEY[13:] == p2KEY[13:]):\n",
    "                print p1KEY[13:],\") \", p1KEY[2:5] ,\"vs\", p2KEY[2:5]\n",
    "            else:\n",
    "                print p1KEY, ' vs ', p2KEY\n",
    "            \n",
    "            #print p1KEY, ' vs ', p2KEY\n",
    "\n",
    " \n",
    "        \n",
    "        \n",
    "        if not (p1KEY[2:5] == p2KEY[2:5]) or (p1KEY[13:] == p2KEY[13:]):\n",
    "            print p1KEY, ' vs ', p2KEY,\n",
    "            if v:\n",
    "                print \": \", v\n",
    "            else:\n",
    "                print\n",
    "            pass\n",
    "        else:\n",
    "            continue\n",
    "        \"\"\"\n",
    "        \n",
    "        \n",
    "        try:\n",
    "            #append to current sub-dict\n",
    "            temp[p1KEY][p2KEY] = v\n",
    "\n",
    "            #temp[p2KEY][p1KEY] = v\n",
    "            #print p1KEY, p2KEY\n",
    "            #temp[p2KEY][p1KEY] = v\n",
    "        except:\n",
    "            #s = pd.Series(temp[p1KEY]).sort(ascending=False, inplace=False)\n",
    "            #print s\n",
    "            #start new sub-dict\n",
    "            temp[p1KEY] = {}\n",
    "            temp[p1KEY][p1KEY] = np.nan\n",
    "            temp[p1KEY][p2KEY] = v\n",
    "\n",
    "\n",
    "\n",
    "            #print pd.DataFrame.from_dict(temp)\n",
    "            #print 'keys:',p1KEY, p2KEY\n",
    "            #print\n",
    "\n",
    "    return pd.DataFrame.from_dict(temp)\n",
    "print measure_type\n",
    "print \"TB:\"\n",
    "tb = make_param_compare_table(df1['TB p_lessthan_alpha'])\n",
    "print\n",
    "print \"Yan:\"\n",
    "yan = make_param_compare_table(df1['Yan p_lessthan_alpha'])\n",
    "combined = yan.T.combine_first(tb).replace(to_replace=[False, True, np.nan], value=['ns', '*', ' '])\n",
    "str_combined = combined.to_csv()\n",
    "#combined"
   ]
  },
  {
   "cell_type": "code",
   "execution_count": 16,
   "metadata": {
    "collapsed": false,
    "run_control": {
     "read_only": false
    }
   },
   "outputs": [],
   "source": [
    "#save param compare table\n",
    "lines = str_combined.split('\\n')\n",
    "lines[1] = lines[1]+',TB'\n",
    "ncommas = lines[0].count(',')\n",
    "line =',Yan'+\"\".join([','for i in range(ncommas)])\n",
    "lines[-1]=line\n",
    "filepath = path.join(output_path,'Parameter Compare Summary_{}.csv'.format(measure_type))\n",
    "with open(filepath,'w') as f:\n",
    "    f.write('\\n'.join(lines))"
   ]
  },
  {
   "cell_type": "code",
   "execution_count": null,
   "metadata": {
    "collapsed": false,
    "run_control": {
     "read_only": false
    }
   },
   "outputs": [],
   "source": [
    "heatmappath = os.path.join(prism_out_dir,'plots','heatmap {}.png'.format(key))\n",
    "\n"
   ]
  },
  {
   "cell_type": "markdown",
   "metadata": {},
   "source": [
    "## Make Table to compare models"
   ]
  },
  {
   "cell_type": "code",
   "execution_count": 310,
   "metadata": {
    "collapsed": false,
    "run_control": {
     "read_only": false
    }
   },
   "outputs": [
    {
     "data": {
      "text/html": [
       "<div style=\"max-height:1000px;max-width:1500px;overflow:auto;\">\n",
       "<table border=\"1\" class=\"dataframe\">\n",
       "  <thead>\n",
       "    <tr style=\"text-align: right;\">\n",
       "      <th></th>\n",
       "      <th>TB vs Yan t</th>\n",
       "      <th>TB vs Yan real p</th>\n",
       "      <th>TB vs Yan p_lessthan_alpha</th>\n",
       "    </tr>\n",
       "  </thead>\n",
       "  <tbody>\n",
       "    <tr>\n",
       "      <th>eL-65.0 gnaps4.2</th>\n",
       "      <td>  23.2400</td>\n",
       "      <td> 9.342810e-14</td>\n",
       "      <td>  True</td>\n",
       "    </tr>\n",
       "    <tr>\n",
       "      <th>eL-50.0 gnaps2.4</th>\n",
       "      <td>  32.9200</td>\n",
       "      <td> 3.968334e-16</td>\n",
       "      <td>  True</td>\n",
       "    </tr>\n",
       "    <tr>\n",
       "      <th>eL-65.0 gnaps3.0</th>\n",
       "      <td>   1.9030</td>\n",
       "      <td> 7.519211e-02</td>\n",
       "      <td> False</td>\n",
       "    </tr>\n",
       "    <tr>\n",
       "      <th>eL-60.0 gnaps1.8</th>\n",
       "      <td>   0.1169</td>\n",
       "      <td> 9.083941e-01</td>\n",
       "      <td> False</td>\n",
       "    </tr>\n",
       "    <tr>\n",
       "      <th>eL-55.0 gnaps1.8</th>\n",
       "      <td>  27.9900</td>\n",
       "      <td> 5.101168e-15</td>\n",
       "      <td>  True</td>\n",
       "    </tr>\n",
       "    <tr>\n",
       "      <th>eL-60.0 gnaps3.0</th>\n",
       "      <td>  28.3400</td>\n",
       "      <td> 4.196924e-15</td>\n",
       "      <td>  True</td>\n",
       "    </tr>\n",
       "    <tr>\n",
       "      <th>eL-60.0 gnaps4.2</th>\n",
       "      <td> 115.9000</td>\n",
       "      <td> 7.885285e-25</td>\n",
       "      <td>  True</td>\n",
       "    </tr>\n",
       "    <tr>\n",
       "      <th>eL-55.0 gnaps4.2</th>\n",
       "      <td>  21.5700</td>\n",
       "      <td> 2.975094e-13</td>\n",
       "      <td>  True</td>\n",
       "    </tr>\n",
       "    <tr>\n",
       "      <th>eL-60.0 gnaps2.4</th>\n",
       "      <td>  11.6700</td>\n",
       "      <td> 3.078367e-09</td>\n",
       "      <td>  True</td>\n",
       "    </tr>\n",
       "    <tr>\n",
       "      <th>eL-60.0 gnaps3.6</th>\n",
       "      <td>  28.2600</td>\n",
       "      <td> 4.387435e-15</td>\n",
       "      <td>  True</td>\n",
       "    </tr>\n",
       "    <tr>\n",
       "      <th>eL-65.0 gnaps1.8</th>\n",
       "      <td>   1.4570</td>\n",
       "      <td> 1.644621e-01</td>\n",
       "      <td> False</td>\n",
       "    </tr>\n",
       "    <tr>\n",
       "      <th>eL-65.0 gnaps2.4</th>\n",
       "      <td>   1.6510</td>\n",
       "      <td> 1.182269e-01</td>\n",
       "      <td> False</td>\n",
       "    </tr>\n",
       "    <tr>\n",
       "      <th>eL-50.0 gnaps1.8</th>\n",
       "      <td>  27.3400</td>\n",
       "      <td> 7.375325e-15</td>\n",
       "      <td>  True</td>\n",
       "    </tr>\n",
       "    <tr>\n",
       "      <th>eL-55.0 gnaps3.6</th>\n",
       "      <td>  24.0400</td>\n",
       "      <td> 5.514294e-14</td>\n",
       "      <td>  True</td>\n",
       "    </tr>\n",
       "    <tr>\n",
       "      <th>eL-55.0 gnaps3.0</th>\n",
       "      <td>  24.4000</td>\n",
       "      <td> 4.373153e-14</td>\n",
       "      <td>  True</td>\n",
       "    </tr>\n",
       "    <tr>\n",
       "      <th>eL-55.0 gnaps2.4</th>\n",
       "      <td>  32.1000</td>\n",
       "      <td> 5.907659e-16</td>\n",
       "      <td>  True</td>\n",
       "    </tr>\n",
       "    <tr>\n",
       "      <th>eL-65.0 gnaps3.6</th>\n",
       "      <td>  10.7200</td>\n",
       "      <td> 1.035273e-08</td>\n",
       "      <td>  True</td>\n",
       "    </tr>\n",
       "  </tbody>\n",
       "</table>\n",
       "</div>"
      ],
      "text/plain": [
       "                  TB vs Yan t  TB vs Yan real p TB vs Yan p_lessthan_alpha\n",
       "eL-65.0 gnaps4.2      23.2400      9.342810e-14                       True\n",
       "eL-50.0 gnaps2.4      32.9200      3.968334e-16                       True\n",
       "eL-65.0 gnaps3.0       1.9030      7.519211e-02                      False\n",
       "eL-60.0 gnaps1.8       0.1169      9.083941e-01                      False\n",
       "eL-55.0 gnaps1.8      27.9900      5.101168e-15                       True\n",
       "eL-60.0 gnaps3.0      28.3400      4.196924e-15                       True\n",
       "eL-60.0 gnaps4.2     115.9000      7.885285e-25                       True\n",
       "eL-55.0 gnaps4.2      21.5700      2.975094e-13                       True\n",
       "eL-60.0 gnaps2.4      11.6700      3.078367e-09                       True\n",
       "eL-60.0 gnaps3.6      28.2600      4.387435e-15                       True\n",
       "eL-65.0 gnaps1.8       1.4570      1.644621e-01                      False\n",
       "eL-65.0 gnaps2.4       1.6510      1.182269e-01                      False\n",
       "eL-50.0 gnaps1.8      27.3400      7.375325e-15                       True\n",
       "eL-55.0 gnaps3.6      24.0400      5.514294e-14                       True\n",
       "eL-55.0 gnaps3.0      24.4000      4.373153e-14                       True\n",
       "eL-55.0 gnaps2.4      32.1000      5.907659e-16                       True\n",
       "eL-65.0 gnaps3.6      10.7200      1.035273e-08                       True"
      ]
     },
     "execution_count": 310,
     "metadata": {},
     "output_type": "execute_result"
    }
   ],
   "source": [
    "#load data if necessary\n",
    "model_Comp = pd.DataFrame.from_csv('model_comparison_{}.csv'.format(measure_type))\n",
    "model_Comp"
   ]
  },
  {
   "cell_type": "code",
   "execution_count": 311,
   "metadata": {
    "collapsed": false,
    "run_control": {
     "read_only": false
    }
   },
   "outputs": [
    {
     "data": {
      "text/html": [
       "<div style=\"max-height:1000px;max-width:1500px;overflow:auto;\">\n",
       "<table border=\"1\" class=\"dataframe\">\n",
       "  <thead>\n",
       "    <tr style=\"text-align: right;\">\n",
       "      <th></th>\n",
       "      <th>-65.0</th>\n",
       "      <th>-60.0</th>\n",
       "      <th>-55.0</th>\n",
       "      <th>-50.0</th>\n",
       "    </tr>\n",
       "  </thead>\n",
       "  <tbody>\n",
       "    <tr>\n",
       "      <th>1.8</th>\n",
       "      <td> ns</td>\n",
       "      <td> ns</td>\n",
       "      <td> *</td>\n",
       "      <td> *</td>\n",
       "    </tr>\n",
       "    <tr>\n",
       "      <th>2.4</th>\n",
       "      <td> ns</td>\n",
       "      <td>  *</td>\n",
       "      <td> *</td>\n",
       "      <td> *</td>\n",
       "    </tr>\n",
       "    <tr>\n",
       "      <th>3.0</th>\n",
       "      <td> ns</td>\n",
       "      <td>  *</td>\n",
       "      <td> *</td>\n",
       "      <td>  </td>\n",
       "    </tr>\n",
       "    <tr>\n",
       "      <th>3.6</th>\n",
       "      <td>  *</td>\n",
       "      <td>  *</td>\n",
       "      <td> *</td>\n",
       "      <td>  </td>\n",
       "    </tr>\n",
       "    <tr>\n",
       "      <th>4.2</th>\n",
       "      <td>  *</td>\n",
       "      <td>  *</td>\n",
       "      <td> *</td>\n",
       "      <td>  </td>\n",
       "    </tr>\n",
       "  </tbody>\n",
       "</table>\n",
       "</div>"
      ],
      "text/plain": [
       "    -65 -60 -55 -50\n",
       "1.8  ns  ns   *   *\n",
       "2.4  ns   *   *   *\n",
       "3.0  ns   *   *    \n",
       "3.6   *   *   *    \n",
       "4.2   *   *   *    "
      ]
     },
     "execution_count": 311,
     "metadata": {},
     "output_type": "execute_result"
    }
   ],
   "source": [
    "#load model comparison file and extract the comprison column. replace NaN with False\n",
    "try:\n",
    "    booleans = model_Comp['TB vs Yan p_lessthan_alpha']\n",
    "except:\n",
    "    booleans = model_Comp['Yan vs TB p_lessthan_alpha']\n",
    "\n",
    "\n",
    "stat_sig_frame = NMUtility.make_frame(booleans).fillna('')\n",
    "stat_sig_frame\n",
    "\n",
    "#replace True with '*' and False with 'ns'\n",
    "starred_frame = stat_sig_frame.replace(to_replace=[False, True], value=['ns','*'])\n",
    "starred_frame"
   ]
  },
  {
   "cell_type": "code",
   "execution_count": 312,
   "metadata": {
    "collapsed": false,
    "run_control": {
     "read_only": false
    }
   },
   "outputs": [],
   "source": [
    "starred_frame.to_csv(\"Model Compare Summary {}.csv\".format(measure_type))"
   ]
  },
  {
   "cell_type": "code",
   "execution_count": 17,
   "metadata": {
    "collapsed": true
   },
   "outputs": [],
   "source": [
    "NMUtility.make_frame??"
   ]
  },
  {
   "cell_type": "markdown",
   "metadata": {},
   "source": [
    "# STOP!!!!"
   ]
  },
  {
   "cell_type": "code",
   "execution_count": 93,
   "metadata": {
    "collapsed": false,
    "run_control": {
     "read_only": false
    }
   },
   "outputs": [
    {
     "name": "stdout",
     "output_type": "stream",
     "text": [
      "eL=-55.0      gnaps=1.8 == gnaps=2.4\n",
      "eL=-55.0      gnaps=1.8 == gnaps=3.0\n",
      "eL=-55.0      gnaps=1.8 == gnaps=3.6\n",
      "eL=-55.0      gnaps=1.8 == gnaps=4.2\n",
      "gnaps=1.8      eL=-55.0 == eL=-60.0\n",
      "gnaps=1.8      eL=-55.0 == eL=-65.0\n",
      "eL=-55.0      gnaps=2.4 == gnaps=3.0\n",
      "eL=-55.0      gnaps=2.4 == gnaps=3.6\n",
      "eL=-55.0      gnaps=2.4 == gnaps=4.2\n",
      "gnaps=2.4      eL=-55.0 == eL=-60.0\n",
      "gnaps=2.4      eL=-55.0 == eL=-65.0\n",
      "eL=-55.0      gnaps=3.0 == gnaps=3.6\n",
      "eL=-55.0      gnaps=3.0 == gnaps=4.2\n",
      "gnaps=3.0      eL=-55.0 == eL=-60.0\n",
      "gnaps=3.0      eL=-55.0 == eL=-65.0\n",
      "eL=-55.0      gnaps=3.6 == gnaps=4.2\n",
      "gnaps=3.6      eL=-55.0 == eL=-60.0\n",
      "gnaps=3.6      eL=-55.0 == eL=-65.0\n",
      "gnaps=4.2      eL=-55.0 == eL=-60.0\n",
      "gnaps=4.2      eL=-55.0 == eL=-65.0\n",
      "eL=-60.0      gnaps=1.8 == gnaps=2.4\n",
      "eL=-60.0      gnaps=1.8 == gnaps=3.0\n",
      "eL=-60.0      gnaps=1.8 == gnaps=3.6\n",
      "eL=-60.0      gnaps=1.8 == gnaps=4.2\n",
      "gnaps=1.8      eL=-60.0 == eL=-65.0\n",
      "eL=-60.0      gnaps=2.4 == gnaps=3.0\n",
      "eL=-60.0      gnaps=2.4 == gnaps=3.6\n",
      "eL=-60.0      gnaps=2.4 == gnaps=4.2\n",
      "gnaps=2.4      eL=-60.0 == eL=-65.0\n",
      "eL=-60.0      gnaps=3.0 == gnaps=3.6\n",
      "eL=-60.0      gnaps=3.0 == gnaps=4.2\n",
      "gnaps=3.0      eL=-60.0 == eL=-65.0\n",
      "eL=-60.0      gnaps=3.6 == gnaps=4.2\n",
      "gnaps=3.6      eL=-60.0 == eL=-65.0\n",
      "gnaps=4.2      eL=-60.0 == eL=-65.0\n",
      "eL=-65.0      gnaps=1.8 == gnaps=2.4\n",
      "eL=-65.0      gnaps=1.8 == gnaps=3.0\n",
      "eL=-65.0      gnaps=1.8 == gnaps=3.6\n",
      "eL=-65.0      gnaps=1.8 == gnaps=4.2\n",
      "eL=-65.0      gnaps=2.4 == gnaps=3.0\n",
      "eL=-65.0      gnaps=2.4 == gnaps=3.6\n",
      "eL=-65.0      gnaps=2.4 == gnaps=4.2\n",
      "eL=-65.0      gnaps=3.0 == gnaps=3.6\n",
      "eL=-65.0      gnaps=3.0 == gnaps=4.2\n",
      "eL=-65.0      gnaps=3.6 == gnaps=4.2\n",
      "45\n"
     ]
    }
   ],
   "source": [
    "n=0\n",
    "for i in s:\n",
    "    i1,i2 = [ii.strip() for ii in i.split('vs')]\n",
    "    #print \"'{}'\".format(i1),\"'{}'\".format(i2)\n",
    "    #print i1.split(' ')[0:2],\":\" ,i2.split(' ')[0:2]\n",
    "    el1, gn1 = i1.split(' ')[0:2]\n",
    "    el2, gn2 = i2.split(' ')[0:2]\n",
    "    #print \">\", el1, el2\n",
    "    #print \">\", gn1, gn2\n",
    "    if (gn1 == gn2) or (el1 == el2):\n",
    "        n += 1\n",
    "        if (el1 == el2):\n",
    "            #print i1, \", \",i2\n",
    "            print el1, \"    \", gn1,\"==\", gn2\n",
    "        if (gn1 == gn2):\n",
    "            print gn1, \"    \", el1, \"==\", el2\n",
    "print n"
   ]
  },
  {
   "cell_type": "code",
   "execution_count": null,
   "metadata": {
    "collapsed": true
   },
   "outputs": [],
   "source": []
  }
 ],
 "metadata": {
  "kernelspec": {
   "display_name": "Python 2",
   "language": "python",
   "name": "python2"
  },
  "language_info": {
   "codemirror_mode": {
    "name": "ipython",
    "version": 2
   },
   "file_extension": ".py",
   "mimetype": "text/x-python",
   "name": "python",
   "nbconvert_exporter": "python",
   "pygments_lexer": "ipython2",
   "version": "2.7.10"
  }
 },
 "nbformat": 4,
 "nbformat_minor": 0
}
