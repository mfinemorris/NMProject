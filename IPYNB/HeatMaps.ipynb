{
 "metadata": {
  "name": "",
  "signature": "sha256:e540d27e52e28c2f629c7dad5dc24d6d3b7cc2d6a62442332059637e512eb8b0"
 },
 "nbformat": 3,
 "nbformat_minor": 0,
 "worksheets": [
  {
   "cells": [
    {
     "cell_type": "heading",
     "level": 1,
     "metadata": {},
     "source": [
      "Heat Maps"
     ]
    },
    {
     "cell_type": "markdown",
     "metadata": {},
     "source": [
      "Make heatmaps of different timeseries statistics (Burst Duration, Interburst Interval, etc) using functions from NMAPlots. "
     ]
    },
    {
     "cell_type": "code",
     "collapsed": false,
     "input": [
      "import matplotlib.pyplot as plt\n",
      "import numpy as np\n",
      "import pandas as pd\n",
      "#import copy\n",
      "import os, sys, re\n",
      "import NMUtility, NMAPlots\n",
      "#from NMAPlots import heatmap_from_array, heatmap_from_dataframe, show_values"
     ],
     "language": "python",
     "metadata": {
      "run_control": {
       "read_only": false
      }
     },
     "outputs": [],
     "prompt_number": 1
    },
    {
     "cell_type": "heading",
     "level": 1,
     "metadata": {},
     "source": [
      "PREPROCESS DATA"
     ]
    },
    {
     "cell_type": "heading",
     "level": 2,
     "metadata": {},
     "source": [
      "LOAD DATA"
     ]
    },
    {
     "cell_type": "code",
     "collapsed": false,
     "input": [
      "directory = '/Users/morganfine-morris/Documents/Repos/NMProject/Paper/Data and Analysis/short TB Yan/BASS Output'#'/volumes/NO NAME/Analysis'\n",
      "files = [x for x in os.listdir(directory) if 'csv' in x]\n",
      "os.path.isdir(directory)"
     ],
     "language": "python",
     "metadata": {
      "run_control": {
       "read_only": false
      }
     },
     "outputs": [
      {
       "metadata": {},
       "output_type": "pyout",
       "prompt_number": 2,
       "text": [
        "True"
       ]
      }
     ],
     "prompt_number": 2
    },
    {
     "cell_type": "code",
     "collapsed": false,
     "input": [
      "burst_res = [i for i in files if 'Bursts_Results_Summary' in i]\n",
      "csv_t,csv_y = burst_res\n",
      "burst_res"
     ],
     "language": "python",
     "metadata": {
      "run_control": {
       "read_only": false
      }
     },
     "outputs": [
      {
       "metadata": {},
       "output_type": "pyout",
       "prompt_number": 3,
       "text": [
        "['TB_all_gnap_eL.csv_Bursts_Results_Summary.csv',\n",
        " 'Yan_all_gnap_eL.csv_Bursts_Results_Summary.csv']"
       ]
      }
     ],
     "prompt_number": 3
    },
    {
     "cell_type": "code",
     "collapsed": false,
     "input": [
      "peak_res = [i for i in files if 'Peaks_Results_Summary' in i]\n",
      "csv_t,csv_y = peak_res\n",
      "peak_res"
     ],
     "language": "python",
     "metadata": {
      "run_control": {
       "read_only": false
      }
     },
     "outputs": [
      {
       "metadata": {},
       "output_type": "pyout",
       "prompt_number": 4,
       "text": [
        "['TB_all_gnap_eL.csv_Peaks_Results_Summary.csv',\n",
        " 'Yan_all_gnap_eL.csv_Peaks_Results_Summary.csv']"
       ]
      }
     ],
     "prompt_number": 4
    },
    {
     "cell_type": "code",
     "collapsed": false,
     "input": [
      "fullpath_y = os.path.join(directory, csv_y)\n",
      "fullpath_t = os.path.join(directory, csv_t)\n",
      "print fullpath_y, '\\n',fullpath_t\n",
      "\n",
      "table_y = pd.DataFrame.from_csv(fullpath_y)\n",
      "table_t= pd.DataFrame.from_csv(fullpath_t)\n",
      "paramsets = set(table_y.index+table_t.index)"
     ],
     "language": "python",
     "metadata": {
      "run_control": {
       "read_only": false
      }
     },
     "outputs": [
      {
       "output_type": "stream",
       "stream": "stdout",
       "text": [
        "/Users/morganfine-morris/Documents/Repos/NMProject/Paper/Data and Analysis/short TB Yan/BASS Output/Yan_all_gnap_eL.csv_Bursts_Results_Summary.csv \n",
        "/Users/morganfine-morris/Documents/Repos/NMProject/Paper/Data and Analysis/short TB Yan/BASS Output/TB_all_gnap_eL.csv_Bursts_Results_Summary.csv\n"
       ]
      }
     ],
     "prompt_number": 4
    },
    {
     "cell_type": "heading",
     "level": 2,
     "metadata": {},
     "source": [
      "SELECT STAT TYPE TO PLOT"
     ]
    },
    {
     "cell_type": "code",
     "collapsed": false,
     "input": [
      "#extract mean values\n",
      "all_measures_y = NMUtility.select_by_stat_type(table_y).fillna(0)\n",
      "all_measures_t = NMUtility.select_by_stat_type(table_t).fillna(0)\n",
      "all_measures_y"
     ],
     "language": "python",
     "metadata": {
      "run_control": {
       "read_only": false
      }
     },
     "outputs": [
      {
       "html": [
        "<div style=\"max-height:1000px;max-width:1500px;overflow:auto;\">\n",
        "<table border=\"1\" class=\"dataframe\">\n",
        "  <thead>\n",
        "    <tr style=\"text-align: right;\">\n",
        "      <th></th>\n",
        "      <th>Burst Duration</th>\n",
        "      <th>Interburst Interval</th>\n",
        "      <th>Total Cycle Time</th>\n",
        "      <th>Peaks per Burst</th>\n",
        "      <th>Intraburst Frequency</th>\n",
        "    </tr>\n",
        "  </thead>\n",
        "  <tbody>\n",
        "    <tr>\n",
        "      <th>eL=-55.0 gnaps=1.8</th>\n",
        "      <td> 1.011908</td>\n",
        "      <td> 2.715760</td>\n",
        "      <td> 3.727709</td>\n",
        "      <td> 38.123457</td>\n",
        "      <td> 37.743394</td>\n",
        "    </tr>\n",
        "    <tr>\n",
        "      <th>eL=-55.0 gnaps=2.4</th>\n",
        "      <td> 1.848286</td>\n",
        "      <td> 1.876744</td>\n",
        "      <td> 3.725047</td>\n",
        "      <td> 49.308642</td>\n",
        "      <td> 26.715041</td>\n",
        "    </tr>\n",
        "    <tr>\n",
        "      <th>eL=-55.0 gnaps=3.0</th>\n",
        "      <td> 2.332272</td>\n",
        "      <td> 1.387140</td>\n",
        "      <td> 3.719365</td>\n",
        "      <td> 60.419753</td>\n",
        "      <td> 26.012415</td>\n",
        "    </tr>\n",
        "    <tr>\n",
        "      <th>eL=-55.0 gnaps=3.6</th>\n",
        "      <td> 2.669849</td>\n",
        "      <td> 1.045905</td>\n",
        "      <td> 3.715721</td>\n",
        "      <td> 71.407407</td>\n",
        "      <td> 26.900815</td>\n",
        "    </tr>\n",
        "    <tr>\n",
        "      <th>eL=-55.0 gnaps=4.2</th>\n",
        "      <td> 2.887633</td>\n",
        "      <td> 0.825758</td>\n",
        "      <td> 3.713210</td>\n",
        "      <td> 81.271605</td>\n",
        "      <td> 28.351038</td>\n",
        "    </tr>\n",
        "    <tr>\n",
        "      <th>eL=-60.0 gnaps=1.8</th>\n",
        "      <td> 0.387687</td>\n",
        "      <td> 3.340912</td>\n",
        "      <td> 3.728595</td>\n",
        "      <td> 28.901235</td>\n",
        "      <td> 74.538920</td>\n",
        "    </tr>\n",
        "    <tr>\n",
        "      <th>eL=-60.0 gnaps=2.4</th>\n",
        "      <td> 0.645440</td>\n",
        "      <td> 3.080207</td>\n",
        "      <td> 3.725610</td>\n",
        "      <td> 37.950617</td>\n",
        "      <td> 58.907200</td>\n",
        "    </tr>\n",
        "    <tr>\n",
        "      <th>eL=-60.0 gnaps=3.0</th>\n",
        "      <td> 1.268767</td>\n",
        "      <td> 2.450862</td>\n",
        "      <td> 3.719524</td>\n",
        "      <td> 46.987654</td>\n",
        "      <td> 37.262101</td>\n",
        "    </tr>\n",
        "    <tr>\n",
        "      <th>eL=-60.0 gnaps=3.6</th>\n",
        "      <td> 1.776314</td>\n",
        "      <td> 1.943853</td>\n",
        "      <td> 3.719870</td>\n",
        "      <td> 53.851852</td>\n",
        "      <td> 30.442716</td>\n",
        "    </tr>\n",
        "    <tr>\n",
        "      <th>eL=-60.0 gnaps=4.2</th>\n",
        "      <td> 2.088798</td>\n",
        "      <td> 1.632268</td>\n",
        "      <td> 3.720954</td>\n",
        "      <td> 60.234568</td>\n",
        "      <td> 28.908446</td>\n",
        "    </tr>\n",
        "    <tr>\n",
        "      <th>eL=-65.0 gnaps=1.8</th>\n",
        "      <td> 0.344249</td>\n",
        "      <td> 3.384449</td>\n",
        "      <td> 3.728684</td>\n",
        "      <td> 25.765432</td>\n",
        "      <td> 74.720563</td>\n",
        "    </tr>\n",
        "    <tr>\n",
        "      <th>eL=-65.0 gnaps=2.4</th>\n",
        "      <td> 0.396545</td>\n",
        "      <td> 3.332157</td>\n",
        "      <td> 3.728680</td>\n",
        "      <td> 33.790123</td>\n",
        "      <td> 85.145140</td>\n",
        "    </tr>\n",
        "    <tr>\n",
        "      <th>eL=-65.0 gnaps=3.0</th>\n",
        "      <td> 0.454562</td>\n",
        "      <td> 3.273519</td>\n",
        "      <td> 3.728059</td>\n",
        "      <td> 41.802469</td>\n",
        "      <td> 91.917711</td>\n",
        "    </tr>\n",
        "    <tr>\n",
        "      <th>eL=-65.0 gnaps=3.6</th>\n",
        "      <td> 0.662073</td>\n",
        "      <td> 3.063681</td>\n",
        "      <td> 3.725459</td>\n",
        "      <td> 55.123457</td>\n",
        "      <td> 83.343316</td>\n",
        "    </tr>\n",
        "    <tr>\n",
        "      <th>eL=-65.0 gnaps=4.2</th>\n",
        "      <td> 0.966225</td>\n",
        "      <td> 2.755195</td>\n",
        "      <td> 3.721315</td>\n",
        "      <td> 67.790123</td>\n",
        "      <td> 70.299196</td>\n",
        "    </tr>\n",
        "  </tbody>\n",
        "</table>\n",
        "</div>"
       ],
       "metadata": {},
       "output_type": "pyout",
       "prompt_number": 5,
       "text": [
        "                    Burst Duration  Interburst Interval  Total Cycle Time  \\\n",
        "eL=-55.0 gnaps=1.8        1.011908             2.715760          3.727709   \n",
        "eL=-55.0 gnaps=2.4        1.848286             1.876744          3.725047   \n",
        "eL=-55.0 gnaps=3.0        2.332272             1.387140          3.719365   \n",
        "eL=-55.0 gnaps=3.6        2.669849             1.045905          3.715721   \n",
        "eL=-55.0 gnaps=4.2        2.887633             0.825758          3.713210   \n",
        "eL=-60.0 gnaps=1.8        0.387687             3.340912          3.728595   \n",
        "eL=-60.0 gnaps=2.4        0.645440             3.080207          3.725610   \n",
        "eL=-60.0 gnaps=3.0        1.268767             2.450862          3.719524   \n",
        "eL=-60.0 gnaps=3.6        1.776314             1.943853          3.719870   \n",
        "eL=-60.0 gnaps=4.2        2.088798             1.632268          3.720954   \n",
        "eL=-65.0 gnaps=1.8        0.344249             3.384449          3.728684   \n",
        "eL=-65.0 gnaps=2.4        0.396545             3.332157          3.728680   \n",
        "eL=-65.0 gnaps=3.0        0.454562             3.273519          3.728059   \n",
        "eL=-65.0 gnaps=3.6        0.662073             3.063681          3.725459   \n",
        "eL=-65.0 gnaps=4.2        0.966225             2.755195          3.721315   \n",
        "\n",
        "                    Peaks per Burst  Intraburst Frequency  \n",
        "eL=-55.0 gnaps=1.8        38.123457             37.743394  \n",
        "eL=-55.0 gnaps=2.4        49.308642             26.715041  \n",
        "eL=-55.0 gnaps=3.0        60.419753             26.012415  \n",
        "eL=-55.0 gnaps=3.6        71.407407             26.900815  \n",
        "eL=-55.0 gnaps=4.2        81.271605             28.351038  \n",
        "eL=-60.0 gnaps=1.8        28.901235             74.538920  \n",
        "eL=-60.0 gnaps=2.4        37.950617             58.907200  \n",
        "eL=-60.0 gnaps=3.0        46.987654             37.262101  \n",
        "eL=-60.0 gnaps=3.6        53.851852             30.442716  \n",
        "eL=-60.0 gnaps=4.2        60.234568             28.908446  \n",
        "eL=-65.0 gnaps=1.8        25.765432             74.720563  \n",
        "eL=-65.0 gnaps=2.4        33.790123             85.145140  \n",
        "eL=-65.0 gnaps=3.0        41.802469             91.917711  \n",
        "eL=-65.0 gnaps=3.6        55.123457             83.343316  \n",
        "eL=-65.0 gnaps=4.2        67.790123             70.299196  "
       ]
      }
     ],
     "prompt_number": 5
    },
    {
     "cell_type": "heading",
     "level": 2,
     "metadata": {},
     "source": [
      "CHOOSE A MEASUREMENT"
     ]
    },
    {
     "cell_type": "code",
     "collapsed": false,
     "input": [
      "print \"Possible choices:\"\n",
      "choices = all_measures_y.keys().values\n",
      "list(enumerate(choices))"
     ],
     "language": "python",
     "metadata": {
      "run_control": {
       "read_only": false
      }
     },
     "outputs": [
      {
       "output_type": "stream",
       "stream": "stdout",
       "text": [
        "Possible choices:\n"
       ]
      },
      {
       "metadata": {},
       "output_type": "pyout",
       "prompt_number": 6,
       "text": [
        "[(0, 'Burst Duration'),\n",
        " (1, 'Interburst Interval'),\n",
        " (2, 'Total Cycle Time'),\n",
        " (3, 'Peaks per Burst'),\n",
        " (4, 'Intraburst Frequency')]"
       ]
      }
     ],
     "prompt_number": 6
    },
    {
     "cell_type": "code",
     "collapsed": false,
     "input": [
      "key = choices[0]\n",
      "key"
     ],
     "language": "python",
     "metadata": {
      "run_control": {
       "read_only": false
      }
     },
     "outputs": [
      {
       "metadata": {},
       "output_type": "pyout",
       "prompt_number": 7,
       "text": [
        "'Burst Duration'"
       ]
      }
     ],
     "prompt_number": 7
    },
    {
     "cell_type": "heading",
     "level": 2,
     "metadata": {},
     "source": [
      "REINDEX DATA (OPTIONAL)"
     ]
    },
    {
     "cell_type": "code",
     "collapsed": false,
     "input": [
      "#optional\n",
      "#if necessary, this is where you can adjust the row keys\n",
      "def re_index(key): \n",
      "    r = re.compile(\"([a-zA-Z]+)([\\-][\\d+.\\d+]+|[\\d+.\\d+]+)\")\n",
      "\n",
      "    p1KEY, p2KEY = [i.replace(\"=\",\"\") for i in key.split(\" \")]\n",
      "\n",
      "    name1, p1_val = r.match(p1KEY).groups()\n",
      "    name2, p2_val = r.match(p2KEY).groups()\n",
      "    return p1_val+name1+\" \"+p2_val+name2\n",
      "\n",
      "try:\n",
      "    all_measures_y.rename(re_index,inplace=True)\n",
      "except:\n",
      "    print \"Could not reindex table\"\n",
      "try:\n",
      "    all_measures_t.rename(re_index,inplace=True)\n",
      "except:\n",
      "    print \"Could not reindex table\""
     ],
     "language": "python",
     "metadata": {
      "run_control": {
       "read_only": false
      }
     },
     "outputs": [],
     "prompt_number": 8
    },
    {
     "cell_type": "heading",
     "level": 2,
     "metadata": {},
     "source": [
      "MAKE FRAMES"
     ]
    },
    {
     "cell_type": "code",
     "collapsed": false,
     "input": [
      "def make_frame(measurement, param_names=[]):\n",
      "    '''\n",
      "    param_names is a list of parameters names used to label data.\n",
      "    <param_1_val><param_1_name> <param_2_val><param_2_name>\n",
      "    '''\n",
      "    import re\n",
      "    r1 = re.compile(\"([\\-][\\d+.\\d+]+|[\\d+.\\d+]+)([a-zA-Z]+)\")\n",
      "    r2 = re.compile(\"([a-zA-Z]+)([\\-][\\d+.\\d+]+|[\\d+.\\d+]+)\")\n",
      "\n",
      "    temp ={}\n",
      "\n",
      "    for k,v in measurement.iteritems():\n",
      "        \n",
      "        p1KEY, p2KEY = k.split(\" \")\n",
      "        try:\n",
      "            p1_val, name1 = r1.match(p1KEY).groups()\n",
      "            p2_val, name2 = r1.match(p2KEY).groups()\n",
      "        except AttributeError:\n",
      "            try:\n",
      "                name1, p1_val = r2.match(p1KEY).groups()\n",
      "                name2, p2_val = r2.match(p2KEY).groups() \n",
      "            except AttributeError:\n",
      "                raise Exception('row labels in an unexpected format. Valid formats are <param 1 name><param 1 value> <param 2 name><param 2 value>')\n",
      "        \n",
      "        try:\n",
      "            temp[float(p1_val)][float(p2_val)] = v\n",
      "        except:\n",
      "            temp[float(p1_val)] = {}\n",
      "            temp[float(p1_val)][float(p2_val)] = v\n",
      "\n",
      "    return pd.DataFrame.from_dict(temp)        \n",
      "    return df"
     ],
     "language": "python",
     "metadata": {},
     "outputs": [],
     "prompt_number": 9
    },
    {
     "cell_type": "code",
     "collapsed": false,
     "input": [
      "frame_y = make_frame(all_measures_y[key])\n",
      "frame_t = make_frame(all_measures_t[key])\n",
      "frame_y"
     ],
     "language": "python",
     "metadata": {
      "run_control": {
       "read_only": false
      }
     },
     "outputs": [
      {
       "html": [
        "<div style=\"max-height:1000px;max-width:1500px;overflow:auto;\">\n",
        "<table border=\"1\" class=\"dataframe\">\n",
        "  <thead>\n",
        "    <tr style=\"text-align: right;\">\n",
        "      <th></th>\n",
        "      <th>-65.0</th>\n",
        "      <th>-60.0</th>\n",
        "      <th>-55.0</th>\n",
        "    </tr>\n",
        "  </thead>\n",
        "  <tbody>\n",
        "    <tr>\n",
        "      <th>1.8</th>\n",
        "      <td> 0.344249</td>\n",
        "      <td> 0.387687</td>\n",
        "      <td> 1.011908</td>\n",
        "    </tr>\n",
        "    <tr>\n",
        "      <th>2.4</th>\n",
        "      <td> 0.396545</td>\n",
        "      <td> 0.645440</td>\n",
        "      <td> 1.848286</td>\n",
        "    </tr>\n",
        "    <tr>\n",
        "      <th>3.0</th>\n",
        "      <td> 0.454562</td>\n",
        "      <td> 1.268767</td>\n",
        "      <td> 2.332272</td>\n",
        "    </tr>\n",
        "    <tr>\n",
        "      <th>3.6</th>\n",
        "      <td> 0.662073</td>\n",
        "      <td> 1.776314</td>\n",
        "      <td> 2.669849</td>\n",
        "    </tr>\n",
        "    <tr>\n",
        "      <th>4.2</th>\n",
        "      <td> 0.966225</td>\n",
        "      <td> 2.088798</td>\n",
        "      <td> 2.887633</td>\n",
        "    </tr>\n",
        "  </tbody>\n",
        "</table>\n",
        "</div>"
       ],
       "metadata": {},
       "output_type": "pyout",
       "prompt_number": 10,
       "text": [
        "          -65       -60       -55\n",
        "1.8  0.344249  0.387687  1.011908\n",
        "2.4  0.396545  0.645440  1.848286\n",
        "3.0  0.454562  1.268767  2.332272\n",
        "3.6  0.662073  1.776314  2.669849\n",
        "4.2  0.966225  2.088798  2.887633"
       ]
      }
     ],
     "prompt_number": 10
    },
    {
     "cell_type": "heading",
     "level": 2,
     "metadata": {},
     "source": [
      "ADD ZEROED COLS (OPTIONAL)"
     ]
    },
    {
     "cell_type": "code",
     "collapsed": true,
     "input": [
      "def add_zeroed_cols(frame, col_keys = [-50.0]):\n",
      "    for col in col_keys:\n",
      "        zd = np.zeros((len(frame.index),1))\n",
      "        try:\n",
      "            if frame.get(col):\n",
      "                pass\n",
      "            frame[col] = zd\n",
      "        except ValueError:\n",
      "            print col, \"already exists\"\n",
      "            continue\n",
      "        except Exception as e:\n",
      "            print \"Could not add zero column\", col, \"because\", e\n",
      "            continue\n",
      "    return frame\n",
      "frame_y_2 = add_zeroed_cols(frame_y)\n",
      "frame_y_2"
     ],
     "language": "python",
     "metadata": {
      "run_control": {
       "read_only": false
      }
     },
     "outputs": [
      {
       "html": [
        "<div style=\"max-height:1000px;max-width:1500px;overflow:auto;\">\n",
        "<table border=\"1\" class=\"dataframe\">\n",
        "  <thead>\n",
        "    <tr style=\"text-align: right;\">\n",
        "      <th></th>\n",
        "      <th>-65.0</th>\n",
        "      <th>-60.0</th>\n",
        "      <th>-55.0</th>\n",
        "      <th>-50.0</th>\n",
        "    </tr>\n",
        "  </thead>\n",
        "  <tbody>\n",
        "    <tr>\n",
        "      <th>1.8</th>\n",
        "      <td> 0.344249</td>\n",
        "      <td> 0.387687</td>\n",
        "      <td> 1.011908</td>\n",
        "      <td> 0</td>\n",
        "    </tr>\n",
        "    <tr>\n",
        "      <th>2.4</th>\n",
        "      <td> 0.396545</td>\n",
        "      <td> 0.645440</td>\n",
        "      <td> 1.848286</td>\n",
        "      <td> 0</td>\n",
        "    </tr>\n",
        "    <tr>\n",
        "      <th>3.0</th>\n",
        "      <td> 0.454562</td>\n",
        "      <td> 1.268767</td>\n",
        "      <td> 2.332272</td>\n",
        "      <td> 0</td>\n",
        "    </tr>\n",
        "    <tr>\n",
        "      <th>3.6</th>\n",
        "      <td> 0.662073</td>\n",
        "      <td> 1.776314</td>\n",
        "      <td> 2.669849</td>\n",
        "      <td> 0</td>\n",
        "    </tr>\n",
        "    <tr>\n",
        "      <th>4.2</th>\n",
        "      <td> 0.966225</td>\n",
        "      <td> 2.088798</td>\n",
        "      <td> 2.887633</td>\n",
        "      <td> 0</td>\n",
        "    </tr>\n",
        "  </tbody>\n",
        "</table>\n",
        "</div>"
       ],
       "metadata": {},
       "output_type": "pyout",
       "prompt_number": 11,
       "text": [
        "          -65       -60       -55  -50\n",
        "1.8  0.344249  0.387687  1.011908    0\n",
        "2.4  0.396545  0.645440  1.848286    0\n",
        "3.0  0.454562  1.268767  2.332272    0\n",
        "3.6  0.662073  1.776314  2.669849    0\n",
        "4.2  0.966225  2.088798  2.887633    0"
       ]
      }
     ],
     "prompt_number": 11
    },
    {
     "cell_type": "heading",
     "level": 2,
     "metadata": {},
     "source": [
      "REGROUP"
     ]
    },
    {
     "cell_type": "code",
     "collapsed": false,
     "input": [
      "#regoup\n",
      "def regroup(col1, col2, col_labels=['yan','tb'],fill_val=0):\n",
      "    single_measure = pd.concat([col1,col2],axis=1,keys=col_labels).fillna(fill_val)\n",
      "    return single_measure\n",
      "\n",
      "def regroup_all(all_measures1,all_measures2):\n",
      "    #### regroup by measure. Not using because I can't figure out how to scale the colorbar for two heat maps\n",
      "    # group so that measures are each in own data frame with the the model names as the columns \n",
      "    group_by_meas = {}\n",
      "    for k in all_measures1:\n",
      "        y,t = all_measures1[k],all_measures2[k]\n",
      "        single_measure = pd.concat([y,t],axis=1,keys=['yan','tb']).fillna(0)\n",
      "        group_by_meas[k] = single_measure\n",
      "    return group_by_meas\n",
      "\n",
      "group_by_meas = regroup_all(all_measures_y,all_measures_t)\n",
      "meas_keys = group_by_meas.keys()\n",
      "group_by_meas.keys()"
     ],
     "language": "python",
     "metadata": {
      "run_control": {
       "read_only": false
      }
     },
     "outputs": [
      {
       "metadata": {},
       "output_type": "pyout",
       "prompt_number": 115,
       "text": [
        "['Interburst Interval',\n",
        " 'Peaks per Burst',\n",
        " 'Total Cycle Time',\n",
        " 'Burst Duration',\n",
        " 'Intraburst Frequency']"
       ]
      }
     ],
     "prompt_number": 115
    },
    {
     "cell_type": "heading",
     "level": 1,
     "metadata": {},
     "source": [
      "PLOT MAP"
     ]
    },
    {
     "cell_type": "code",
     "collapsed": false,
     "input": [
      "heatmap_from_dataframe??"
     ],
     "language": "python",
     "metadata": {},
     "outputs": [],
     "prompt_number": 27
    },
    {
     "cell_type": "code",
     "collapsed": false,
     "input": [
      "ax_y, cbar_y = heatmap_from_dataframe()\n",
      "ax_t, cbar_t =heatmap_from_dataframe()\n"
     ],
     "language": "python",
     "metadata": {
      "run_control": {
       "read_only": false
      }
     },
     "outputs": []
    },
    {
     "cell_type": "heading",
     "level": 1,
     "metadata": {},
     "source": [
      "--ANNOTATE HEATMAP WITH STAT SIG--"
     ]
    },
    {
     "cell_type": "code",
     "collapsed": false,
     "input": [
      "#load model comparison file and extract the comprison column. replace NaN with False\n",
      "model_Comp = pd.DataFrame.from_csv('model_comparison_{}.csv'.format(key))\n",
      "booleans = model_Comp['TB vs Yan p_lessthan_alpha']\n",
      "stat_sig_frame = make_frame(booleans).fillna(False)\n",
      "stat_sig_frame"
     ],
     "language": "python",
     "metadata": {},
     "outputs": [
      {
       "html": [
        "<div style=\"max-height:1000px;max-width:1500px;overflow:auto;\">\n",
        "<table border=\"1\" class=\"dataframe\">\n",
        "  <thead>\n",
        "    <tr style=\"text-align: right;\">\n",
        "      <th></th>\n",
        "      <th>-65.0</th>\n",
        "      <th>-60.0</th>\n",
        "      <th>-55.0</th>\n",
        "      <th>-50.0</th>\n",
        "    </tr>\n",
        "  </thead>\n",
        "  <tbody>\n",
        "    <tr>\n",
        "      <th>1.8</th>\n",
        "      <td> False</td>\n",
        "      <td> False</td>\n",
        "      <td> True</td>\n",
        "      <td>  True</td>\n",
        "    </tr>\n",
        "    <tr>\n",
        "      <th>2.4</th>\n",
        "      <td> False</td>\n",
        "      <td>  True</td>\n",
        "      <td> True</td>\n",
        "      <td>  True</td>\n",
        "    </tr>\n",
        "    <tr>\n",
        "      <th>3.0</th>\n",
        "      <td> False</td>\n",
        "      <td>  True</td>\n",
        "      <td> True</td>\n",
        "      <td> False</td>\n",
        "    </tr>\n",
        "    <tr>\n",
        "      <th>3.6</th>\n",
        "      <td>  True</td>\n",
        "      <td>  True</td>\n",
        "      <td> True</td>\n",
        "      <td> False</td>\n",
        "    </tr>\n",
        "    <tr>\n",
        "      <th>4.2</th>\n",
        "      <td>  True</td>\n",
        "      <td>  True</td>\n",
        "      <td> True</td>\n",
        "      <td> False</td>\n",
        "    </tr>\n",
        "  </tbody>\n",
        "</table>\n",
        "</div>"
       ],
       "metadata": {},
       "output_type": "pyout",
       "prompt_number": 53,
       "text": [
        "       -65    -60   -55    -50\n",
        "1.8  False  False  True   True\n",
        "2.4  False   True  True   True\n",
        "3.0  False   True  True  False\n",
        "3.6   True   True  True  False\n",
        "4.2   True   True  True  False"
       ]
      }
     ],
     "prompt_number": 53
    },
    {
     "cell_type": "code",
     "collapsed": false,
     "input": [
      "#replace True with '*' and False with 'ns'\n",
      "starred_frame = stat_sig_frame.replace(to_replace=[False, True], value=['ns','*'])\n",
      "starred_frame"
     ],
     "language": "python",
     "metadata": {},
     "outputs": [
      {
       "html": [
        "<div style=\"max-height:1000px;max-width:1500px;overflow:auto;\">\n",
        "<table border=\"1\" class=\"dataframe\">\n",
        "  <thead>\n",
        "    <tr style=\"text-align: right;\">\n",
        "      <th></th>\n",
        "      <th>-65.0</th>\n",
        "      <th>-60.0</th>\n",
        "      <th>-55.0</th>\n",
        "      <th>-50.0</th>\n",
        "    </tr>\n",
        "  </thead>\n",
        "  <tbody>\n",
        "    <tr>\n",
        "      <th>1.8</th>\n",
        "      <td> ns</td>\n",
        "      <td> ns</td>\n",
        "      <td> *</td>\n",
        "      <td>  *</td>\n",
        "    </tr>\n",
        "    <tr>\n",
        "      <th>2.4</th>\n",
        "      <td> ns</td>\n",
        "      <td>  *</td>\n",
        "      <td> *</td>\n",
        "      <td>  *</td>\n",
        "    </tr>\n",
        "    <tr>\n",
        "      <th>3.0</th>\n",
        "      <td> ns</td>\n",
        "      <td>  *</td>\n",
        "      <td> *</td>\n",
        "      <td> ns</td>\n",
        "    </tr>\n",
        "    <tr>\n",
        "      <th>3.6</th>\n",
        "      <td>  *</td>\n",
        "      <td>  *</td>\n",
        "      <td> *</td>\n",
        "      <td> ns</td>\n",
        "    </tr>\n",
        "    <tr>\n",
        "      <th>4.2</th>\n",
        "      <td>  *</td>\n",
        "      <td>  *</td>\n",
        "      <td> *</td>\n",
        "      <td> ns</td>\n",
        "    </tr>\n",
        "  </tbody>\n",
        "</table>\n",
        "</div>"
       ],
       "metadata": {},
       "output_type": "pyout",
       "prompt_number": 55,
       "text": [
        "    -65 -60 -55 -50\n",
        "1.8  ns  ns   *   *\n",
        "2.4  ns   *   *   *\n",
        "3.0  ns   *   *  ns\n",
        "3.6   *   *   *  ns\n",
        "4.2   *   *   *  ns"
       ]
      }
     ],
     "prompt_number": 55
    },
    {
     "cell_type": "code",
     "collapsed": false,
     "input": [
      "inspect.getsource(np.sqrt)"
     ],
     "language": "python",
     "metadata": {},
     "outputs": [
      {
       "ename": "TypeError",
       "evalue": "<ufunc 'sqrt'> is not a module, class, method, function, traceback, frame, or code object",
       "output_type": "pyerr",
       "traceback": [
        "\u001b[0;31m---------------------------------------------------------------------------\u001b[0m\n\u001b[0;31mTypeError\u001b[0m                                 Traceback (most recent call last)",
        "\u001b[0;32m<ipython-input-47-2eb7ef244546>\u001b[0m in \u001b[0;36m<module>\u001b[0;34m()\u001b[0m\n\u001b[0;32m----> 1\u001b[0;31m \u001b[0minspect\u001b[0m\u001b[0;34m.\u001b[0m\u001b[0mgetsource\u001b[0m\u001b[0;34m(\u001b[0m\u001b[0mnp\u001b[0m\u001b[0;34m.\u001b[0m\u001b[0msqrt\u001b[0m\u001b[0;34m)\u001b[0m\u001b[0;34m\u001b[0m\u001b[0m\n\u001b[0m",
        "\u001b[0;32m/Users/morganfine-morris/anaconda/lib/python2.7/inspect.pyc\u001b[0m in \u001b[0;36mgetsource\u001b[0;34m(object)\u001b[0m\n\u001b[1;32m    699\u001b[0m     \u001b[0;32mor\u001b[0m \u001b[0mcode\u001b[0m \u001b[0mobject\u001b[0m\u001b[0;34m.\u001b[0m  \u001b[0mThe\u001b[0m \u001b[0msource\u001b[0m \u001b[0mcode\u001b[0m \u001b[0;32mis\u001b[0m \u001b[0mreturned\u001b[0m \u001b[0;32mas\u001b[0m \u001b[0ma\u001b[0m \u001b[0msingle\u001b[0m \u001b[0mstring\u001b[0m\u001b[0;34m.\u001b[0m  \u001b[0mAn\u001b[0m\u001b[0;34m\u001b[0m\u001b[0m\n\u001b[1;32m    700\u001b[0m     IOError is raised if the source code cannot be retrieved.\"\"\"\n\u001b[0;32m--> 701\u001b[0;31m     \u001b[0mlines\u001b[0m\u001b[0;34m,\u001b[0m \u001b[0mlnum\u001b[0m \u001b[0;34m=\u001b[0m \u001b[0mgetsourcelines\u001b[0m\u001b[0;34m(\u001b[0m\u001b[0mobject\u001b[0m\u001b[0;34m)\u001b[0m\u001b[0;34m\u001b[0m\u001b[0m\n\u001b[0m\u001b[1;32m    702\u001b[0m     \u001b[0;32mreturn\u001b[0m \u001b[0mstring\u001b[0m\u001b[0;34m.\u001b[0m\u001b[0mjoin\u001b[0m\u001b[0;34m(\u001b[0m\u001b[0mlines\u001b[0m\u001b[0;34m,\u001b[0m \u001b[0;34m''\u001b[0m\u001b[0;34m)\u001b[0m\u001b[0;34m\u001b[0m\u001b[0m\n\u001b[1;32m    703\u001b[0m \u001b[0;34m\u001b[0m\u001b[0m\n",
        "\u001b[0;32m/Users/morganfine-morris/anaconda/lib/python2.7/inspect.pyc\u001b[0m in \u001b[0;36mgetsourcelines\u001b[0;34m(object)\u001b[0m\n\u001b[1;32m    688\u001b[0m     \u001b[0moriginal\u001b[0m \u001b[0msource\u001b[0m \u001b[0mfile\u001b[0m \u001b[0mthe\u001b[0m \u001b[0mfirst\u001b[0m \u001b[0mline\u001b[0m \u001b[0mof\u001b[0m \u001b[0mcode\u001b[0m \u001b[0mwas\u001b[0m \u001b[0mfound\u001b[0m\u001b[0;34m.\u001b[0m  \u001b[0mAn\u001b[0m \u001b[0mIOError\u001b[0m \u001b[0;32mis\u001b[0m\u001b[0;34m\u001b[0m\u001b[0m\n\u001b[1;32m    689\u001b[0m     raised if the source code cannot be retrieved.\"\"\"\n\u001b[0;32m--> 690\u001b[0;31m     \u001b[0mlines\u001b[0m\u001b[0;34m,\u001b[0m \u001b[0mlnum\u001b[0m \u001b[0;34m=\u001b[0m \u001b[0mfindsource\u001b[0m\u001b[0;34m(\u001b[0m\u001b[0mobject\u001b[0m\u001b[0;34m)\u001b[0m\u001b[0;34m\u001b[0m\u001b[0m\n\u001b[0m\u001b[1;32m    691\u001b[0m \u001b[0;34m\u001b[0m\u001b[0m\n\u001b[1;32m    692\u001b[0m     \u001b[0;32mif\u001b[0m \u001b[0mismodule\u001b[0m\u001b[0;34m(\u001b[0m\u001b[0mobject\u001b[0m\u001b[0;34m)\u001b[0m\u001b[0;34m:\u001b[0m \u001b[0;32mreturn\u001b[0m \u001b[0mlines\u001b[0m\u001b[0;34m,\u001b[0m \u001b[0;36m0\u001b[0m\u001b[0;34m\u001b[0m\u001b[0m\n",
        "\u001b[0;32m/Users/morganfine-morris/anaconda/lib/python2.7/inspect.pyc\u001b[0m in \u001b[0;36mfindsource\u001b[0;34m(object)\u001b[0m\n\u001b[1;32m    524\u001b[0m     is raised if the source code cannot be retrieved.\"\"\"\n\u001b[1;32m    525\u001b[0m \u001b[0;34m\u001b[0m\u001b[0m\n\u001b[0;32m--> 526\u001b[0;31m     \u001b[0mfile\u001b[0m \u001b[0;34m=\u001b[0m \u001b[0mgetfile\u001b[0m\u001b[0;34m(\u001b[0m\u001b[0mobject\u001b[0m\u001b[0;34m)\u001b[0m\u001b[0;34m\u001b[0m\u001b[0m\n\u001b[0m\u001b[1;32m    527\u001b[0m     \u001b[0msourcefile\u001b[0m \u001b[0;34m=\u001b[0m \u001b[0mgetsourcefile\u001b[0m\u001b[0;34m(\u001b[0m\u001b[0mobject\u001b[0m\u001b[0;34m)\u001b[0m\u001b[0;34m\u001b[0m\u001b[0m\n\u001b[1;32m    528\u001b[0m     \u001b[0;32mif\u001b[0m \u001b[0;32mnot\u001b[0m \u001b[0msourcefile\u001b[0m \u001b[0;32mand\u001b[0m \u001b[0mfile\u001b[0m\u001b[0;34m[\u001b[0m\u001b[0;34m:\u001b[0m\u001b[0;36m1\u001b[0m\u001b[0;34m]\u001b[0m \u001b[0;34m+\u001b[0m \u001b[0mfile\u001b[0m\u001b[0;34m[\u001b[0m\u001b[0;34m-\u001b[0m\u001b[0;36m1\u001b[0m\u001b[0;34m:\u001b[0m\u001b[0;34m]\u001b[0m \u001b[0;34m!=\u001b[0m \u001b[0;34m'<>'\u001b[0m\u001b[0;34m:\u001b[0m\u001b[0;34m\u001b[0m\u001b[0m\n",
        "\u001b[0;32m/Users/morganfine-morris/anaconda/lib/python2.7/inspect.pyc\u001b[0m in \u001b[0;36mgetfile\u001b[0;34m(object)\u001b[0m\n\u001b[1;32m    418\u001b[0m         \u001b[0;32mreturn\u001b[0m \u001b[0mobject\u001b[0m\u001b[0;34m.\u001b[0m\u001b[0mco_filename\u001b[0m\u001b[0;34m\u001b[0m\u001b[0m\n\u001b[1;32m    419\u001b[0m     raise TypeError('{!r} is not a module, class, method, '\n\u001b[0;32m--> 420\u001b[0;31m                     'function, traceback, frame, or code object'.format(object))\n\u001b[0m\u001b[1;32m    421\u001b[0m \u001b[0;34m\u001b[0m\u001b[0m\n\u001b[1;32m    422\u001b[0m \u001b[0mModuleInfo\u001b[0m \u001b[0;34m=\u001b[0m \u001b[0mnamedtuple\u001b[0m\u001b[0;34m(\u001b[0m\u001b[0;34m'ModuleInfo'\u001b[0m\u001b[0;34m,\u001b[0m \u001b[0;34m'name suffix mode module_type'\u001b[0m\u001b[0;34m)\u001b[0m\u001b[0;34m\u001b[0m\u001b[0m\n",
        "\u001b[0;31mTypeError\u001b[0m: <ufunc 'sqrt'> is not a module, class, method, function, traceback, frame, or code object"
       ]
      }
     ],
     "prompt_number": 47
    },
    {
     "cell_type": "code",
     "collapsed": false,
     "input": [
      "print booleans, type(booleans)\n",
      "booleans.apply(convert_booleans)"
     ],
     "language": "python",
     "metadata": {},
     "outputs": [
      {
       "output_type": "stream",
       "stream": "stdout",
       "text": [
        "eL-65.0 gnaps4.2     True\n",
        "eL-50.0 gnaps2.4     True\n",
        "eL-65.0 gnaps3.0    False\n",
        "eL-60.0 gnaps1.8    False\n",
        "eL-55.0 gnaps1.8     True\n",
        "eL-60.0 gnaps3.0     True\n",
        "eL-60.0 gnaps4.2     True\n",
        "eL-55.0 gnaps4.2     True\n",
        "eL-60.0 gnaps2.4     True\n",
        "eL-60.0 gnaps3.6     True\n",
        "eL-65.0 gnaps1.8    False\n",
        "eL-65.0 gnaps2.4    False\n",
        "eL-50.0 gnaps1.8     True\n",
        "eL-55.0 gnaps3.6     True\n",
        "eL-55.0 gnaps3.0     True\n",
        "eL-55.0 gnaps2.4     True\n",
        "eL-65.0 gnaps3.6     True\n",
        "Name: TB vs Yan p_lessthan_alpha, dtype: bool <class 'pandas.core.series.Series'>\n"
       ]
      },
      {
       "metadata": {},
       "output_type": "pyout",
       "prompt_number": 42,
       "text": [
        "eL-65.0 gnaps4.2     *\n",
        "eL-50.0 gnaps2.4     *\n",
        "eL-65.0 gnaps3.0    ns\n",
        "eL-60.0 gnaps1.8    ns\n",
        "eL-55.0 gnaps1.8     *\n",
        "eL-60.0 gnaps3.0     *\n",
        "eL-60.0 gnaps4.2     *\n",
        "eL-55.0 gnaps4.2     *\n",
        "eL-60.0 gnaps2.4     *\n",
        "eL-60.0 gnaps3.6     *\n",
        "eL-65.0 gnaps1.8    ns\n",
        "eL-65.0 gnaps2.4    ns\n",
        "eL-50.0 gnaps1.8     *\n",
        "eL-55.0 gnaps3.6     *\n",
        "eL-55.0 gnaps3.0     *\n",
        "eL-55.0 gnaps2.4     *\n",
        "eL-65.0 gnaps3.6     *\n",
        "Name: TB vs Yan p_lessthan_alpha, dtype: object"
       ]
      }
     ],
     "prompt_number": 42
    },
    {
     "cell_type": "code",
     "collapsed": false,
     "input": [
      "print np.array(starred_frame)"
     ],
     "language": "python",
     "metadata": {},
     "outputs": [
      {
       "output_type": "stream",
       "stream": "stdout",
       "text": [
        "[['ns' 'ns' '*' '*']\n",
        " ['ns' '*' '*' '*']\n",
        " ['ns' '*' '*' 'ns']\n",
        " ['*' '*' '*' 'ns']\n",
        " ['*' '*' '*' 'ns']]\n"
       ]
      }
     ],
     "prompt_number": 13
    },
    {
     "cell_type": "code",
     "collapsed": false,
     "input": [
      "#np.flatiter()\n",
      "np.array(starred_frame).flat"
     ],
     "language": "python",
     "metadata": {},
     "outputs": [
      {
       "metadata": {},
       "output_type": "pyout",
       "prompt_number": 22,
       "text": [
        "<numpy.flatiter at 0x106ab3800>"
       ]
      }
     ],
     "prompt_number": 22
    },
    {
     "cell_type": "code",
     "collapsed": false,
     "input": [
      "#reload(NMAPlots)\n",
      "def annotate_w_stat_sig(pc, fmt=\"%.2s\", data=np.array(starred_frame), **kw):\n",
      "    from itertools import izip\n",
      "    pc.update_scalarmappable()\n",
      "    ax = pc.get_axes()\n",
      "    for p, color, value in izip(pc.get_paths(), pc.get_facecolors(),data.flat):\n",
      "        x, y = p.vertices[:-2, :].mean(0)\n",
      "        if np.all(color[:3] > 0.5):\n",
      "            color = (0.0, 0.0, 0.0)\n",
      "        else:\n",
      "            color = (1.0, 1.0, 1.0)\n",
      "        ax.text(x, y, fmt % value, ha=\"center\", va=\"center\", color=color, **kw)\n",
      "\n",
      "\n",
      "frame = frame_y_2\n",
      "#make heat map plot\n",
      "heat_plot = NMAPlots.heatmap_from_dataframe(frame,annotate_function=annotate_w_stat_sig)#data, eL_labels, gnap_labels, key)\n",
      "plt.show()   "
     ],
     "language": "python",
     "metadata": {},
     "outputs": [],
     "prompt_number": 24
    },
    {
     "cell_type": "code",
     "collapsed": false,
     "input": [],
     "language": "python",
     "metadata": {},
     "outputs": [
      {
       "output_type": "stream",
       "stream": "stdout",
       "text": [
        "{}\n",
        "The annotate function should have defaults for all args but the pcolorplot arg set to desired values.\n"
       ]
      }
     ],
     "prompt_number": 51
    },
    {
     "cell_type": "code",
     "collapsed": false,
     "input": [],
     "language": "python",
     "metadata": {},
     "outputs": []
    }
   ],
   "metadata": {}
  }
 ]
}