{
 "metadata": {
  "name": "",
  "signature": "sha256:d269c10178930ba17e110737ad2968fcb0576f857dd1f334e5eeeb2d325605b2"
 },
 "nbformat": 3,
 "nbformat_minor": 0,
 "worksheets": [
  {
   "cells": [
    {
     "cell_type": "markdown",
     "metadata": {},
     "source": [
      "Old, outdated heat maps notebook, retained for reference purposes. See HeatMaps.ipynb for the current version."
     ]
    },
    {
     "cell_type": "heading",
     "level": 1,
     "metadata": {},
     "source": [
      "Setup and Import Data"
     ]
    },
    {
     "cell_type": "code",
     "collapsed": false,
     "input": [
      "import sys\n",
      "from NMAPlots import heatmap_from_array, heatmap_from_dataframe, show_values\n",
      "import NMResources\n",
      "import NMUtility"
     ],
     "language": "python",
     "metadata": {
      "run_control": {
       "read_only": false
      }
     },
     "outputs": [],
     "prompt_number": 10
    },
    {
     "cell_type": "markdown",
     "metadata": {},
     "source": [
      "Run once, or if kernel goes down."
     ]
    },
    {
     "cell_type": "code",
     "collapsed": false,
     "input": [
      "import matplotlib.pyplot as plt\n",
      "import numpy as np\n",
      "import pandas as pd\n",
      "import copy\n",
      "import os, sys, re\n",
      "\n",
      "def select_by_stat_type(data, remove_cols=[u'Burst Start', u'Burst End', u'Edge Event',  \n",
      "                                           u'Peak Amp', u'Peak Time', u'Attack', u'Decay'], stat_type=\"mean\"):\n",
      "    '''\n",
      "    stat type can be any of the keys for the stats calculated by calling pandas.DataFrame.Describe()\n",
      "    '''\n",
      "    df = data.drop(remove_cols,axis=1)\n",
      "\n",
      "    first_col = df.columns.values[0]\n",
      "    return df[df.xs(first_col,axis=1) == 'mean'].drop(first_col, axis=1)\n",
      "\n",
      "\n",
      "\n",
      "def show_values(pc, fmt=\"%.2f\", **kw):\n",
      "    '''\n",
      "    from http://stackoverflow.com/questions/11917547/how-to-annotate-heatmap-with-text-in-matplotlib\n",
      "    code posted by: pelson\n",
      "    accessed on May 1 2015 (at this time the most recent edit was Aug 11 '12 at 22:18)\n",
      "    '''\n",
      "    from itertools import izip\n",
      "    pc.update_scalarmappable()\n",
      "    ax = pc.get_axes()\n",
      "    for p, color, value in izip(pc.get_paths(), pc.get_facecolors(), pc.get_array()):\n",
      "        x, y = p.vertices[:-2, :].mean(0)\n",
      "        if np.all(color[:3] > 0.5):\n",
      "            color = (0.0, 0.0, 0.0)\n",
      "        else:\n",
      "            color = (1.0, 1.0, 1.0)\n",
      "        ax.text(x, y, fmt % value, ha=\"center\", va=\"center\", color=color, **kw)\n",
      "\n",
      "def make_heat_plot(data, x_label, y_label, measure, vmin_vmax=None, show_values_switch=True):\n",
      "    \n",
      "    def show_values(pc, fmt=\"%.2f\", **kw):\n",
      "        '''\n",
      "        from http://stackoverflow.com/questions/11917547/how-to-annotate-heatmap-with-text-in-matplotlib\n",
      "        code posted by: pelson\n",
      "        accessed on May 1 2015 (at this time the most recent edit was Aug 11 '12 at 22:18)\n",
      "        '''\n",
      "        from itertools import izip\n",
      "        pc.update_scalarmappable()\n",
      "        ax = pc.get_axes()\n",
      "        for p, color, value in izip(pc.get_paths(), pc.get_facecolors(), pc.get_array()):\n",
      "            x, y = p.vertices[:-2, :].mean(0)\n",
      "            if np.all(color[:3] > 0.5):\n",
      "                color = (0.0, 0.0, 0.0)\n",
      "            else:\n",
      "                color = (1.0, 1.0, 1.0)\n",
      "            ax.text(x, y, fmt % value, ha=\"center\", va=\"center\", color=color, **kw)\n",
      "\n",
      "    fig, ax = plt.subplots()\n",
      "\n",
      "    if vmin_vmax:\n",
      "        v_min,v_max = vmin_vmax\n",
      "        cax = ax.pcolor(data, cmap=plt.cm.Blues, vmin=v_min, vmax=v_max)\n",
      "    else:\n",
      "        cax = ax.pcolor(data, cmap=plt.cm.Blues)\n",
      "\n",
      "\n",
      "    if show_values_switch:\n",
      "        show_values(cax)\n",
      "\n",
      "    # put the major ticks at the middle of each cell\n",
      "    w = 0.5 \n",
      "    ax.set_xticks(np.arange(data.shape[1])+w, minor=False)\n",
      "    ax.set_yticks(np.arange(data.shape[0])+w, minor=False)\n",
      "    ax.set_xticklabels(eL_labels, minor=False)\n",
      "    ax.set_yticklabels(gnap_labels, minor=False)\n",
      "\n",
      "    dmin, dmax = round(data.min(),3), round(data.max(),3)\n",
      "    cbar_tick_label = [dmin, dmin+(dmax-dmin)/2, dmax]\n",
      "    cbar = fig.colorbar(cax, ticks=cbar_tick_label,)\n",
      "    cbar.set_label(measure+\" (sec)\")\n",
      "    cbar.set_ticklabels([round(i,2) for i in cbar_tick_label])\n",
      "    \n",
      "    plt.title(measure)\n",
      "    ax.set_xlabel(r'eL (mV)')\n",
      "    ax.set_ylabel(r'$g_{nap}$ (nS)')\n",
      "    return plt.gca()"
     ],
     "language": "python",
     "metadata": {
      "run_control": {
       "read_only": false
      }
     },
     "outputs": [],
     "prompt_number": 53
    },
    {
     "cell_type": "code",
     "collapsed": false,
     "input": [
      "\n",
      "def make_frame(measurement, param_names=[], add_zeroed_cols=[]):\n",
      "    '''\n",
      "    param_names is a list of parameters names used to label data.\n",
      "    '''\n",
      "    temp ={}\n",
      "    r = re.compile(\"([\\-][\\d+.\\d+]+|[\\d+.\\d+]+)([a-zA-Z]+)\")\n",
      "\n",
      "    for k,v in measurement.iteritems():\n",
      "        \n",
      "        p1KEY, p2KEY = k.split(\" \")\n",
      "\n",
      "        try:\n",
      "            p1_val, name1 = r.match(p1KEY).groups()\n",
      "            p2_val, name2 = r.match(p2KEY).groups()\n",
      "        except AttributeError:\n",
      "            pass\n",
      "     \n",
      "        try:\n",
      "            temp[float(p1_val)][float(p2_val)] = v\n",
      "        except:\n",
      "            temp[float(p1_val)] = {}\n",
      "            temp[float(p1_val)][float(p2_val)] = v\n",
      "\n",
      "    df = pd.DataFrame.from_dict(temp)\n",
      "    for col in add_zeroed_cols:\n",
      "        try:\n",
      "            zd = np.zeros((len(df.index),1))\n",
      "            df[col] = zd\n",
      "        except:\n",
      "            print \"Could not add zero column\", col\n",
      "            continue\n",
      "        \n",
      "    return df\n",
      "\n",
      "all_measures=all_measures_y\n",
      "for measure, measurement in all_measures.loc[:].iteritems():\n",
      "    #print measurement\n",
      "    # reformat data\n",
      "    print measure\n",
      "    frame=make_frame(measurement,add_zeroed_cols=[-50.0]).fillna(0)\n",
      "    print frame"
     ],
     "language": "python",
     "metadata": {
      "run_control": {
       "read_only": false
      }
     },
     "outputs": [
      {
       "output_type": "stream",
       "stream": "stdout",
       "text": [
        "Burst Duration\n",
        "          -65       -60       -55  -50\n",
        "1.8  0.344249  0.387687  1.011908    0\n",
        "2.4  0.396545  0.645440  1.848286    0\n",
        "3.0  0.454562  1.268767  2.332272    0\n",
        "3.6  0.662073  1.776314  2.669849    0\n",
        "4.2  0.966225  2.088798  2.887633    0\n",
        "Interburst Interval\n",
        "          -65       -60       -55  -50\n",
        "1.8  3.384449  3.340912  2.715760    0\n",
        "2.4  3.332157  3.080207  1.876744    0\n",
        "3.0  3.273519  2.450862  1.387140    0\n",
        "3.6  3.063681  1.943853  1.045905    0\n",
        "4.2  2.755195  1.632268  0.825758    0\n",
        "Total Cycle Time\n",
        "          -65       -60       -55  -50\n",
        "1.8  3.728684  3.728595  3.727709    0\n",
        "2.4  3.728680  3.725610  3.725047    0\n",
        "3.0  3.728059  3.719524  3.719365    0\n",
        "3.6  3.725459  3.719870  3.715721    0\n",
        "4.2  3.721315  3.720954  3.713210    0\n",
        "Peaks per Burst\n",
        "           -65        -60        -55  -50\n",
        "1.8  25.765432  28.901235  38.123457    0\n",
        "2.4  33.790123  37.950617  49.308642    0\n",
        "3.0  41.802469  46.987654  60.419753    0\n",
        "3.6  55.123457  53.851852  71.407407    0\n",
        "4.2  67.790123  60.234568  81.271605    0\n",
        "Intraburst Frequency\n",
        "           -65        -60        -55  -50\n",
        "1.8  74.720563  74.538920  37.743394    0\n",
        "2.4  85.145140  58.907200  26.715041    0\n",
        "3.0  91.917711  37.262101  26.012415    0\n",
        "3.6  83.343316  30.442716  26.900815    0\n",
        "4.2  70.299196  28.908446  28.351038    0"
       ]
      },
      {
       "output_type": "stream",
       "stream": "stdout",
       "text": [
        "\n"
       ]
      }
     ],
     "prompt_number": 43
    },
    {
     "cell_type": "heading",
     "level": 2,
     "metadata": {},
     "source": [
      "Choose File and get Data"
     ]
    },
    {
     "cell_type": "code",
     "collapsed": false,
     "input": [
      "directory = '/Users/morganfine-morris/Documents/Repos/NMProject/Paper/Data and Analysis/short TB Yan/'#'/volumes/NO NAME/Analysis'\n",
      "files = os.listdir(directory)\n",
      "print files\n",
      "os.path.isdir(directory)"
     ],
     "language": "python",
     "metadata": {
      "run_control": {
       "read_only": false
      }
     },
     "outputs": [
      {
       "output_type": "stream",
       "stream": "stdout",
       "text": [
        "['.DS_Store', '2way ANOVA of all models_meas.csv', '2way ANOVA of Burst Duration inv.csv', '2way ANOVA of Burst Duration.csv', '2way ANOVA of Interburst Interval inv.csv', '2way ANOVA of Interburst Interval.csv', '2way ANOVA of Intraburst Freq inv.csv', '2way ANOVA of Intraburst Freq.csv', '2way ANOVA of Peak per Burst inv.csv', '2way ANOVA of Peaks Amplitude inv.csv', '2way ANOVA of Peaks Interval inv.csv', '2way ANOVA of Peaks_per_Burst.csv', '2way ANOVA of Total Cycle Time inv.csv', '2way ANOVA of Total Cycle Time.csv', 'plots', 'TB_all_gnap_eL.csv_Bursts_Results.csv', 'TB_all_gnap_eL.csv_Bursts_Results_Summary.csv', 'TB_all_gnap_eL.csv_Peak_Results.csv', 'TB_all_gnap_eL.csv_Peaks_Results_Summary.csv', 'TB_all_gnap_eL.csv_Settings_2015_04_22__15_57_06.csv', 'TB_all_gnap_eL_Burst Duration_heatmap.pdf', 'TB_all_gnap_eL_BurstDuration_heatmap.pdf', 'TB_all_gnap_eL_InterburstInterval_heatmap.pdf', 'TB_all_gnap_eL_IntraburstFrequency_heatmap.pdf', 'TB_all_gnap_eL_PeaksperBurst_heatmap.pdf', 'TB_all_gnap_eL_TotalCycleTime_heatmap.pdf', 'Yan_all_gnap_eL.csv_Bursts_Results.csv', 'Yan_all_gnap_eL.csv_Bursts_Results_Summary.csv', 'Yan_all_gnap_eL.csv_Peak_Results.csv', 'Yan_all_gnap_eL.csv_Peaks_Results_Summary.csv', 'Yan_all_gnap_eL.csv_Settings_2015_04_23__16_08_47.csv', 'Yan_all_gnap_eL_Burst Duration_heatmap.pdf', 'Yan_all_gnap_eL_BurstDuration_heatmap.pdf', 'Yan_all_gnap_eL_InterburstInterval_heatmap.pdf', 'Yan_all_gnap_eL_IntraburstFrequency_heatmap.pdf', 'Yan_all_gnap_eL_PeaksperBurst_heatmap.pdf', 'Yan_all_gnap_eL_TotalCycleTime_heatmap.pdf']\n"
       ]
      },
      {
       "metadata": {},
       "output_type": "pyout",
       "prompt_number": 19,
       "text": [
        "True"
       ]
      }
     ],
     "prompt_number": 19
    },
    {
     "cell_type": "code",
     "collapsed": false,
     "input": [
      "burst_res = [i for i in files if 'Bursts_Results_Summary' in i]\n",
      "peak_res = [i for i in files if 'Peaks_Results_Summary' in i]"
     ],
     "language": "python",
     "metadata": {
      "run_control": {
       "read_only": false
      }
     },
     "outputs": [],
     "prompt_number": 20
    },
    {
     "cell_type": "code",
     "collapsed": false,
     "input": [
      "csv_t,csv_y = burst_res\n",
      "print csv_t,csv_y"
     ],
     "language": "python",
     "metadata": {
      "run_control": {
       "read_only": false
      }
     },
     "outputs": [
      {
       "output_type": "stream",
       "stream": "stdout",
       "text": [
        "TB_all_gnap_eL.csv_Bursts_Results_Summary.csv Yan_all_gnap_eL.csv_Bursts_Results_Summary.csv\n"
       ]
      }
     ],
     "prompt_number": 22
    },
    {
     "cell_type": "heading",
     "level": 3,
     "metadata": {},
     "source": [
      "Load Bursts Data"
     ]
    },
    {
     "cell_type": "code",
     "collapsed": false,
     "input": [
      "#Bursts\n",
      "\n",
      "#csv_y = 'Yan'+\"_all_long.csv_Bursts_Results_Summary.csv\"\n",
      "#csv_t = 'TB'+\"_all_long.csv_Bursts_Results_Summary.csv\"\n",
      "\n",
      "fullpath_y = os.path.join(directory, csv_y)\n",
      "fullpath_t = os.path.join(directory, csv_t)\n",
      "\n",
      "table_y = pd.DataFrame.from_csv(fullpath_y)\n",
      "table_t= pd.DataFrame.from_csv(fullpath_t)"
     ],
     "language": "python",
     "metadata": {
      "run_control": {
       "read_only": false
      }
     },
     "outputs": [],
     "prompt_number": 23
    },
    {
     "cell_type": "code",
     "collapsed": false,
     "input": [
      "#if necessary, this is where you can adjust the row keys\n",
      "def re_index(key): \n",
      "    r = re.compile(\"([a-zA-Z]+)([\\-][\\d+.\\d+]+|[\\d+.\\d+]+)\")\n",
      "\n",
      "\n",
      "    p1KEY, p2KEY = [i.replace(\"=\",\"\") for i in key.split(\" \")]\n",
      "\n",
      "    name1, p1_val = r.match(p1KEY).groups()\n",
      "    name2, p2_val = r.match(p2KEY).groups()\n",
      "    return p1_val+name1+\" \"+p2_val+name2\n",
      "\n",
      "    \n",
      "key_test = \"eL=-55.0 gnaps=1.8\"\n",
      "re_index(key_test)\n",
      "table_y.rename(re_index,inplace=True)\n",
      "table_t.rename(re_index,inplace=True)"
     ],
     "language": "python",
     "metadata": {
      "run_control": {
       "read_only": false
      }
     },
     "outputs": [],
     "prompt_number": 38
    },
    {
     "cell_type": "code",
     "collapsed": false,
     "input": [
      "all_measures_y = select_by_stat_type(table_y).fillna(0)\n",
      "all_measures_t = select_by_stat_type(table_t).fillna(0)\n",
      "all_measures_y,all_measures_t"
     ],
     "language": "python",
     "metadata": {
      "run_control": {
       "read_only": false
      }
     },
     "outputs": [
      {
       "metadata": {},
       "output_type": "pyout",
       "prompt_number": 39,
       "text": [
        "(                  Burst Duration  Interburst Interval  Total Cycle Time  \\\n",
        " -55.0eL 1.8gnaps        1.011908             2.715760          3.727709   \n",
        " -55.0eL 2.4gnaps        1.848286             1.876744          3.725047   \n",
        " -55.0eL 3.0gnaps        2.332272             1.387140          3.719365   \n",
        " -55.0eL 3.6gnaps        2.669849             1.045905          3.715721   \n",
        " -55.0eL 4.2gnaps        2.887633             0.825758          3.713210   \n",
        " -60.0eL 1.8gnaps        0.387687             3.340912          3.728595   \n",
        " -60.0eL 2.4gnaps        0.645440             3.080207          3.725610   \n",
        " -60.0eL 3.0gnaps        1.268767             2.450862          3.719524   \n",
        " -60.0eL 3.6gnaps        1.776314             1.943853          3.719870   \n",
        " -60.0eL 4.2gnaps        2.088798             1.632268          3.720954   \n",
        " -65.0eL 1.8gnaps        0.344249             3.384449          3.728684   \n",
        " -65.0eL 2.4gnaps        0.396545             3.332157          3.728680   \n",
        " -65.0eL 3.0gnaps        0.454562             3.273519          3.728059   \n",
        " -65.0eL 3.6gnaps        0.662073             3.063681          3.725459   \n",
        " -65.0eL 4.2gnaps        0.966225             2.755195          3.721315   \n",
        " \n",
        "                   Peaks per Burst  Intraburst Frequency  \n",
        " -55.0eL 1.8gnaps        38.123457             37.743394  \n",
        " -55.0eL 2.4gnaps        49.308642             26.715041  \n",
        " -55.0eL 3.0gnaps        60.419753             26.012415  \n",
        " -55.0eL 3.6gnaps        71.407407             26.900815  \n",
        " -55.0eL 4.2gnaps        81.271605             28.351038  \n",
        " -60.0eL 1.8gnaps        28.901235             74.538920  \n",
        " -60.0eL 2.4gnaps        37.950617             58.907200  \n",
        " -60.0eL 3.0gnaps        46.987654             37.262101  \n",
        " -60.0eL 3.6gnaps        53.851852             30.442716  \n",
        " -60.0eL 4.2gnaps        60.234568             28.908446  \n",
        " -65.0eL 1.8gnaps        25.765432             74.720563  \n",
        " -65.0eL 2.4gnaps        33.790123             85.145140  \n",
        " -65.0eL 3.0gnaps        41.802469             91.917711  \n",
        " -65.0eL 3.6gnaps        55.123457             83.343316  \n",
        " -65.0eL 4.2gnaps        67.790123             70.299196  ,\n",
        "                   Burst Duration  Interburst Interval  Total Cycle Time  \\\n",
        " -50.0eL 1.8gnaps        2.601640             1.162299          3.764405   \n",
        " -50.0eL 2.4gnaps        3.132642             0.624704          3.758633   \n",
        " -55.0eL 1.8gnaps        0.595964             3.133716          3.729691   \n",
        " -55.0eL 2.4gnaps        1.371234             2.359611          3.730877   \n",
        " -55.0eL 3.0gnaps        1.969662             1.754134          3.724225   \n",
        " -55.0eL 3.6gnaps        2.312682             1.406959          3.719656   \n",
        " -55.0eL 4.2gnaps        2.567071             1.149653          3.716602   \n",
        " -60.0eL 1.8gnaps        0.385950             3.342855          3.728787   \n",
        " -60.0eL 2.4gnaps        0.472020             3.255766          3.727769   \n",
        " -60.0eL 3.0gnaps        0.847578             2.876171          3.723694   \n",
        " -60.0eL 3.6gnaps        1.356419             2.367033          3.723387   \n",
        " -60.0eL 4.2gnaps        0.595734             1.274160          1.870221   \n",
        " -65.0eL 1.8gnaps        0.322595             3.406132          3.728700   \n",
        " -65.0eL 2.4gnaps        0.372017             3.356780          3.728780   \n",
        " -65.0eL 3.0gnaps        0.426287             3.302461          3.728736   \n",
        " -65.0eL 3.6gnaps        0.502790             3.225711          3.728335   \n",
        " -65.0eL 4.2gnaps        0.620868             3.105877          3.726697   \n",
        " \n",
        "                   Peaks per Burst  Intraburst Frequency  \n",
        " -50.0eL 1.8gnaps        66.425000             25.432349  \n",
        " -50.0eL 2.4gnaps        83.687500             26.590743  \n",
        " -55.0eL 1.8gnaps        34.012346             57.076911  \n",
        " -55.0eL 2.4gnaps        43.222222             31.510598  \n",
        " -55.0eL 3.0gnaps        52.839506             26.896876  \n",
        " -55.0eL 3.6gnaps        61.543210             26.746244  \n",
        " -55.0eL 4.2gnaps        70.518519             27.661514  \n",
        " -60.0eL 1.8gnaps        28.827160             74.658456  \n",
        " -60.0eL 2.4gnaps        36.839506             78.028089  \n",
        " -60.0eL 3.0gnaps        49.814815             58.912529  \n",
        " -60.0eL 3.6gnaps        57.925926             42.763797  \n",
        " -60.0eL 4.2gnaps        32.198758             55.649135  \n",
        " -65.0eL 1.8gnaps        24.728395             76.471222  \n",
        " -65.0eL 2.4gnaps        33.740741             90.601493  \n",
        " -65.0eL 3.0gnaps        41.753086             97.887294  \n",
        " -65.0eL 3.6gnaps        50.234568             99.973245  \n",
        " -65.0eL 4.2gnaps        62.666667            100.904931  )"
       ]
      }
     ],
     "prompt_number": 39
    },
    {
     "cell_type": "code",
     "collapsed": false,
     "input": [
      "make_frame(measurement)-50.0"
     ],
     "language": "python",
     "metadata": {
      "run_control": {
       "read_only": false
      }
     },
     "outputs": []
    },
    {
     "cell_type": "code",
     "collapsed": false,
     "input": [
      "d = {}\n",
      "all_measures=all_measures_y\n",
      "for measure, measurement in all_measures.loc[:].iteritems():\n",
      "    print measurement\n",
      "    # reformat data\n",
      "    print measure\n",
      "    frame=make_frame(measurement,add_zeroed_cols=[-50.0]).fillna(0)\n",
      "    L1, L2 = frame.columns.values, frame.index.values\n",
      "    print frame\n",
      "    break\n",
      "    data = np.array(frame.values)\n",
      "    d[(L1,L2)] = data\n",
      "d"
     ],
     "language": "python",
     "metadata": {
      "run_control": {
       "read_only": false
      }
     },
     "outputs": [
      {
       "output_type": "stream",
       "stream": "stdout",
       "text": [
        "eL=-55.0 gnaps=1.8    1.011908\n",
        "eL=-55.0 gnaps=2.4    1.848286\n",
        "eL=-55.0 gnaps=3.0    2.332272\n",
        "eL=-55.0 gnaps=3.6    2.669849\n",
        "eL=-55.0 gnaps=4.2    2.887633\n",
        "eL=-60.0 gnaps=1.8    0.387687\n",
        "eL=-60.0 gnaps=2.4    0.645440\n",
        "eL=-60.0 gnaps=3.0    1.268767\n",
        "eL=-60.0 gnaps=3.6    1.776314\n",
        "eL=-60.0 gnaps=4.2    2.088798\n",
        "eL=-65.0 gnaps=1.8    0.344249\n",
        "eL=-65.0 gnaps=2.4    0.396545\n",
        "eL=-65.0 gnaps=3.0    0.454562\n",
        "eL=-65.0 gnaps=3.6    0.662073\n",
        "eL=-65.0 gnaps=4.2    0.966225\n",
        "Name: Burst Duration, dtype: float64\n",
        "Burst Duration\n"
       ]
      },
      {
       "ename": "ValueError",
       "evalue": "Cannot set a frame with no defined index and a value that cannot be converted to a Series",
       "output_type": "pyerr",
       "traceback": [
        "\u001b[0;31m---------------------------------------------------------------------------\u001b[0m\n\u001b[0;31mValueError\u001b[0m                                Traceback (most recent call last)",
        "\u001b[0;32m<ipython-input-28-131979b7b8e0>\u001b[0m in \u001b[0;36m<module>\u001b[0;34m()\u001b[0m\n\u001b[1;32m      5\u001b[0m     \u001b[0;31m# reformat data\u001b[0m\u001b[0;34m\u001b[0m\u001b[0;34m\u001b[0m\u001b[0m\n\u001b[1;32m      6\u001b[0m     \u001b[0;32mprint\u001b[0m \u001b[0mmeasure\u001b[0m\u001b[0;34m\u001b[0m\u001b[0m\n\u001b[0;32m----> 7\u001b[0;31m     \u001b[0mframe\u001b[0m\u001b[0;34m=\u001b[0m\u001b[0mmake_frame\u001b[0m\u001b[0;34m(\u001b[0m\u001b[0mmeasurement\u001b[0m\u001b[0;34m,\u001b[0m\u001b[0madd_zeroed_cols\u001b[0m\u001b[0;34m=\u001b[0m\u001b[0;34m[\u001b[0m\u001b[0;34m-\u001b[0m\u001b[0;36m50.0\u001b[0m\u001b[0;34m]\u001b[0m\u001b[0;34m)\u001b[0m\u001b[0;34m.\u001b[0m\u001b[0mfillna\u001b[0m\u001b[0;34m(\u001b[0m\u001b[0;36m0\u001b[0m\u001b[0;34m)\u001b[0m\u001b[0;34m\u001b[0m\u001b[0m\n\u001b[0m\u001b[1;32m      8\u001b[0m     \u001b[0mL1\u001b[0m\u001b[0;34m,\u001b[0m \u001b[0mL2\u001b[0m \u001b[0;34m=\u001b[0m \u001b[0mframe\u001b[0m\u001b[0;34m.\u001b[0m\u001b[0mcolumns\u001b[0m\u001b[0;34m.\u001b[0m\u001b[0mvalues\u001b[0m\u001b[0;34m,\u001b[0m \u001b[0mframe\u001b[0m\u001b[0;34m.\u001b[0m\u001b[0mindex\u001b[0m\u001b[0;34m.\u001b[0m\u001b[0mvalues\u001b[0m\u001b[0;34m\u001b[0m\u001b[0m\n\u001b[1;32m      9\u001b[0m     \u001b[0;32mprint\u001b[0m \u001b[0mframe\u001b[0m\u001b[0;34m\u001b[0m\u001b[0m\n",
        "\u001b[0;32m<ipython-input-18-0b2a89e7ed73>\u001b[0m in \u001b[0;36mmake_frame\u001b[0;34m(measurement, param_names, add_zeroed_cols)\u001b[0m\n\u001b[1;32m     26\u001b[0m     \u001b[0;32mfor\u001b[0m \u001b[0mcol\u001b[0m \u001b[0;32min\u001b[0m \u001b[0madd_zeroed_cols\u001b[0m\u001b[0;34m:\u001b[0m\u001b[0;34m\u001b[0m\u001b[0m\n\u001b[1;32m     27\u001b[0m         \u001b[0mzd\u001b[0m \u001b[0;34m=\u001b[0m \u001b[0mnp\u001b[0m\u001b[0;34m.\u001b[0m\u001b[0mzeros\u001b[0m\u001b[0;34m(\u001b[0m\u001b[0;34m(\u001b[0m\u001b[0mlen\u001b[0m\u001b[0;34m(\u001b[0m\u001b[0mdf\u001b[0m\u001b[0;34m.\u001b[0m\u001b[0mindex\u001b[0m\u001b[0;34m)\u001b[0m\u001b[0;34m,\u001b[0m\u001b[0;36m1\u001b[0m\u001b[0;34m)\u001b[0m\u001b[0;34m)\u001b[0m\u001b[0;34m\u001b[0m\u001b[0m\n\u001b[0;32m---> 28\u001b[0;31m         \u001b[0mdf\u001b[0m\u001b[0;34m[\u001b[0m\u001b[0mcol\u001b[0m\u001b[0;34m]\u001b[0m \u001b[0;34m=\u001b[0m \u001b[0mzd\u001b[0m\u001b[0;34m\u001b[0m\u001b[0m\n\u001b[0m\u001b[1;32m     29\u001b[0m \u001b[0;34m\u001b[0m\u001b[0m\n\u001b[1;32m     30\u001b[0m     \u001b[0;32mreturn\u001b[0m \u001b[0mdf\u001b[0m\u001b[0;34m\u001b[0m\u001b[0m\n",
        "\u001b[0;32m/Users/morganfine-morris/anaconda/lib/python2.7/site-packages/pandas/core/frame.pyc\u001b[0m in \u001b[0;36m__setitem__\u001b[0;34m(self, key, value)\u001b[0m\n\u001b[1;32m   2005\u001b[0m         \u001b[0;32melse\u001b[0m\u001b[0;34m:\u001b[0m\u001b[0;34m\u001b[0m\u001b[0m\n\u001b[1;32m   2006\u001b[0m             \u001b[0;31m# set column\u001b[0m\u001b[0;34m\u001b[0m\u001b[0;34m\u001b[0m\u001b[0m\n\u001b[0;32m-> 2007\u001b[0;31m             \u001b[0mself\u001b[0m\u001b[0;34m.\u001b[0m\u001b[0m_set_item\u001b[0m\u001b[0;34m(\u001b[0m\u001b[0mkey\u001b[0m\u001b[0;34m,\u001b[0m \u001b[0mvalue\u001b[0m\u001b[0;34m)\u001b[0m\u001b[0;34m\u001b[0m\u001b[0m\n\u001b[0m\u001b[1;32m   2008\u001b[0m \u001b[0;34m\u001b[0m\u001b[0m\n\u001b[1;32m   2009\u001b[0m     \u001b[0;32mdef\u001b[0m \u001b[0m_setitem_slice\u001b[0m\u001b[0;34m(\u001b[0m\u001b[0mself\u001b[0m\u001b[0;34m,\u001b[0m \u001b[0mkey\u001b[0m\u001b[0;34m,\u001b[0m \u001b[0mvalue\u001b[0m\u001b[0;34m)\u001b[0m\u001b[0;34m:\u001b[0m\u001b[0;34m\u001b[0m\u001b[0m\n",
        "\u001b[0;32m/Users/morganfine-morris/anaconda/lib/python2.7/site-packages/pandas/core/frame.pyc\u001b[0m in \u001b[0;36m_set_item\u001b[0;34m(self, key, value)\u001b[0m\n\u001b[1;32m   2082\u001b[0m \u001b[0;34m\u001b[0m\u001b[0m\n\u001b[1;32m   2083\u001b[0m         \u001b[0mis_existing\u001b[0m \u001b[0;34m=\u001b[0m \u001b[0mkey\u001b[0m \u001b[0;32min\u001b[0m \u001b[0mself\u001b[0m\u001b[0;34m.\u001b[0m\u001b[0mcolumns\u001b[0m\u001b[0;34m\u001b[0m\u001b[0m\n\u001b[0;32m-> 2084\u001b[0;31m         \u001b[0mself\u001b[0m\u001b[0;34m.\u001b[0m\u001b[0m_ensure_valid_index\u001b[0m\u001b[0;34m(\u001b[0m\u001b[0mvalue\u001b[0m\u001b[0;34m)\u001b[0m\u001b[0;34m\u001b[0m\u001b[0m\n\u001b[0m\u001b[1;32m   2085\u001b[0m         \u001b[0mvalue\u001b[0m \u001b[0;34m=\u001b[0m \u001b[0mself\u001b[0m\u001b[0;34m.\u001b[0m\u001b[0m_sanitize_column\u001b[0m\u001b[0;34m(\u001b[0m\u001b[0mkey\u001b[0m\u001b[0;34m,\u001b[0m \u001b[0mvalue\u001b[0m\u001b[0;34m)\u001b[0m\u001b[0;34m\u001b[0m\u001b[0m\n\u001b[1;32m   2086\u001b[0m         \u001b[0mNDFrame\u001b[0m\u001b[0;34m.\u001b[0m\u001b[0m_set_item\u001b[0m\u001b[0;34m(\u001b[0m\u001b[0mself\u001b[0m\u001b[0;34m,\u001b[0m \u001b[0mkey\u001b[0m\u001b[0;34m,\u001b[0m \u001b[0mvalue\u001b[0m\u001b[0;34m)\u001b[0m\u001b[0;34m\u001b[0m\u001b[0m\n",
        "\u001b[0;32m/Users/morganfine-morris/anaconda/lib/python2.7/site-packages/pandas/core/frame.pyc\u001b[0m in \u001b[0;36m_ensure_valid_index\u001b[0;34m(self, value)\u001b[0m\n\u001b[1;32m   2057\u001b[0m \u001b[0;34m\u001b[0m\u001b[0m\n\u001b[1;32m   2058\u001b[0m                 \u001b[0;32mif\u001b[0m \u001b[0;32mnot\u001b[0m \u001b[0misinstance\u001b[0m\u001b[0;34m(\u001b[0m\u001b[0mvalue\u001b[0m\u001b[0;34m,\u001b[0m \u001b[0mSeries\u001b[0m\u001b[0;34m)\u001b[0m\u001b[0;34m:\u001b[0m\u001b[0;34m\u001b[0m\u001b[0m\n\u001b[0;32m-> 2059\u001b[0;31m                     raise ValueError('Cannot set a frame with no defined index '\n\u001b[0m\u001b[1;32m   2060\u001b[0m                                      \u001b[0;34m'and a value that cannot be converted to a '\u001b[0m\u001b[0;34m\u001b[0m\u001b[0m\n\u001b[1;32m   2061\u001b[0m                                      'Series')\n",
        "\u001b[0;31mValueError\u001b[0m: Cannot set a frame with no defined index and a value that cannot be converted to a Series"
       ]
      }
     ],
     "prompt_number": 28
    },
    {
     "cell_type": "heading",
     "level": 3,
     "metadata": {},
     "source": [
      "Load Peaks Data"
     ]
    },
    {
     "cell_type": "code",
     "collapsed": false,
     "input": [
      "directory = '/volumes/NO NAME/Analysis'\n",
      "\n",
      "csv_y = 'Yan'+\"_all_long.csv_Peaks_Results_Summary.csv\"\n",
      "csv_t = 'TB'+\"_all_long.csv_Peaks_Results_Summary.csv\"\n",
      "\n",
      "fullpath_y = os.path.join(directory, csv_y)\n",
      "fullpath_t = os.path.join(directory, csv_t)\n",
      "\n",
      "table_y = pd.DataFrame.from_csv(fullpath_y)\n",
      "table_t= pd.DataFrame.from_csv(fullpath_t)\n",
      "\n",
      "all_measures_y = select_by_stat_type(table_y,[])\n",
      "all_measures_t = select_by_stat_type(table_t,[])\n",
      "all_measures_y,all_measures_t"
     ],
     "language": "python",
     "metadata": {
      "run_control": {
       "read_only": false
      }
     },
     "outputs": [
      {
       "metadata": {},
       "output_type": "pyout",
       "prompt_number": 103,
       "text": [
        "(                  Peaks Amplitude  Intervals\n",
        " -50.0eL 1.8gnaps         5.301689   0.036032\n",
        " -50.0eL 2.4gnaps         5.324226   0.030810\n",
        " -50.0eL 3.0gnaps         5.341067   0.027527\n",
        " -50.0eL 3.6gnaps         5.356257   0.025220\n",
        " -50.0eL 4.2gnaps         5.367184   0.023485\n",
        " -55.0eL 1.8gnaps         5.291998   0.097876\n",
        " -55.0eL 2.4gnaps         5.329031   0.075411\n",
        " -55.0eL 3.0gnaps         5.357491   0.061550\n",
        " -55.0eL 3.6gnaps         5.378231   0.052366\n",
        " -55.0eL 4.2gnaps         5.394409   0.045930\n",
        " -60.0eL 1.8gnaps         5.307226   0.128246\n",
        " -60.0eL 2.4gnaps         5.356877   0.098138\n",
        " -60.0eL 3.0gnaps         5.434612   0.079252\n",
        " -60.0eL 3.6gnaps         5.463201   0.069378\n",
        " -60.0eL 4.2gnaps         5.484026   0.062014\n",
        " -65.0eL 1.8gnaps         5.351744   0.143330\n",
        " -65.0eL 2.4gnaps         4.923826   0.109495\n",
        " -65.0eL 3.0gnaps         4.705753   0.088590\n",
        " -65.0eL 3.6gnaps         5.150928   0.067313\n",
        " -65.0eL 4.2gnaps         5.472984   0.054784,\n",
        "                   Peaks Amplitude  Intervals\n",
        " -50.0eL 1.8gnaps         5.342708   0.057144\n",
        " -50.0eL 2.4gnaps         5.369147   0.045298\n",
        " -50.0eL 3.0gnaps         5.389231   0.038011\n",
        " -50.0eL 3.6gnaps         5.405633   0.033233\n",
        " -50.0eL 4.2gnaps         5.419684   0.029936\n",
        " -55.0eL 1.8gnaps         5.355544   0.109274\n",
        " -55.0eL 2.4gnaps         5.399915   0.086584\n",
        " -55.0eL 3.0gnaps         5.433312   0.070846\n",
        " -55.0eL 3.6gnaps         5.456527   0.060849\n",
        " -55.0eL 4.2gnaps         5.475001   0.053083\n",
        " -60.0eL 1.8gnaps         5.331174   0.128366\n",
        " -60.0eL 2.4gnaps         5.259536   0.100550\n",
        " -60.0eL 3.0gnaps         5.516857   0.074595\n",
        " -60.0eL 3.6gnaps         5.585148   0.064235\n",
        " -60.0eL 4.2gnaps         5.504141   0.058191\n",
        " -65.0eL 1.8gnaps         5.412499   0.149160\n",
        " -65.0eL 2.4gnaps         4.793916   0.109550\n",
        " -65.0eL 3.0gnaps         4.116376   0.088631\n",
        " -65.0eL 3.6gnaps         3.640582   0.073700\n",
        " -65.0eL 4.2gnaps         3.867613   0.059075)"
       ]
      }
     ],
     "prompt_number": 103
    },
    {
     "cell_type": "heading",
     "level": 1,
     "metadata": {},
     "source": [
      "Iterative Version"
     ]
    },
    {
     "cell_type": "code",
     "collapsed": false,
     "input": [
      "def heatmaps_iterative(all_measures, directory, csv):\n",
      "\n",
      "    for measure, measurement in all_measures.loc[:].iteritems():\n",
      "        # reformat data\n",
      "        frame=make_frame(measurement).fillna(0)\n",
      "        eL_labels, gnap_labels = frame.columns.values, frame.index.values\n",
      "        data = np.array(frame.values)\n",
      "        #make heat map plot\n",
      "        heat_plot = make_heat_plot(data, eL_labels, gnap_labels, measure)\n",
      "        \n",
      "        \n",
      "        filepath = os.path.join(directory,csv)\n",
      "        if os.path.isfile(path):\n",
      "            filename = csv.partition(\".\")[0]+\"_\"+measure.replace(\" \",\"\")+\"_heatmap\"+\".pdf\"\n",
      "            #generate path\n",
      "            print filepath\n",
      "            plt.savefig(filepath)\n",
      "            plt.close()\n",
      "        else:\n",
      "            raise IOError(\"Directory {} could not be found. Could not save {}.\".format(directory,filename))\n",
      "            \n",
      "        \n",
      "heatmaps_iterative(all_measures_y, directory, csv_y)\n",
      "print\n",
      "heatmaps_iterative(all_measures_t, directory, csv_t)"
     ],
     "language": "python",
     "metadata": {
      "run_control": {
       "read_only": false
      }
     },
     "outputs": [
      {
       "output_type": "stream",
       "stream": "stdout",
       "text": [
        "/Users/morganfine-morris/Documents/Repos/NMProject/Paper/Data and Analysis/short TB Yan/Yan_all_gnap_eL_BurstDuration_heatmap.pdf\n",
        "/Users/morganfine-morris/Documents/Repos/NMProject/Paper/Data and Analysis/short TB Yan/Yan_all_gnap_eL_InterburstInterval_heatmap.pdf"
       ]
      },
      {
       "output_type": "stream",
       "stream": "stdout",
       "text": [
        "\n",
        "/Users/morganfine-morris/Documents/Repos/NMProject/Paper/Data and Analysis/short TB Yan/Yan_all_gnap_eL_TotalCycleTime_heatmap.pdf"
       ]
      },
      {
       "output_type": "stream",
       "stream": "stdout",
       "text": [
        "\n",
        "/Users/morganfine-morris/Documents/Repos/NMProject/Paper/Data and Analysis/short TB Yan/Yan_all_gnap_eL_PeaksperBurst_heatmap.pdf"
       ]
      },
      {
       "output_type": "stream",
       "stream": "stdout",
       "text": [
        "\n",
        "/Users/morganfine-morris/Documents/Repos/NMProject/Paper/Data and Analysis/short TB Yan/Yan_all_gnap_eL_IntraburstFrequency_heatmap.pdf"
       ]
      },
      {
       "output_type": "stream",
       "stream": "stdout",
       "text": [
        "\n",
        "\n"
       ]
      },
      {
       "output_type": "stream",
       "stream": "stdout",
       "text": [
        "/Users/morganfine-morris/Documents/Repos/NMProject/Paper/Data and Analysis/short TB Yan/TB_all_gnap_eL_BurstDuration_heatmap.pdf\n",
        "/Users/morganfine-morris/Documents/Repos/NMProject/Paper/Data and Analysis/short TB Yan/TB_all_gnap_eL_InterburstInterval_heatmap.pdf"
       ]
      },
      {
       "output_type": "stream",
       "stream": "stdout",
       "text": [
        "\n",
        "/Users/morganfine-morris/Documents/Repos/NMProject/Paper/Data and Analysis/short TB Yan/TB_all_gnap_eL_TotalCycleTime_heatmap.pdf"
       ]
      },
      {
       "output_type": "stream",
       "stream": "stdout",
       "text": [
        "\n",
        "/Users/morganfine-morris/Documents/Repos/NMProject/Paper/Data and Analysis/short TB Yan/TB_all_gnap_eL_PeaksperBurst_heatmap.pdf"
       ]
      },
      {
       "output_type": "stream",
       "stream": "stdout",
       "text": [
        "\n",
        "/Users/morganfine-morris/Documents/Repos/NMProject/Paper/Data and Analysis/short TB Yan/TB_all_gnap_eL_IntraburstFrequency_heatmap.pdf"
       ]
      },
      {
       "output_type": "stream",
       "stream": "stdout",
       "text": [
        "\n"
       ]
      }
     ],
     "prompt_number": 127
    },
    {
     "cell_type": "heading",
     "level": 1,
     "metadata": {},
     "source": [
      "Single Plot Version"
     ]
    },
    {
     "cell_type": "heading",
     "level": 3,
     "metadata": {},
     "source": [
      "Choose Measure"
     ]
    },
    {
     "cell_type": "code",
     "collapsed": false,
     "input": [
      "pd.Series(all_measures_y.columns.values)"
     ],
     "language": "python",
     "metadata": {
      "run_control": {
       "read_only": false
      }
     },
     "outputs": [
      {
       "metadata": {},
       "output_type": "pyout",
       "prompt_number": 13,
       "text": [
        "0          Burst Duration\n",
        "1     Interburst Interval\n",
        "2        Total Cycle Time\n",
        "3         Peaks per Burst\n",
        "4    Intraburst Frequency\n",
        "dtype: object"
       ]
      },
      {
       "output_type": "stream",
       "stream": "stdout",
       "text": [
        "\n"
       ]
      }
     ],
     "prompt_number": 13
    },
    {
     "cell_type": "code",
     "collapsed": false,
     "input": [
      "#by name\n",
      "col_label = 'Interburst Interval'\n",
      "#by index\n",
      "col_label = all_measures.columns.values[1]\n",
      "\n",
      "measurement = all_measures.loc[:,col_label]\n",
      "measurement"
     ],
     "language": "python",
     "metadata": {
      "run_control": {
       "read_only": false
      }
     },
     "outputs": [
      {
       "metadata": {},
       "output_type": "pyout",
       "prompt_number": 50,
       "text": [
        "-55.0eL 1.8gnaps    2.715760\n",
        "-55.0eL 2.4gnaps    1.876744\n",
        "-55.0eL 3.0gnaps    1.387140\n",
        "-55.0eL 3.6gnaps    1.045905\n",
        "-55.0eL 4.2gnaps    0.825758\n",
        "-60.0eL 1.8gnaps    3.340912\n",
        "-60.0eL 2.4gnaps    3.080207\n",
        "-60.0eL 3.0gnaps    2.450862\n",
        "-60.0eL 3.6gnaps    1.943853\n",
        "-60.0eL 4.2gnaps    1.632268\n",
        "-65.0eL 1.8gnaps    3.384449\n",
        "-65.0eL 2.4gnaps    3.332157\n",
        "-65.0eL 3.0gnaps    3.273519\n",
        "-65.0eL 3.6gnaps    3.063681\n",
        "-65.0eL 4.2gnaps    2.755195\n",
        "Name: Interburst Interval, dtype: float64"
       ]
      }
     ],
     "prompt_number": 50
    },
    {
     "cell_type": "heading",
     "level": 3,
     "metadata": {},
     "source": [
      "Reformat Data"
     ]
    },
    {
     "cell_type": "code",
     "collapsed": false,
     "input": [
      "frame=make_frame(measurement)\n",
      "frame.to_csv('test.csv')"
     ],
     "language": "python",
     "metadata": {
      "run_control": {
       "read_only": false
      }
     },
     "outputs": [],
     "prompt_number": 57
    },
    {
     "cell_type": "code",
     "collapsed": false,
     "input": [],
     "language": "python",
     "metadata": {
      "run_control": {
       "read_only": false
      }
     },
     "outputs": [
      {
       "html": [
        "<div style=\"max-height:1000px;max-width:1500px;overflow:auto;\">\n",
        "<table border=\"1\" class=\"dataframe\">\n",
        "  <thead>\n",
        "    <tr style=\"text-align: right;\">\n",
        "      <th></th>\n",
        "      <th>-65.0</th>\n",
        "      <th>-60.0</th>\n",
        "      <th>-55.0</th>\n",
        "    </tr>\n",
        "  </thead>\n",
        "  <tbody>\n",
        "    <tr>\n",
        "      <th>1.8</th>\n",
        "      <td> 3.384449</td>\n",
        "      <td> 3.340912</td>\n",
        "      <td> 2.715760</td>\n",
        "    </tr>\n",
        "    <tr>\n",
        "      <th>2.4</th>\n",
        "      <td> 3.332157</td>\n",
        "      <td> 3.080207</td>\n",
        "      <td> 1.876744</td>\n",
        "    </tr>\n",
        "    <tr>\n",
        "      <th>3.0</th>\n",
        "      <td> 3.273519</td>\n",
        "      <td> 2.450862</td>\n",
        "      <td> 1.387140</td>\n",
        "    </tr>\n",
        "    <tr>\n",
        "      <th>3.6</th>\n",
        "      <td> 3.063681</td>\n",
        "      <td> 1.943853</td>\n",
        "      <td> 1.045905</td>\n",
        "    </tr>\n",
        "    <tr>\n",
        "      <th>4.2</th>\n",
        "      <td> 2.755195</td>\n",
        "      <td> 1.632268</td>\n",
        "      <td> 0.825758</td>\n",
        "    </tr>\n",
        "  </tbody>\n",
        "</table>\n",
        "</div>"
       ],
       "metadata": {},
       "output_type": "pyout",
       "prompt_number": 58,
       "text": [
        "        -65.0     -60.0     -55.0\n",
        "1.8  3.384449  3.340912  2.715760\n",
        "2.4  3.332157  3.080207  1.876744\n",
        "3.0  3.273519  2.450862  1.387140\n",
        "3.6  3.063681  1.943853  1.045905\n",
        "4.2  2.755195  1.632268  0.825758"
       ]
      }
     ],
     "prompt_number": 58
    },
    {
     "cell_type": "code",
     "collapsed": false,
     "input": [
      "def show_values(pc, fmt=\"%.2f\", **kw):\n",
      "    '''\n",
      "    from http://stackoverflow.com/questions/11917547/how-to-annotate-heatmap-with-text-in-matplotlib\n",
      "    code posted by: pelson\n",
      "    accessed on May 1 2015 (at this time the most recent edit was Aug 11 '12 at 22:18)\n",
      "    '''\n",
      "    from itertools import izip\n",
      "    pc.update_scalarmappable()\n",
      "    ax = pc.get_axes()\n",
      "    for p, color, value in izip(pc.get_paths(), pc.get_facecolors(), pc.get_array()):\n",
      "        x, y = p.vertices[:-2, :].mean(0)\n",
      "        if np.all(color[:3] > 0.5):\n",
      "            color = (0.0, 0.0, 0.0)\n",
      "        else:\n",
      "            color = (1.0, 1.0, 1.0)\n",
      "        ax.text(x, y, fmt % value, ha=\"center\", va=\"center\", color=color, **kw)\n",
      "        \n",
      "def make_heat_plot(data, colors = plt.cm.Blues, x_label=[], y_label=[], title='', annotate_function=lambda pcolorplot,fmt='':'', vmin_vmax=None):\n",
      "    \n",
      "    fig, ax = plt.subplots()\n",
      "\n",
      "    if vmin_vmax:\n",
      "        v_min,v_max = vmin_vmax\n",
      "        cax = ax.pcolor(data, cmap=colors, vmin=v_min, vmax=v_max)\n",
      "    else:\n",
      "        cax = ax.pcolor(data, cmap=colors)\n",
      "\n",
      "    try:\n",
      "        annotate_function(cax)\n",
      "    except:\n",
      "        print \"Can't use annotate_function.\"\n",
      " \n",
      "    # put the major ticks at the middle of each cell\n",
      "    w = 0.5 \n",
      "    ax.set_xticks(np.arange(data.shape[1])+w, minor=False)\n",
      "    ax.set_yticks(np.arange(data.shape[0])+w, minor=False)\n",
      "    ax.set_xticklabels(x_label, minor=False)\n",
      "    ax.set_yticklabels(y_label, minor=False)\n",
      "    \n",
      "    dmin, dmax = round(data.min(),3), round(data.max(),3)\n",
      "    cbar_tick_label = [dmin, dmin+(dmax-dmin)/2, dmax]\n",
      "    cbar = plt.colorbar(cax, ticks=cbar_tick_label,)\n",
      "    cbar.set_label(measure+\" (sec)\")\n",
      "    cbar.set_ticklabels([round(i,2) for i in cbar_tick_label])\n",
      "    \n",
      "    return plt.gca(), cbar\n",
      "\n",
      "\n",
      "def heatmap_from_dataframe(dataframe):\n",
      "    eL_labels, gnap_labels = frame.columns.values, frame.index.values\n",
      "    data = np.array(frame.values)\n",
      "\n",
      "\n",
      "test_frame = pd.DataFrame.from_csv('test.csv')\n",
      "eL_labels, gnap_labels = frame.columns.values, frame.index.values\n",
      "test_vals = np.array(test_frame.values)\n",
      "\n",
      "make_heat_plot(test_vals,eL_labels, gnap_labels, annotate_function=show_values)\n",
      "\n",
      "plt.title(measure)\n",
      "#ax.set_xlabel(r'eL (mV)')\n",
      "#ax.set_ylabel(r'$g_{nap}$ (nS)')\n",
      "plt.show()"
     ],
     "language": "python",
     "metadata": {
      "run_control": {
       "read_only": false
      }
     },
     "outputs": [
      {
       "ename": "TypeError",
       "evalue": "unhashable type: 'numpy.ndarray'",
       "output_type": "pyerr",
       "traceback": [
        "\u001b[0;31m---------------------------------------------------------------------------\u001b[0m\n\u001b[0;31mTypeError\u001b[0m                                 Traceback (most recent call last)",
        "\u001b[0;32m<ipython-input-77-48e4232ece25>\u001b[0m in \u001b[0;36m<module>\u001b[0;34m()\u001b[0m\n\u001b[1;32m     56\u001b[0m \u001b[0mtest_vals\u001b[0m \u001b[0;34m=\u001b[0m \u001b[0mnp\u001b[0m\u001b[0;34m.\u001b[0m\u001b[0marray\u001b[0m\u001b[0;34m(\u001b[0m\u001b[0mtest_frame\u001b[0m\u001b[0;34m.\u001b[0m\u001b[0mvalues\u001b[0m\u001b[0;34m)\u001b[0m\u001b[0;34m\u001b[0m\u001b[0m\n\u001b[1;32m     57\u001b[0m \u001b[0;34m\u001b[0m\u001b[0m\n\u001b[0;32m---> 58\u001b[0;31m \u001b[0mmake_heat_plot\u001b[0m\u001b[0;34m(\u001b[0m\u001b[0mtest_vals\u001b[0m\u001b[0;34m,\u001b[0m\u001b[0meL_labels\u001b[0m\u001b[0;34m,\u001b[0m \u001b[0mgnap_labels\u001b[0m\u001b[0;34m,\u001b[0m \u001b[0mannotate_function\u001b[0m\u001b[0;34m=\u001b[0m\u001b[0mshow_values\u001b[0m\u001b[0;34m)\u001b[0m\u001b[0;34m\u001b[0m\u001b[0m\n\u001b[0m\u001b[1;32m     59\u001b[0m \u001b[0;34m\u001b[0m\u001b[0m\n\u001b[1;32m     60\u001b[0m \u001b[0mplt\u001b[0m\u001b[0;34m.\u001b[0m\u001b[0mtitle\u001b[0m\u001b[0;34m(\u001b[0m\u001b[0mmeasure\u001b[0m\u001b[0;34m)\u001b[0m\u001b[0;34m\u001b[0m\u001b[0m\n",
        "\u001b[0;32m<ipython-input-77-48e4232ece25>\u001b[0m in \u001b[0;36mmake_heat_plot\u001b[0;34m(data, colors, x_label, y_label, title, annotate_function, vmin_vmax)\u001b[0m\n\u001b[1;32m     24\u001b[0m         \u001b[0mcax\u001b[0m \u001b[0;34m=\u001b[0m \u001b[0max\u001b[0m\u001b[0;34m.\u001b[0m\u001b[0mpcolor\u001b[0m\u001b[0;34m(\u001b[0m\u001b[0mdata\u001b[0m\u001b[0;34m,\u001b[0m \u001b[0mcmap\u001b[0m\u001b[0;34m=\u001b[0m\u001b[0mcolors\u001b[0m\u001b[0;34m,\u001b[0m \u001b[0mvmin\u001b[0m\u001b[0;34m=\u001b[0m\u001b[0mv_min\u001b[0m\u001b[0;34m,\u001b[0m \u001b[0mvmax\u001b[0m\u001b[0;34m=\u001b[0m\u001b[0mv_max\u001b[0m\u001b[0;34m)\u001b[0m\u001b[0;34m\u001b[0m\u001b[0m\n\u001b[1;32m     25\u001b[0m     \u001b[0;32melse\u001b[0m\u001b[0;34m:\u001b[0m\u001b[0;34m\u001b[0m\u001b[0m\n\u001b[0;32m---> 26\u001b[0;31m         \u001b[0mcax\u001b[0m \u001b[0;34m=\u001b[0m \u001b[0max\u001b[0m\u001b[0;34m.\u001b[0m\u001b[0mpcolor\u001b[0m\u001b[0;34m(\u001b[0m\u001b[0mdata\u001b[0m\u001b[0;34m,\u001b[0m \u001b[0mcmap\u001b[0m\u001b[0;34m=\u001b[0m\u001b[0mcolors\u001b[0m\u001b[0;34m)\u001b[0m\u001b[0;34m\u001b[0m\u001b[0m\n\u001b[0m\u001b[1;32m     27\u001b[0m \u001b[0;34m\u001b[0m\u001b[0m\n\u001b[1;32m     28\u001b[0m     \u001b[0;32mtry\u001b[0m\u001b[0;34m:\u001b[0m\u001b[0;34m\u001b[0m\u001b[0m\n",
        "\u001b[0;32m/Users/morganfine-morris/anaconda/lib/python2.7/site-packages/matplotlib/axes/_axes.pyc\u001b[0m in \u001b[0;36mpcolor\u001b[0;34m(self, *args, **kwargs)\u001b[0m\n\u001b[1;32m   4948\u001b[0m         \u001b[0;32mif\u001b[0m \u001b[0mnorm\u001b[0m \u001b[0;32mis\u001b[0m \u001b[0;32mnot\u001b[0m \u001b[0mNone\u001b[0m\u001b[0;34m:\u001b[0m\u001b[0;34m\u001b[0m\u001b[0m\n\u001b[1;32m   4949\u001b[0m             \u001b[0;32massert\u001b[0m\u001b[0;34m(\u001b[0m\u001b[0misinstance\u001b[0m\u001b[0;34m(\u001b[0m\u001b[0mnorm\u001b[0m\u001b[0;34m,\u001b[0m \u001b[0mmcolors\u001b[0m\u001b[0;34m.\u001b[0m\u001b[0mNormalize\u001b[0m\u001b[0;34m)\u001b[0m\u001b[0;34m)\u001b[0m\u001b[0;34m\u001b[0m\u001b[0m\n\u001b[0;32m-> 4950\u001b[0;31m         \u001b[0mcollection\u001b[0m\u001b[0;34m.\u001b[0m\u001b[0mset_cmap\u001b[0m\u001b[0;34m(\u001b[0m\u001b[0mcmap\u001b[0m\u001b[0;34m)\u001b[0m\u001b[0;34m\u001b[0m\u001b[0m\n\u001b[0m\u001b[1;32m   4951\u001b[0m         \u001b[0mcollection\u001b[0m\u001b[0;34m.\u001b[0m\u001b[0mset_norm\u001b[0m\u001b[0;34m(\u001b[0m\u001b[0mnorm\u001b[0m\u001b[0;34m)\u001b[0m\u001b[0;34m\u001b[0m\u001b[0m\n\u001b[1;32m   4952\u001b[0m         \u001b[0mcollection\u001b[0m\u001b[0;34m.\u001b[0m\u001b[0mset_clim\u001b[0m\u001b[0;34m(\u001b[0m\u001b[0mvmin\u001b[0m\u001b[0;34m,\u001b[0m \u001b[0mvmax\u001b[0m\u001b[0;34m)\u001b[0m\u001b[0;34m\u001b[0m\u001b[0m\n",
        "\u001b[0;32m/Users/morganfine-morris/anaconda/lib/python2.7/site-packages/matplotlib/cm.pyc\u001b[0m in \u001b[0;36mset_cmap\u001b[0;34m(self, cmap)\u001b[0m\n\u001b[1;32m    305\u001b[0m         \u001b[0mACCEPTS\u001b[0m\u001b[0;34m:\u001b[0m \u001b[0ma\u001b[0m \u001b[0mcolormap\u001b[0m \u001b[0;32mor\u001b[0m \u001b[0mregistered\u001b[0m \u001b[0mcolormap\u001b[0m \u001b[0mname\u001b[0m\u001b[0;34m\u001b[0m\u001b[0m\n\u001b[1;32m    306\u001b[0m         \"\"\"\n\u001b[0;32m--> 307\u001b[0;31m         \u001b[0mcmap\u001b[0m \u001b[0;34m=\u001b[0m \u001b[0mget_cmap\u001b[0m\u001b[0;34m(\u001b[0m\u001b[0mcmap\u001b[0m\u001b[0;34m)\u001b[0m\u001b[0;34m\u001b[0m\u001b[0m\n\u001b[0m\u001b[1;32m    308\u001b[0m         \u001b[0mself\u001b[0m\u001b[0;34m.\u001b[0m\u001b[0mcmap\u001b[0m \u001b[0;34m=\u001b[0m \u001b[0mcmap\u001b[0m\u001b[0;34m\u001b[0m\u001b[0m\n\u001b[1;32m    309\u001b[0m         \u001b[0mself\u001b[0m\u001b[0;34m.\u001b[0m\u001b[0mchanged\u001b[0m\u001b[0;34m(\u001b[0m\u001b[0;34m)\u001b[0m\u001b[0;34m\u001b[0m\u001b[0m\n",
        "\u001b[0;32m/Users/morganfine-morris/anaconda/lib/python2.7/site-packages/matplotlib/cm.pyc\u001b[0m in \u001b[0;36mget_cmap\u001b[0;34m(name, lut)\u001b[0m\n\u001b[1;32m    153\u001b[0m         \u001b[0;32mreturn\u001b[0m \u001b[0mname\u001b[0m\u001b[0;34m\u001b[0m\u001b[0m\n\u001b[1;32m    154\u001b[0m \u001b[0;34m\u001b[0m\u001b[0m\n\u001b[0;32m--> 155\u001b[0;31m     \u001b[0;32mif\u001b[0m \u001b[0mname\u001b[0m \u001b[0;32min\u001b[0m \u001b[0mcmap_d\u001b[0m\u001b[0;34m:\u001b[0m\u001b[0;34m\u001b[0m\u001b[0m\n\u001b[0m\u001b[1;32m    156\u001b[0m         \u001b[0;32mif\u001b[0m \u001b[0mlut\u001b[0m \u001b[0;32mis\u001b[0m \u001b[0mNone\u001b[0m\u001b[0;34m:\u001b[0m\u001b[0;34m\u001b[0m\u001b[0m\n\u001b[1;32m    157\u001b[0m             \u001b[0;32mreturn\u001b[0m \u001b[0mcmap_d\u001b[0m\u001b[0;34m[\u001b[0m\u001b[0mname\u001b[0m\u001b[0;34m]\u001b[0m\u001b[0;34m\u001b[0m\u001b[0m\n",
        "\u001b[0;31mTypeError\u001b[0m: unhashable type: 'numpy.ndarray'"
       ]
      }
     ],
     "prompt_number": 77
    },
    {
     "cell_type": "code",
     "collapsed": false,
     "input": [
      "#analyze data frame for data and tick labels\n",
      "eL_labels, gnap_labels = frame.columns.values, frame.index.values\n",
      "data = np.array(frame.values)\n",
      "make_heat_plot(data, eL_labels, gnap_labels, col_label)\n",
      "plt.show()"
     ],
     "language": "python",
     "metadata": {
      "run_control": {
       "read_only": false
      }
     },
     "outputs": [
      {
       "ename": "TypeError",
       "evalue": "unhashable type: 'numpy.ndarray'",
       "output_type": "pyerr",
       "traceback": [
        "\u001b[0;31m---------------------------------------------------------------------------\u001b[0m\n\u001b[0;31mTypeError\u001b[0m                                 Traceback (most recent call last)",
        "\u001b[0;32m<ipython-input-78-d9d680f30666>\u001b[0m in \u001b[0;36m<module>\u001b[0;34m()\u001b[0m\n\u001b[1;32m      2\u001b[0m \u001b[0meL_labels\u001b[0m\u001b[0;34m,\u001b[0m \u001b[0mgnap_labels\u001b[0m \u001b[0;34m=\u001b[0m \u001b[0mframe\u001b[0m\u001b[0;34m.\u001b[0m\u001b[0mcolumns\u001b[0m\u001b[0;34m.\u001b[0m\u001b[0mvalues\u001b[0m\u001b[0;34m,\u001b[0m \u001b[0mframe\u001b[0m\u001b[0;34m.\u001b[0m\u001b[0mindex\u001b[0m\u001b[0;34m.\u001b[0m\u001b[0mvalues\u001b[0m\u001b[0;34m\u001b[0m\u001b[0m\n\u001b[1;32m      3\u001b[0m \u001b[0mdata\u001b[0m \u001b[0;34m=\u001b[0m \u001b[0mnp\u001b[0m\u001b[0;34m.\u001b[0m\u001b[0marray\u001b[0m\u001b[0;34m(\u001b[0m\u001b[0mframe\u001b[0m\u001b[0;34m.\u001b[0m\u001b[0mvalues\u001b[0m\u001b[0;34m)\u001b[0m\u001b[0;34m\u001b[0m\u001b[0m\n\u001b[0;32m----> 4\u001b[0;31m \u001b[0mmake_heat_plot\u001b[0m\u001b[0;34m(\u001b[0m\u001b[0mdata\u001b[0m\u001b[0;34m,\u001b[0m \u001b[0meL_labels\u001b[0m\u001b[0;34m,\u001b[0m \u001b[0mgnap_labels\u001b[0m\u001b[0;34m,\u001b[0m \u001b[0mcol_label\u001b[0m\u001b[0;34m)\u001b[0m\u001b[0;34m\u001b[0m\u001b[0m\n\u001b[0m\u001b[1;32m      5\u001b[0m \u001b[0mplt\u001b[0m\u001b[0;34m.\u001b[0m\u001b[0mshow\u001b[0m\u001b[0;34m(\u001b[0m\u001b[0;34m)\u001b[0m\u001b[0;34m\u001b[0m\u001b[0m\n",
        "\u001b[0;32m<ipython-input-77-48e4232ece25>\u001b[0m in \u001b[0;36mmake_heat_plot\u001b[0;34m(data, colors, x_label, y_label, title, annotate_function, vmin_vmax)\u001b[0m\n\u001b[1;32m     24\u001b[0m         \u001b[0mcax\u001b[0m \u001b[0;34m=\u001b[0m \u001b[0max\u001b[0m\u001b[0;34m.\u001b[0m\u001b[0mpcolor\u001b[0m\u001b[0;34m(\u001b[0m\u001b[0mdata\u001b[0m\u001b[0;34m,\u001b[0m \u001b[0mcmap\u001b[0m\u001b[0;34m=\u001b[0m\u001b[0mcolors\u001b[0m\u001b[0;34m,\u001b[0m \u001b[0mvmin\u001b[0m\u001b[0;34m=\u001b[0m\u001b[0mv_min\u001b[0m\u001b[0;34m,\u001b[0m \u001b[0mvmax\u001b[0m\u001b[0;34m=\u001b[0m\u001b[0mv_max\u001b[0m\u001b[0;34m)\u001b[0m\u001b[0;34m\u001b[0m\u001b[0m\n\u001b[1;32m     25\u001b[0m     \u001b[0;32melse\u001b[0m\u001b[0;34m:\u001b[0m\u001b[0;34m\u001b[0m\u001b[0m\n\u001b[0;32m---> 26\u001b[0;31m         \u001b[0mcax\u001b[0m \u001b[0;34m=\u001b[0m \u001b[0max\u001b[0m\u001b[0;34m.\u001b[0m\u001b[0mpcolor\u001b[0m\u001b[0;34m(\u001b[0m\u001b[0mdata\u001b[0m\u001b[0;34m,\u001b[0m \u001b[0mcmap\u001b[0m\u001b[0;34m=\u001b[0m\u001b[0mcolors\u001b[0m\u001b[0;34m)\u001b[0m\u001b[0;34m\u001b[0m\u001b[0m\n\u001b[0m\u001b[1;32m     27\u001b[0m \u001b[0;34m\u001b[0m\u001b[0m\n\u001b[1;32m     28\u001b[0m     \u001b[0;32mtry\u001b[0m\u001b[0;34m:\u001b[0m\u001b[0;34m\u001b[0m\u001b[0m\n",
        "\u001b[0;32m/Users/morganfine-morris/anaconda/lib/python2.7/site-packages/matplotlib/axes/_axes.pyc\u001b[0m in \u001b[0;36mpcolor\u001b[0;34m(self, *args, **kwargs)\u001b[0m\n\u001b[1;32m   4948\u001b[0m         \u001b[0;32mif\u001b[0m \u001b[0mnorm\u001b[0m \u001b[0;32mis\u001b[0m \u001b[0;32mnot\u001b[0m \u001b[0mNone\u001b[0m\u001b[0;34m:\u001b[0m\u001b[0;34m\u001b[0m\u001b[0m\n\u001b[1;32m   4949\u001b[0m             \u001b[0;32massert\u001b[0m\u001b[0;34m(\u001b[0m\u001b[0misinstance\u001b[0m\u001b[0;34m(\u001b[0m\u001b[0mnorm\u001b[0m\u001b[0;34m,\u001b[0m \u001b[0mmcolors\u001b[0m\u001b[0;34m.\u001b[0m\u001b[0mNormalize\u001b[0m\u001b[0;34m)\u001b[0m\u001b[0;34m)\u001b[0m\u001b[0;34m\u001b[0m\u001b[0m\n\u001b[0;32m-> 4950\u001b[0;31m         \u001b[0mcollection\u001b[0m\u001b[0;34m.\u001b[0m\u001b[0mset_cmap\u001b[0m\u001b[0;34m(\u001b[0m\u001b[0mcmap\u001b[0m\u001b[0;34m)\u001b[0m\u001b[0;34m\u001b[0m\u001b[0m\n\u001b[0m\u001b[1;32m   4951\u001b[0m         \u001b[0mcollection\u001b[0m\u001b[0;34m.\u001b[0m\u001b[0mset_norm\u001b[0m\u001b[0;34m(\u001b[0m\u001b[0mnorm\u001b[0m\u001b[0;34m)\u001b[0m\u001b[0;34m\u001b[0m\u001b[0m\n\u001b[1;32m   4952\u001b[0m         \u001b[0mcollection\u001b[0m\u001b[0;34m.\u001b[0m\u001b[0mset_clim\u001b[0m\u001b[0;34m(\u001b[0m\u001b[0mvmin\u001b[0m\u001b[0;34m,\u001b[0m \u001b[0mvmax\u001b[0m\u001b[0;34m)\u001b[0m\u001b[0;34m\u001b[0m\u001b[0m\n",
        "\u001b[0;32m/Users/morganfine-morris/anaconda/lib/python2.7/site-packages/matplotlib/cm.pyc\u001b[0m in \u001b[0;36mset_cmap\u001b[0;34m(self, cmap)\u001b[0m\n\u001b[1;32m    305\u001b[0m         \u001b[0mACCEPTS\u001b[0m\u001b[0;34m:\u001b[0m \u001b[0ma\u001b[0m \u001b[0mcolormap\u001b[0m \u001b[0;32mor\u001b[0m \u001b[0mregistered\u001b[0m \u001b[0mcolormap\u001b[0m \u001b[0mname\u001b[0m\u001b[0;34m\u001b[0m\u001b[0m\n\u001b[1;32m    306\u001b[0m         \"\"\"\n\u001b[0;32m--> 307\u001b[0;31m         \u001b[0mcmap\u001b[0m \u001b[0;34m=\u001b[0m \u001b[0mget_cmap\u001b[0m\u001b[0;34m(\u001b[0m\u001b[0mcmap\u001b[0m\u001b[0;34m)\u001b[0m\u001b[0;34m\u001b[0m\u001b[0m\n\u001b[0m\u001b[1;32m    308\u001b[0m         \u001b[0mself\u001b[0m\u001b[0;34m.\u001b[0m\u001b[0mcmap\u001b[0m \u001b[0;34m=\u001b[0m \u001b[0mcmap\u001b[0m\u001b[0;34m\u001b[0m\u001b[0m\n\u001b[1;32m    309\u001b[0m         \u001b[0mself\u001b[0m\u001b[0;34m.\u001b[0m\u001b[0mchanged\u001b[0m\u001b[0;34m(\u001b[0m\u001b[0;34m)\u001b[0m\u001b[0;34m\u001b[0m\u001b[0m\n",
        "\u001b[0;32m/Users/morganfine-morris/anaconda/lib/python2.7/site-packages/matplotlib/cm.pyc\u001b[0m in \u001b[0;36mget_cmap\u001b[0;34m(name, lut)\u001b[0m\n\u001b[1;32m    153\u001b[0m         \u001b[0;32mreturn\u001b[0m \u001b[0mname\u001b[0m\u001b[0;34m\u001b[0m\u001b[0m\n\u001b[1;32m    154\u001b[0m \u001b[0;34m\u001b[0m\u001b[0m\n\u001b[0;32m--> 155\u001b[0;31m     \u001b[0;32mif\u001b[0m \u001b[0mname\u001b[0m \u001b[0;32min\u001b[0m \u001b[0mcmap_d\u001b[0m\u001b[0;34m:\u001b[0m\u001b[0;34m\u001b[0m\u001b[0m\n\u001b[0m\u001b[1;32m    156\u001b[0m         \u001b[0;32mif\u001b[0m \u001b[0mlut\u001b[0m \u001b[0;32mis\u001b[0m \u001b[0mNone\u001b[0m\u001b[0;34m:\u001b[0m\u001b[0;34m\u001b[0m\u001b[0m\n\u001b[1;32m    157\u001b[0m             \u001b[0;32mreturn\u001b[0m \u001b[0mcmap_d\u001b[0m\u001b[0;34m[\u001b[0m\u001b[0mname\u001b[0m\u001b[0;34m]\u001b[0m\u001b[0;34m\u001b[0m\u001b[0m\n",
        "\u001b[0;31mTypeError\u001b[0m: unhashable type: 'numpy.ndarray'"
       ]
      }
     ],
     "prompt_number": 78
    },
    {
     "cell_type": "heading",
     "level": 2,
     "metadata": {},
     "source": [
      "Plot Models Together"
     ]
    },
    {
     "cell_type": "heading",
     "level": 3,
     "metadata": {},
     "source": [
      "Group By Measure"
     ]
    },
    {
     "cell_type": "code",
     "collapsed": false,
     "input": [
      "def regroup(all_measures1,all_measures2):\n",
      "    col1,col2 = all_measures1[k],all_measures2[k]\n",
      "    single_measure = pd.concat([y,t],axis=1,keys=['yan','tb']).fillna(0)\n",
      "    return single_measure\n",
      "\n",
      "\n",
      "def regroup_all(all_measures1,all_measures2):\n",
      "    #### regroup by measure. Not using because I can't figure out how to scale the colorbar for two heat maps\n",
      "    # group so that measures are each in own data frame with the the model names as the columns \n",
      "    group_by_meas = {}\n",
      "    for k in all_measures1:\n",
      "        y,t = all_measures1[k],all_measures2[k]\n",
      "        single_measure = pd.concat([y,t],axis=1,keys=['yan','tb']).fillna(0)\n",
      "        print k\n",
      "        print single_measure\n",
      "        print \n",
      "        group_by_meas[k] = single_measure\n",
      "    return group_by_measure\n",
      "\n",
      "meas_keys = group_by_meas.keys()\n",
      "meas_keys"
     ],
     "language": "python",
     "metadata": {
      "run_control": {
       "read_only": false
      }
     },
     "outputs": [
      {
       "output_type": "stream",
       "stream": "stdout",
       "text": [
        "Burst Duration\n",
        "                       yan        tb\n",
        "-50.0eL 1.8gnaps  0.000000  2.601640\n",
        "-50.0eL 2.4gnaps  0.000000  3.132642\n",
        "-55.0eL 1.8gnaps  1.011908  0.595964\n",
        "-55.0eL 2.4gnaps  1.848286  1.371234\n",
        "-55.0eL 3.0gnaps  2.332272  1.969662\n",
        "-55.0eL 3.6gnaps  2.669849  2.312682\n",
        "-55.0eL 4.2gnaps  2.887633  2.567071\n",
        "-60.0eL 1.8gnaps  0.387687  0.385950\n",
        "-60.0eL 2.4gnaps  0.645440  0.472020\n",
        "-60.0eL 3.0gnaps  1.268767  0.847578\n",
        "-60.0eL 3.6gnaps  1.776314  1.356419\n",
        "-60.0eL 4.2gnaps  2.088798  0.595734\n",
        "-65.0eL 1.8gnaps  0.344249  0.322595\n",
        "-65.0eL 2.4gnaps  0.396545  0.372017\n",
        "-65.0eL 3.0gnaps  0.454562  0.426287\n",
        "-65.0eL 3.6gnaps  0.662073  0.502790\n",
        "-65.0eL 4.2gnaps  0.966225  0.620868\n",
        "\n",
        "Interburst Interval\n",
        "                       yan        tb\n",
        "-50.0eL 1.8gnaps  0.000000  1.162299\n",
        "-50.0eL 2.4gnaps  0.000000  0.624704\n",
        "-55.0eL 1.8gnaps  2.715760  3.133716\n",
        "-55.0eL 2.4gnaps  1.876744  2.359611\n",
        "-55.0eL 3.0gnaps  1.387140  1.754134\n",
        "-55.0eL 3.6gnaps  1.045905  1.406959\n",
        "-55.0eL 4.2gnaps  0.825758  1.149653\n",
        "-60.0eL 1.8gnaps  3.340912  3.342855\n",
        "-60.0eL 2.4gnaps  3.080207  3.255766\n",
        "-60.0eL 3.0gnaps  2.450862  2.876171\n",
        "-60.0eL 3.6gnaps  1.943853  2.367033\n",
        "-60.0eL 4.2gnaps  1.632268  1.274160\n",
        "-65.0eL 1.8gnaps  3.384449  3.406132\n",
        "-65.0eL 2.4gnaps  3.332157  3.356780\n",
        "-65.0eL 3.0gnaps  3.273519  3.302461\n",
        "-65.0eL 3.6gnaps  3.063681  3.225711\n",
        "-65.0eL 4.2gnaps  2.755195  3.105877\n",
        "\n",
        "Total Cycle Time\n",
        "                       yan        tb\n",
        "-50.0eL 1.8gnaps  0.000000  3.764405\n",
        "-50.0eL 2.4gnaps  0.000000  3.758633\n",
        "-55.0eL 1.8gnaps  3.727709  3.729691\n",
        "-55.0eL 2.4gnaps  3.725047  3.730877\n",
        "-55.0eL 3.0gnaps  3.719365  3.724225\n",
        "-55.0eL 3.6gnaps  3.715721  3.719656\n",
        "-55.0eL 4.2gnaps  3.713210  3.716602\n",
        "-60.0eL 1.8gnaps  3.728595  3.728787\n",
        "-60.0eL 2.4gnaps  3.725610  3.727769\n",
        "-60.0eL 3.0gnaps  3.719524  3.723694\n",
        "-60.0eL 3.6gnaps  3.719870  3.723387\n",
        "-60.0eL 4.2gnaps  3.720954  1.870221\n",
        "-65.0eL 1.8gnaps  3.728684  3.728700\n",
        "-65.0eL 2.4gnaps  3.728680  3.728780\n",
        "-65.0eL 3.0gnaps  3.728059  3.728736\n",
        "-65.0eL 3.6gnaps  3.725459  3.728335\n",
        "-65.0eL 4.2gnaps  3.721315  3.726697\n",
        "\n",
        "Peaks per Burst\n",
        "                        yan         tb\n",
        "-50.0eL 1.8gnaps   0.000000  66.425000\n",
        "-50.0eL 2.4gnaps   0.000000  83.687500\n",
        "-55.0eL 1.8gnaps  38.123457  34.012346\n",
        "-55.0eL 2.4gnaps  49.308642  43.222222\n",
        "-55.0eL 3.0gnaps  60.419753  52.839506\n",
        "-55.0eL 3.6gnaps  71.407407  61.543210\n",
        "-55.0eL 4.2gnaps  81.271605  70.518519\n",
        "-60.0eL 1.8gnaps  28.901235  28.827160\n",
        "-60.0eL 2.4gnaps  37.950617  36.839506\n",
        "-60.0eL 3.0gnaps  46.987654  49.814815\n",
        "-60.0eL 3.6gnaps  53.851852  57.925926\n",
        "-60.0eL 4.2gnaps  60.234568  32.198758\n",
        "-65.0eL 1.8gnaps  25.765432  24.728395\n",
        "-65.0eL 2.4gnaps  33.790123  33.740741\n",
        "-65.0eL 3.0gnaps  41.802469  41.753086\n",
        "-65.0eL 3.6gnaps  55.123457  50.234568\n",
        "-65.0eL 4.2gnaps  67.790123  62.666667\n",
        "\n",
        "Intraburst Frequency\n",
        "                        yan          tb\n",
        "-50.0eL 1.8gnaps   0.000000   25.432349\n",
        "-50.0eL 2.4gnaps   0.000000   26.590743\n",
        "-55.0eL 1.8gnaps  37.743394   57.076911\n",
        "-55.0eL 2.4gnaps  26.715041   31.510598\n",
        "-55.0eL 3.0gnaps  26.012415   26.896876\n",
        "-55.0eL 3.6gnaps  26.900815   26.746244\n",
        "-55.0eL 4.2gnaps  28.351038   27.661514\n",
        "-60.0eL 1.8gnaps  74.538920   74.658456\n",
        "-60.0eL 2.4gnaps  58.907200   78.028089\n",
        "-60.0eL 3.0gnaps  37.262101   58.912529\n",
        "-60.0eL 3.6gnaps  30.442716   42.763797\n",
        "-60.0eL 4.2gnaps  28.908446   55.649135\n",
        "-65.0eL 1.8gnaps  74.720563   76.471222\n",
        "-65.0eL 2.4gnaps  85.145140   90.601493\n",
        "-65.0eL 3.0gnaps  91.917711   97.887294\n",
        "-65.0eL 3.6gnaps  83.343316   99.973245\n",
        "-65.0eL 4.2gnaps  70.299196  100.904931\n",
        "\n"
       ]
      },
      {
       "metadata": {},
       "output_type": "pyout",
       "prompt_number": 39,
       "text": [
        "['Interburst Interval',\n",
        " 'Peaks per Burst',\n",
        " 'Total Cycle Time',\n",
        " 'Burst Duration',\n",
        " 'Intraburst Frequency']"
       ]
      }
     ],
     "prompt_number": 39
    },
    {
     "cell_type": "code",
     "collapsed": false,
     "input": [
      "which_meas_key = meas_keys[0]\n",
      "print which_meas_key\n",
      "data_columns = group_by_meas[which_meas_key]\n",
      "name1 = data_columns.iloc[:,0].Name\n",
      "frame1 = make_frame(data_columns.iloc[:,0]).fillna(0)\n",
      "frame2 = make_frame(data_columns.iloc[:,1]).fillna(0)\n",
      "print frame1\n",
      "print frame2"
     ],
     "language": "python",
     "metadata": {
      "run_control": {
       "read_only": false
      }
     },
     "outputs": [
      {
       "output_type": "stream",
       "stream": "stdout",
       "text": [
        "Interburst Interval\n",
        "-50.0eL 1.8gnaps    0.000000\n",
        "-50.0eL 2.4gnaps    0.000000\n",
        "-55.0eL 1.8gnaps    2.715760\n",
        "-55.0eL 2.4gnaps    1.876744\n",
        "-55.0eL 3.0gnaps    1.387140\n",
        "-55.0eL 3.6gnaps    1.045905\n",
        "-55.0eL 4.2gnaps    0.825758\n",
        "-60.0eL 1.8gnaps    3.340912\n",
        "-60.0eL 2.4gnaps    3.080207\n",
        "-60.0eL 3.0gnaps    2.450862\n",
        "-60.0eL 3.6gnaps    1.943853\n",
        "-60.0eL 4.2gnaps    1.632268\n",
        "-65.0eL 1.8gnaps    3.384449\n",
        "-65.0eL 2.4gnaps    3.332157\n",
        "-65.0eL 3.0gnaps    3.273519\n",
        "-65.0eL 3.6gnaps    3.063681\n",
        "-65.0eL 4.2gnaps    2.755195\n",
        "Name: yan, dtype: float64\n",
        "          -65       -60       -55  -50\n",
        "1.8  3.384449  3.340912  2.715760    0\n",
        "2.4  3.332157  3.080207  1.876744    0\n",
        "3.0  3.273519  2.450862  1.387140    0\n",
        "3.6  3.063681  1.943853  1.045905    0\n",
        "4.2  2.755195  1.632268  0.825758    0\n",
        "          -65       -60       -55       -50\n",
        "1.8  3.406132  3.342855  3.133716  1.162299\n",
        "2.4  3.356780  3.255766  2.359611  0.624704\n",
        "3.0  3.302461  2.876171  1.754134  0.000000\n",
        "3.6  3.225711  2.367033  1.406959  0.000000\n",
        "4.2  3.105877  1.274160  1.149653  0.000000\n"
       ]
      }
     ],
     "prompt_number": 46
    },
    {
     "cell_type": "code",
     "collapsed": false,
     "input": [
      "ms = [mf1,mf2]\n",
      "vn = min([i.min().min() for i in ms])\n",
      "vx = max([i.max().max() for i in ms])\n",
      "print vn, vx\n",
      "return\n",
      "\n",
      "eL_labels, gnap_labels = mf1.columns.values, mf1.index.values\n",
      "data = np.array(mf1.values)\n",
      "make_heat_plot(data, eL_labels, gnap_labels, which_meas_key,(vn,vx))\n",
      "\n",
      "eL_labels, gnap_labels = mf2.columns.values, mf2.index.values\n",
      "data = np.array(mf2.values)\n",
      "make_heat_plot(data, eL_labels, gnap_labels, which_meas_key,(vn,vx))\n",
      "plt.show()"
     ],
     "language": "python",
     "metadata": {
      "run_control": {
       "read_only": false
      }
     },
     "outputs": [
      {
       "output_type": "stream",
       "stream": "stdout",
       "text": [
        "0.0 3.40613238875\n"
       ]
      },
      {
       "ename": "SyntaxError",
       "evalue": "'return' outside function (<ipython-input-32-cd5248387828>, line 5)",
       "output_type": "pyerr",
       "traceback": [
        "\u001b[0;36m  File \u001b[0;32m\"<ipython-input-32-cd5248387828>\"\u001b[0;36m, line \u001b[0;32m5\u001b[0m\n\u001b[0;31m    return\u001b[0m\n\u001b[0;31mSyntaxError\u001b[0m\u001b[0;31m:\u001b[0m 'return' outside function\n"
       ]
      }
     ],
     "prompt_number": 32
    },
    {
     "cell_type": "code",
     "collapsed": false,
     "input": [
      "def make_heatmap_set(data):\n",
      "    "
     ],
     "language": "python",
     "metadata": {
      "run_control": {
       "read_only": false
      }
     },
     "outputs": []
    },
    {
     "cell_type": "code",
     "collapsed": false,
     "input": [
      "make_heatmap_set"
     ],
     "language": "python",
     "metadata": {
      "run_control": {
       "read_only": false
      }
     },
     "outputs": []
    }
   ],
   "metadata": {}
  }
 ]
}